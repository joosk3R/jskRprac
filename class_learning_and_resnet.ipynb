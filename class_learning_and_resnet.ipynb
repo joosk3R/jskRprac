{
  "nbformat": 4,
  "nbformat_minor": 0,
  "metadata": {
    "colab": {
      "provenance": [],
      "gpuType": "T4",
      "authorship_tag": "ABX9TyMTzxPDvtAJmlcoadSdloAt",
      "include_colab_link": true
    },
    "kernelspec": {
      "name": "python3",
      "display_name": "Python 3"
    },
    "language_info": {
      "name": "python"
    },
    "accelerator": "GPU"
  },
  "cells": [
    {
      "cell_type": "markdown",
      "metadata": {
        "id": "view-in-github",
        "colab_type": "text"
      },
      "source": [
        "<a href=\"https://colab.research.google.com/github/joosk3R/jskRprac/blob/main/class_learning_and_resnet.ipynb\" target=\"_parent\"><img src=\"https://colab.research.google.com/assets/colab-badge.svg\" alt=\"Open In Colab\"/></a>"
      ]
    },
    {
      "cell_type": "code",
      "execution_count": null,
      "metadata": {
        "colab": {
          "base_uri": "https://localhost:8080/"
        },
        "id": "yqg1p-NzxNTy",
        "outputId": "91950993-65ac-48f8-acd1-dbf50d3ef863"
      },
      "outputs": [
        {
          "output_type": "stream",
          "name": "stdout",
          "text": [
            "Godd Morning!\n",
            "Godd Morning!\n"
          ]
        }
      ],
      "source": [
        "class Hello:\n",
        "  def morning(self):\n",
        "    print(\"Godd Morning!\")\n",
        "  def night(self):\n",
        "    print(\"Good Night!\")\n",
        "a = Hello()\n",
        "b = Hello()\n",
        "a.morning()\n",
        "b.morning()"
      ]
    },
    {
      "cell_type": "code",
      "source": [
        "a= 3\n",
        "print(type(a))"
      ],
      "metadata": {
        "colab": {
          "base_uri": "https://localhost:8080/"
        },
        "id": "uMYQE3Nb5zf9",
        "outputId": "a49f591f-098b-414f-ebde-70797b5b5773"
      },
      "execution_count": null,
      "outputs": [
        {
          "output_type": "stream",
          "name": "stdout",
          "text": [
            "<class 'int'>\n"
          ]
        }
      ]
    },
    {
      "cell_type": "code",
      "source": [
        "class Hello:\n",
        "  def __init__ (self):\n",
        "    self.morn = \"Good Morning!\"\n",
        "  def morning(self):\n",
        "    print(self.morn)\n",
        "\n",
        "a = Hello()\n",
        "a.morning\n"
      ],
      "metadata": {
        "colab": {
          "base_uri": "https://localhost:8080/"
        },
        "id": "s3zphcDc6MbR",
        "outputId": "f3fc89c7-b470-4fa4-f064-eba649dcf245"
      },
      "execution_count": null,
      "outputs": [
        {
          "output_type": "execute_result",
          "data": {
            "text/plain": [
              "<bound method Hello.morning of <__main__.Hello object at 0x7b0b05a93670>>"
            ]
          },
          "metadata": {},
          "execution_count": 3
        }
      ]
    },
    {
      "cell_type": "code",
      "source": [
        "import torch\n",
        "import torch.nn as nn\n",
        "import torch.optim as optim\n",
        "import torch.nn.init as init\n",
        "\n",
        "import torchvision\n",
        "import torchvision.datasets as datasets\n",
        "import torchvision.transforms as transforms\n",
        "\n",
        "from torch.utils.data import DataLoader\n",
        "\n",
        "import numpy as np\n",
        "import matplotlib.pyplot as plt\n",
        "\n",
        "import tqdm\n",
        "from tqdm.auto import trange"
      ],
      "metadata": {
        "id": "YJQAqHx26nCN"
      },
      "execution_count": 1,
      "outputs": []
    },
    {
      "cell_type": "code",
      "source": [
        "batch_size = 50\n",
        "learning_rate = 0.0002\n",
        "num_epoch = 100"
      ],
      "metadata": {
        "id": "RuCNF3dVSvIx"
      },
      "execution_count": 2,
      "outputs": []
    },
    {
      "cell_type": "code",
      "source": [
        "transform = transforms.Compose([transforms.ToTensor(), transforms.Normalize((0.5, 0.5, 0.5), (0.5, 0.5, 0.5))])\n",
        "\n",
        "# define dataset\n",
        "cifar10_train = datasets.CIFAR10(root=\"../Data/\", train=True, transform=transform, target_transform=None, download=True)\n",
        "cifar10_test = datasets.CIFAR10(root=\"../Data/\", train=False, transform=transform, target_transform=None, download=True)\n",
        "\n",
        "# define loader\n",
        "train_loader = DataLoader(cifar10_train,batch_size=batch_size, shuffle=True, num_workers=2, drop_last=True)\n",
        "test_loader = DataLoader(cifar10_test,batch_size=batch_size, shuffle=False, num_workers=2, drop_last=True)\n",
        "\n",
        "# define classes\n",
        "classes = ('plane', 'car', 'bird', 'cat', 'deer', 'dog', 'frog', 'horse', 'ship', 'truck')"
      ],
      "metadata": {
        "colab": {
          "base_uri": "https://localhost:8080/"
        },
        "id": "zdPyyWuRSzPB",
        "outputId": "af2cd0c2-fd3b-4f06-d73e-c4a9ce8e9bb2"
      },
      "execution_count": 3,
      "outputs": [
        {
          "output_type": "stream",
          "name": "stdout",
          "text": [
            "Downloading https://www.cs.toronto.edu/~kriz/cifar-10-python.tar.gz to ../Data/cifar-10-python.tar.gz\n"
          ]
        },
        {
          "output_type": "stream",
          "name": "stderr",
          "text": [
            "100%|██████████| 170498071/170498071 [00:06<00:00, 26027502.06it/s]\n"
          ]
        },
        {
          "output_type": "stream",
          "name": "stdout",
          "text": [
            "Extracting ../Data/cifar-10-python.tar.gz to ../Data/\n",
            "Files already downloaded and verified\n"
          ]
        }
      ]
    },
    {
      "cell_type": "code",
      "source": [
        "class BasicBlock(nn.Moudule):\n",
        "  mul = 1\n",
        "  def __init__(self,in_planes,out_planes,stride = 1):\n",
        "    super(BasickBlock,sself).__init__()\n",
        "\n",
        "    self.conv1 = conv3x3(in_planes, out_planes,stride)\n",
        "    self.conv2 = conv3x3(out_planes, out_planes,1)\n",
        "\n",
        "    self.bn1 = nn.BatchNorm2d(out_planes)\n",
        "    self.bn2 = nn.BatchNorm2d(out_planes)\n",
        "\n",
        "    self.shortcut = nn.Sequential()\n",
        "    if stride != 1:\n",
        "      self.shortcut = nn.Sequential(\n",
        "          conv1x1(in_planes, out_planes, stride),\n",
        "          nn.BatchNorm2d(out_planes)\n",
        "      )\n",
        "    def forward(self,x):\n",
        "      out = self.conv1(x)\n",
        "      out = self.bn1(out)\n",
        "      out = F.relu(out)\n",
        "      out = self.conv2(out)\n",
        "      out+=self.shortcut(x)\n",
        "      out = F.relu(out)\n",
        "      return out"
      ],
      "metadata": {
        "id": "ZvqcXolvSzaa"
      },
      "execution_count": null,
      "outputs": []
    },
    {
      "cell_type": "code",
      "source": [
        "!pip install -U albumentations\n",
        "\n",
        "import torch\n",
        "print(torch.__version__)\n",
        "\n",
        "import torch.nn as nn\n",
        "import torch.optim as optim\n",
        "\n",
        "device = torch.device(\"cuda:0\" if torch.cuda.is_available() else \"cpu\")\n",
        "torch.manual_seed(53)\n",
        "if device == 'cuda':\n",
        "    torch.cuda.manual_seed_all(53)\n",
        "\n",
        "from torch.utils.data import Dataset\n",
        "from torch.utils.data import DataLoader\n",
        "\n",
        "from PIL import Image\n",
        "import numpy as np\n",
        "import math\n",
        "\n",
        "############## Load Data ##############\n",
        "import zipfile\n",
        "import os\n",
        "from glob import glob\n",
        "import json\n",
        "\n",
        "############## seed ##############\n",
        "import random\n",
        "random.seed(53)\n",
        "\n",
        "############## Transforms ##############\n",
        "import albumentations as A\n",
        "from albumentations.pytorch.transforms import ToTensor"
      ],
      "metadata": {
        "id": "EI3K9qjPVavq"
      },
      "execution_count": null,
      "outputs": []
    }
  ]
}