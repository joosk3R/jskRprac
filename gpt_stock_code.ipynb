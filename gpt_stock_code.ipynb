{
  "nbformat": 4,
  "nbformat_minor": 0,
  "metadata": {
    "colab": {
      "provenance": [],
      "authorship_tag": "ABX9TyMc5U2V+g4xAR6MmipMCOPL",
      "include_colab_link": true
    },
    "kernelspec": {
      "name": "python3",
      "display_name": "Python 3"
    },
    "language_info": {
      "name": "python"
    }
  },
  "cells": [
    {
      "cell_type": "markdown",
      "metadata": {
        "id": "view-in-github",
        "colab_type": "text"
      },
      "source": [
        "<a href=\"https://colab.research.google.com/github/joosk3R/jskRprac/blob/main/gpt_stock_code.ipynb\" target=\"_parent\"><img src=\"https://colab.research.google.com/assets/colab-badge.svg\" alt=\"Open In Colab\"/></a>"
      ]
    },
    {
      "cell_type": "code",
      "source": [
        "!pip install schedule"
      ],
      "metadata": {
        "colab": {
          "base_uri": "https://localhost:8080/"
        },
        "id": "1KykvgSc9-_J",
        "outputId": "95229960-8c6f-40db-b129-fabffbc6add8"
      },
      "execution_count": null,
      "outputs": [
        {
          "output_type": "stream",
          "name": "stdout",
          "text": [
            "Collecting schedule\n",
            "  Downloading schedule-1.2.0-py2.py3-none-any.whl (11 kB)\n",
            "Installing collected packages: schedule\n",
            "Successfully installed schedule-1.2.0\n"
          ]
        }
      ]
    },
    {
      "cell_type": "code",
      "execution_count": null,
      "metadata": {
        "colab": {
          "base_uri": "https://localhost:8080/",
          "height": 368
        },
        "id": "NlTlxvRJ9vJO",
        "outputId": "e4e24c08-74c3-44c4-8e51-377cc4c5c7c5"
      },
      "outputs": [
        {
          "output_type": "stream",
          "name": "stdout",
          "text": [
            "           날짜       퓨처테크\n",
            "0  2023-08-11  54.600000\n",
            "1  2023-08-12  58.300000\n",
            "2  2023-08-13  58.772462\n",
            "           날짜       퓨처테크\n",
            "0  2023-08-11  54.600000\n",
            "1  2023-08-12  58.300000\n",
            "2  2023-08-13  58.772462\n",
            "3  2023-08-14  58.901074\n"
          ]
        },
        {
          "output_type": "error",
          "ename": "KeyboardInterrupt",
          "evalue": "ignored",
          "traceback": [
            "\u001b[0;31m---------------------------------------------------------------------------\u001b[0m",
            "\u001b[0;31mKeyboardInterrupt\u001b[0m                         Traceback (most recent call last)",
            "\u001b[0;32m<ipython-input-6-4b2ce4d29d0d>\u001b[0m in \u001b[0;36m<cell line: 56>\u001b[0;34m()\u001b[0m\n\u001b[1;32m     56\u001b[0m \u001b[0;32mwhile\u001b[0m \u001b[0;32mTrue\u001b[0m\u001b[0;34m:\u001b[0m\u001b[0;34m\u001b[0m\u001b[0;34m\u001b[0m\u001b[0m\n\u001b[1;32m     57\u001b[0m     \u001b[0mschedule\u001b[0m\u001b[0;34m.\u001b[0m\u001b[0mrun_pending\u001b[0m\u001b[0;34m(\u001b[0m\u001b[0;34m)\u001b[0m\u001b[0;34m\u001b[0m\u001b[0;34m\u001b[0m\u001b[0m\n\u001b[0;32m---> 58\u001b[0;31m     \u001b[0mtime\u001b[0m\u001b[0;34m.\u001b[0m\u001b[0msleep\u001b[0m\u001b[0;34m(\u001b[0m\u001b[0;36m1\u001b[0m\u001b[0;34m)\u001b[0m\u001b[0;34m\u001b[0m\u001b[0;34m\u001b[0m\u001b[0m\n\u001b[0m",
            "\u001b[0;31mKeyboardInterrupt\u001b[0m: "
          ]
        }
      ],
      "source": [
        "import pandas as pd\n",
        "import random\n",
        "from datetime import datetime, timedelta\n",
        "\n",
        "# 초기 주가 데이터 생성 (가상 데이터)\n",
        "data = {\n",
        "    '날짜': ['2023-08-11', '2023-08-12'],\n",
        "    '퓨처테크': [54.6, 58.3],\n",
        "    # 다른 주식들도 추가해주세요...\n",
        "}\n",
        "\n",
        "# 뉴스 기사 생성 (가상 데이터)\n",
        "news_articles = [\n",
        "    \"오늘 특별한 이유 없이 주식이 떨어졌어요.\",\n",
        "    \"경제 전문가들은 주식 시장에 긍정적인 전망을 제시했습니다.\",\n",
        "    # 더 많은 뉴스 기사들을 추가해주세요...\n",
        "]\n",
        "\n",
        "# 스케줄러를 사용하여 주기적으로 업데이트하는 함수\n",
        "def update_prices():\n",
        "    global data\n",
        "\n",
        "    # 새로운 날짜 계산\n",
        "    last_date = datetime.strptime(data['날짜'][-1], '%Y-%m-%d')\n",
        "    new_date = last_date + timedelta(days=1)\n",
        "    new_date_str = new_date.strftime('%Y-%m-%d')\n",
        "\n",
        "    # 뉴스 영향력 계산 (랜덤하게 설정)\n",
        "    news_influence = {}\n",
        "    for stock in data.keys():\n",
        "        if stock != '날짜':\n",
        "            news_influence[stock] = random.uniform(-1, 1)  # -1부터 1 사이의 랜덤한 값으로 설정\n",
        "\n",
        "    # 주가 변동 계산\n",
        "    for stock in data.keys():\n",
        "        if stock != '날짜':\n",
        "            influence = news_influence.get(stock, 0)\n",
        "            prev_price = data[stock][-1]\n",
        "            new_price = prev_price * (1 + influence * 0.01)  # 1% 변동 예시로 설정\n",
        "            data[stock].append(new_price)\n",
        "\n",
        "    # 새로운 날짜와 주가 데이터 추가\n",
        "    data['날짜'].append(new_date_str)\n",
        "\n",
        "    # 데이터 프레임 업데이트\n",
        "    df = pd.DataFrame(data)\n",
        "    print(df)\n",
        "\n",
        "# 주기적으로 업데이트하는 스케줄러 설정\n",
        "import schedule\n",
        "import time\n",
        "\n",
        "schedule.every(0.5).minutes.do(update_prices)\n",
        "\n",
        "# 스케줄러 실행\n",
        "while True:\n",
        "    schedule.run_pending()\n",
        "    time.sleep(1)\n"
      ]
    },
    {
      "cell_type": "code",
      "source": [],
      "metadata": {
        "id": "islk-7MU99D3"
      },
      "execution_count": null,
      "outputs": []
    }
  ]
}