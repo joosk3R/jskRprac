{
  "nbformat": 4,
  "nbformat_minor": 0,
  "metadata": {
    "colab": {
      "provenance": [],
      "gpuType": "T4",
      "mount_file_id": "1l1WZpDZd9jdsSML4OO1TXeblxnQ0YWFD",
      "authorship_tag": "ABX9TyMVtmCwp+X4233+sVaHzFLh",
      "include_colab_link": true
    },
    "kernelspec": {
      "name": "python3",
      "display_name": "Python 3"
    },
    "language_info": {
      "name": "python"
    },
    "gpuClass": "standard",
    "widgets": {
      "application/vnd.jupyter.widget-state+json": {
        "3f54408d79da48feb37d679e57127415": {
          "model_module": "@jupyter-widgets/controls",
          "model_name": "HBoxModel",
          "model_module_version": "1.5.0",
          "state": {
            "_dom_classes": [],
            "_model_module": "@jupyter-widgets/controls",
            "_model_module_version": "1.5.0",
            "_model_name": "HBoxModel",
            "_view_count": null,
            "_view_module": "@jupyter-widgets/controls",
            "_view_module_version": "1.5.0",
            "_view_name": "HBoxView",
            "box_style": "",
            "children": [
              "IPY_MODEL_d70b7b27d6724c988b3b81730664d17c",
              "IPY_MODEL_0855a12573824b8fb86097076093da00",
              "IPY_MODEL_523415dadd004c6698c3ac7ed87ce640"
            ],
            "layout": "IPY_MODEL_8529341c824d4859812aaf70bfe14a85"
          }
        },
        "d70b7b27d6724c988b3b81730664d17c": {
          "model_module": "@jupyter-widgets/controls",
          "model_name": "HTMLModel",
          "model_module_version": "1.5.0",
          "state": {
            "_dom_classes": [],
            "_model_module": "@jupyter-widgets/controls",
            "_model_module_version": "1.5.0",
            "_model_name": "HTMLModel",
            "_view_count": null,
            "_view_module": "@jupyter-widgets/controls",
            "_view_module_version": "1.5.0",
            "_view_name": "HTMLView",
            "description": "",
            "description_tooltip": null,
            "layout": "IPY_MODEL_9bfe7489501545a2b5961a561296bde6",
            "placeholder": "​",
            "style": "IPY_MODEL_59a9134accf54a08b4e07595f5a5ee0b",
            "value": "Processing: 100%"
          }
        },
        "0855a12573824b8fb86097076093da00": {
          "model_module": "@jupyter-widgets/controls",
          "model_name": "FloatProgressModel",
          "model_module_version": "1.5.0",
          "state": {
            "_dom_classes": [],
            "_model_module": "@jupyter-widgets/controls",
            "_model_module_version": "1.5.0",
            "_model_name": "FloatProgressModel",
            "_view_count": null,
            "_view_module": "@jupyter-widgets/controls",
            "_view_module_version": "1.5.0",
            "_view_name": "ProgressView",
            "bar_style": "",
            "description": "",
            "description_tooltip": null,
            "layout": "IPY_MODEL_fea85032a1f84cdc9ad87f495e5f76e7",
            "max": 73,
            "min": 0,
            "orientation": "horizontal",
            "style": "IPY_MODEL_57270f2908ec487cbffc01d34e4560f3",
            "value": 73
          }
        },
        "523415dadd004c6698c3ac7ed87ce640": {
          "model_module": "@jupyter-widgets/controls",
          "model_name": "HTMLModel",
          "model_module_version": "1.5.0",
          "state": {
            "_dom_classes": [],
            "_model_module": "@jupyter-widgets/controls",
            "_model_module_version": "1.5.0",
            "_model_name": "HTMLModel",
            "_view_count": null,
            "_view_module": "@jupyter-widgets/controls",
            "_view_module_version": "1.5.0",
            "_view_name": "HTMLView",
            "description": "",
            "description_tooltip": null,
            "layout": "IPY_MODEL_41d30f3e77a442689594c1b78a825ccb",
            "placeholder": "​",
            "style": "IPY_MODEL_3a07a89934994571954cd41d278cdbcb",
            "value": " 73/73 [17:52&lt;00:00, 21.22s/it]"
          }
        },
        "8529341c824d4859812aaf70bfe14a85": {
          "model_module": "@jupyter-widgets/base",
          "model_name": "LayoutModel",
          "model_module_version": "1.2.0",
          "state": {
            "_model_module": "@jupyter-widgets/base",
            "_model_module_version": "1.2.0",
            "_model_name": "LayoutModel",
            "_view_count": null,
            "_view_module": "@jupyter-widgets/base",
            "_view_module_version": "1.2.0",
            "_view_name": "LayoutView",
            "align_content": null,
            "align_items": null,
            "align_self": null,
            "border": null,
            "bottom": null,
            "display": null,
            "flex": null,
            "flex_flow": null,
            "grid_area": null,
            "grid_auto_columns": null,
            "grid_auto_flow": null,
            "grid_auto_rows": null,
            "grid_column": null,
            "grid_gap": null,
            "grid_row": null,
            "grid_template_areas": null,
            "grid_template_columns": null,
            "grid_template_rows": null,
            "height": null,
            "justify_content": null,
            "justify_items": null,
            "left": null,
            "margin": null,
            "max_height": null,
            "max_width": null,
            "min_height": null,
            "min_width": null,
            "object_fit": null,
            "object_position": null,
            "order": null,
            "overflow": null,
            "overflow_x": null,
            "overflow_y": null,
            "padding": null,
            "right": null,
            "top": null,
            "visibility": "hidden",
            "width": null
          }
        },
        "9bfe7489501545a2b5961a561296bde6": {
          "model_module": "@jupyter-widgets/base",
          "model_name": "LayoutModel",
          "model_module_version": "1.2.0",
          "state": {
            "_model_module": "@jupyter-widgets/base",
            "_model_module_version": "1.2.0",
            "_model_name": "LayoutModel",
            "_view_count": null,
            "_view_module": "@jupyter-widgets/base",
            "_view_module_version": "1.2.0",
            "_view_name": "LayoutView",
            "align_content": null,
            "align_items": null,
            "align_self": null,
            "border": null,
            "bottom": null,
            "display": null,
            "flex": null,
            "flex_flow": null,
            "grid_area": null,
            "grid_auto_columns": null,
            "grid_auto_flow": null,
            "grid_auto_rows": null,
            "grid_column": null,
            "grid_gap": null,
            "grid_row": null,
            "grid_template_areas": null,
            "grid_template_columns": null,
            "grid_template_rows": null,
            "height": null,
            "justify_content": null,
            "justify_items": null,
            "left": null,
            "margin": null,
            "max_height": null,
            "max_width": null,
            "min_height": null,
            "min_width": null,
            "object_fit": null,
            "object_position": null,
            "order": null,
            "overflow": null,
            "overflow_x": null,
            "overflow_y": null,
            "padding": null,
            "right": null,
            "top": null,
            "visibility": null,
            "width": null
          }
        },
        "59a9134accf54a08b4e07595f5a5ee0b": {
          "model_module": "@jupyter-widgets/controls",
          "model_name": "DescriptionStyleModel",
          "model_module_version": "1.5.0",
          "state": {
            "_model_module": "@jupyter-widgets/controls",
            "_model_module_version": "1.5.0",
            "_model_name": "DescriptionStyleModel",
            "_view_count": null,
            "_view_module": "@jupyter-widgets/base",
            "_view_module_version": "1.2.0",
            "_view_name": "StyleView",
            "description_width": ""
          }
        },
        "fea85032a1f84cdc9ad87f495e5f76e7": {
          "model_module": "@jupyter-widgets/base",
          "model_name": "LayoutModel",
          "model_module_version": "1.2.0",
          "state": {
            "_model_module": "@jupyter-widgets/base",
            "_model_module_version": "1.2.0",
            "_model_name": "LayoutModel",
            "_view_count": null,
            "_view_module": "@jupyter-widgets/base",
            "_view_module_version": "1.2.0",
            "_view_name": "LayoutView",
            "align_content": null,
            "align_items": null,
            "align_self": null,
            "border": null,
            "bottom": null,
            "display": null,
            "flex": null,
            "flex_flow": null,
            "grid_area": null,
            "grid_auto_columns": null,
            "grid_auto_flow": null,
            "grid_auto_rows": null,
            "grid_column": null,
            "grid_gap": null,
            "grid_row": null,
            "grid_template_areas": null,
            "grid_template_columns": null,
            "grid_template_rows": null,
            "height": null,
            "justify_content": null,
            "justify_items": null,
            "left": null,
            "margin": null,
            "max_height": null,
            "max_width": null,
            "min_height": null,
            "min_width": null,
            "object_fit": null,
            "object_position": null,
            "order": null,
            "overflow": null,
            "overflow_x": null,
            "overflow_y": null,
            "padding": null,
            "right": null,
            "top": null,
            "visibility": null,
            "width": null
          }
        },
        "57270f2908ec487cbffc01d34e4560f3": {
          "model_module": "@jupyter-widgets/controls",
          "model_name": "ProgressStyleModel",
          "model_module_version": "1.5.0",
          "state": {
            "_model_module": "@jupyter-widgets/controls",
            "_model_module_version": "1.5.0",
            "_model_name": "ProgressStyleModel",
            "_view_count": null,
            "_view_module": "@jupyter-widgets/base",
            "_view_module_version": "1.2.0",
            "_view_name": "StyleView",
            "bar_color": null,
            "description_width": ""
          }
        },
        "41d30f3e77a442689594c1b78a825ccb": {
          "model_module": "@jupyter-widgets/base",
          "model_name": "LayoutModel",
          "model_module_version": "1.2.0",
          "state": {
            "_model_module": "@jupyter-widgets/base",
            "_model_module_version": "1.2.0",
            "_model_name": "LayoutModel",
            "_view_count": null,
            "_view_module": "@jupyter-widgets/base",
            "_view_module_version": "1.2.0",
            "_view_name": "LayoutView",
            "align_content": null,
            "align_items": null,
            "align_self": null,
            "border": null,
            "bottom": null,
            "display": null,
            "flex": null,
            "flex_flow": null,
            "grid_area": null,
            "grid_auto_columns": null,
            "grid_auto_flow": null,
            "grid_auto_rows": null,
            "grid_column": null,
            "grid_gap": null,
            "grid_row": null,
            "grid_template_areas": null,
            "grid_template_columns": null,
            "grid_template_rows": null,
            "height": null,
            "justify_content": null,
            "justify_items": null,
            "left": null,
            "margin": null,
            "max_height": null,
            "max_width": null,
            "min_height": null,
            "min_width": null,
            "object_fit": null,
            "object_position": null,
            "order": null,
            "overflow": null,
            "overflow_x": null,
            "overflow_y": null,
            "padding": null,
            "right": null,
            "top": null,
            "visibility": null,
            "width": null
          }
        },
        "3a07a89934994571954cd41d278cdbcb": {
          "model_module": "@jupyter-widgets/controls",
          "model_name": "DescriptionStyleModel",
          "model_module_version": "1.5.0",
          "state": {
            "_model_module": "@jupyter-widgets/controls",
            "_model_module_version": "1.5.0",
            "_model_name": "DescriptionStyleModel",
            "_view_count": null,
            "_view_module": "@jupyter-widgets/base",
            "_view_module_version": "1.2.0",
            "_view_name": "StyleView",
            "description_width": ""
          }
        }
      }
    }
  },
  "cells": [
    {
      "cell_type": "markdown",
      "metadata": {
        "id": "view-in-github",
        "colab_type": "text"
      },
      "source": [
        "<a href=\"https://colab.research.google.com/github/joosk3R/jskRprac/blob/main/dacon_crime_category_classifier.ipynb\" target=\"_parent\"><img src=\"https://colab.research.google.com/assets/colab-badge.svg\" alt=\"Open In Colab\"/></a>"
      ]
    },
    {
      "cell_type": "code",
      "source": [
        "!apt-get update -qq\n",
        "!apt-get install fonts-nanum* -qq\n",
        "import matplotlib.pyplot as plt\n",
        "import matplotlib.font_manager as fm\n"
      ],
      "metadata": {
        "id": "Pfcxm4BJqMxW",
        "colab": {
          "base_uri": "https://localhost:8080/"
        },
        "outputId": "3bfa5b30-8764-4055-9460-92963b6bb935"
      },
      "execution_count": null,
      "outputs": [
        {
          "output_type": "stream",
          "name": "stdout",
          "text": [
            "^C\n",
            "^C\n"
          ]
        }
      ]
    },
    {
      "cell_type": "code",
      "source": [
        "import matplotlib.pyplot as plt\n",
        "import matplotlib.font_manager as fm\n",
        "from pathlib import Path\n",
        "import matplotlib.patches as mpatches\n",
        "\n",
        "font_path = Path(\"/content/drive/MyDrive/NanumGothic.otf\")\n",
        "fontprop = fm.FontProperties(fname=font_path, size=10)"
      ],
      "metadata": {
        "id": "ug4IbZX8wEsz"
      },
      "execution_count": null,
      "outputs": []
    },
    {
      "cell_type": "code",
      "source": [],
      "metadata": {
        "id": "_MwaxwDoxh11"
      },
      "execution_count": null,
      "outputs": []
    },
    {
      "cell_type": "code",
      "source": [
        "pip install mljar-supervised\n"
      ],
      "metadata": {
        "id": "Atf7pqXZqSCo"
      },
      "execution_count": null,
      "outputs": []
    },
    {
      "cell_type": "code",
      "source": [],
      "metadata": {
        "id": "Fn3fOVXHxhuS"
      },
      "execution_count": null,
      "outputs": []
    },
    {
      "cell_type": "code",
      "source": [
        "import pandas as pd\n",
        "import seaborn as sns\n",
        "\n",
        "import matplotlib.pyplot as plt\n"
      ],
      "metadata": {
        "id": "TFWuPVPesJln"
      },
      "execution_count": null,
      "outputs": []
    },
    {
      "cell_type": "code",
      "execution_count": null,
      "metadata": {
        "id": "M39bKHMlorNl"
      },
      "outputs": [],
      "source": [
        "from sklearn.svm import SVR\n",
        "from sklearn.linear_model import LinearRegression\n",
        "from sklearn.tree import DecisionTreeRegressor, ExtraTreeRegressor\n",
        "from sklearn.ensemble import RandomForestRegressor, ExtraTreesRegressor, BaggingRegressor\n",
        "from sklearn.ensemble import AdaBoostRegressor, GradientBoostingRegressor, HistGradientBoostingRegressor\n",
        "from sklearn.neural_network import MLPRegressor\n",
        "from xgboost import XGBRegressor\n",
        "from lightgbm import LGBMRegressor\n",
        "from sklearn.model_selection import train_test_split, KFold\n",
        "from sklearn.preprocessing import StandardScaler, MinMaxScaler, RobustScaler\n",
        "from sklearn.metrics import mean_squared_error\n",
        "from sklearn.preprocessing import StandardScaler\n",
        "from sklearn.pipeline import make_pipeline\n",
        "from sklearn.ensemble import StackingRegressor\n",
        "import pandas as pd\n",
        "import random\n",
        "import os\n",
        "import numpy as np\n",
        "from sklearn.preprocessing import LabelEncoder\n",
        "from sklearn.tree import DecisionTreeRegressor\n",
        "from sklearn.model_selection import cross_val_score\n",
        "from sklearn.model_selection import cross_validate\n",
        "from sklearn.preprocessing import StandardScaler, MinMaxScaler, RobustScaler\n",
        "from xgboost import XGBRegressor\n",
        "from sklearn.preprocessing import PolynomialFeatures\n",
        "from sklearn.linear_model import Lasso\n",
        "from sklearn.feature_selection import SelectFromModel\n",
        "from supervised.automl import AutoML"
      ]
    },
    {
      "cell_type": "code",
      "source": [
        "\n",
        "def seed_everything(seed):\n",
        "    random.seed(seed)\n",
        "    os.environ['PYTHONHASHSEED'] = str(seed)\n",
        "    np.random.seed(seed)\n",
        "\n",
        "seed_everything(1004) # Seed 고정"
      ],
      "metadata": {
        "id": "17qFwkGAqLmJ"
      },
      "execution_count": null,
      "outputs": []
    },
    {
      "cell_type": "code",
      "source": [
        "train = pd.read_csv(\"/content/drive/MyDrive/open (6)/train.csv\")\n",
        "test = pd.read_csv(\"/content/drive/MyDrive/open (6)/test.csv\")"
      ],
      "metadata": {
        "id": "ccbZkmn8rLta"
      },
      "execution_count": null,
      "outputs": []
    },
    {
      "cell_type": "code",
      "source": [
        "train.describe()"
      ],
      "metadata": {
        "colab": {
          "base_uri": "https://localhost:8080/",
          "height": 364
        },
        "id": "9thZXRpMrY6Z",
        "outputId": "66e749a1-9bef-416f-edda-b0a157c04e86"
      },
      "execution_count": null,
      "outputs": [
        {
          "output_type": "execute_result",
          "data": {
            "text/plain": [
              "                  월            시간         소관경찰서          소관지역        사건발생거리  \\\n",
              "count  84406.000000  84406.000000  84406.000000  84406.000000  84406.000000   \n",
              "mean       6.430195      6.769507   1060.027581     26.881726      1.912424   \n",
              "std        3.108302      3.566390    698.380485     13.870968      0.958556   \n",
              "min        1.000000      1.000000     26.000000      5.000000      0.012269   \n",
              "25%        4.000000      4.000000    526.000000     13.000000      1.209985   \n",
              "50%        7.000000      7.000000    937.000000     27.000000      1.822279   \n",
              "75%        9.000000     10.000000   1638.000000     38.000000      2.476528   \n",
              "max       12.000000     12.000000   2450.000000     54.000000      4.998936   \n",
              "\n",
              "            강수량(mm)       강설량(mm)       적설량(cm)            풍향            안개  \\\n",
              "count  84406.000000  84406.000000  84406.000000  84406.000000  84406.000000   \n",
              "mean      24.608776      2.284407     23.430503    186.926107      0.385423   \n",
              "std       62.711211     15.852881     85.199896     98.299485      0.486698   \n",
              "min        0.000000      0.000000      0.000000     10.000000      0.000000   \n",
              "25%        0.000000      0.000000      0.000000     95.000000      0.000000   \n",
              "50%        0.625000      0.000000      0.000000    205.000000      0.000000   \n",
              "75%       18.571429      0.000000      0.000000    260.000000      1.000000   \n",
              "max      614.875000    295.000000    649.800000    360.000000      1.000000   \n",
              "\n",
              "               짙은안개            번개          진눈깨비            서리         연기/연무  \\\n",
              "count  84406.000000  84406.000000  84406.000000  84406.000000  84406.000000   \n",
              "mean       0.017842      0.144042      0.020330      0.010260      0.210755   \n",
              "std        0.132379      0.351134      0.141128      0.100771      0.407847   \n",
              "min        0.000000      0.000000      0.000000      0.000000      0.000000   \n",
              "25%        0.000000      0.000000      0.000000      0.000000      0.000000   \n",
              "50%        0.000000      0.000000      0.000000      0.000000      0.000000   \n",
              "75%        0.000000      0.000000      0.000000      0.000000      0.000000   \n",
              "max        1.000000      1.000000      1.000000      1.000000      1.000000   \n",
              "\n",
              "                눈날림        TARGET  \n",
              "count  84406.000000  84406.000000  \n",
              "mean       0.008921      0.835355  \n",
              "std        0.094030      0.819762  \n",
              "min        0.000000      0.000000  \n",
              "25%        0.000000      0.000000  \n",
              "50%        0.000000      1.000000  \n",
              "75%        0.000000      2.000000  \n",
              "max        1.000000      2.000000  "
            ],
            "text/html": [
              "\n",
              "  <div id=\"df-1561d1dd-59c0-41cf-9009-c54777e70031\">\n",
              "    <div class=\"colab-df-container\">\n",
              "      <div>\n",
              "<style scoped>\n",
              "    .dataframe tbody tr th:only-of-type {\n",
              "        vertical-align: middle;\n",
              "    }\n",
              "\n",
              "    .dataframe tbody tr th {\n",
              "        vertical-align: top;\n",
              "    }\n",
              "\n",
              "    .dataframe thead th {\n",
              "        text-align: right;\n",
              "    }\n",
              "</style>\n",
              "<table border=\"1\" class=\"dataframe\">\n",
              "  <thead>\n",
              "    <tr style=\"text-align: right;\">\n",
              "      <th></th>\n",
              "      <th>월</th>\n",
              "      <th>시간</th>\n",
              "      <th>소관경찰서</th>\n",
              "      <th>소관지역</th>\n",
              "      <th>사건발생거리</th>\n",
              "      <th>강수량(mm)</th>\n",
              "      <th>강설량(mm)</th>\n",
              "      <th>적설량(cm)</th>\n",
              "      <th>풍향</th>\n",
              "      <th>안개</th>\n",
              "      <th>짙은안개</th>\n",
              "      <th>번개</th>\n",
              "      <th>진눈깨비</th>\n",
              "      <th>서리</th>\n",
              "      <th>연기/연무</th>\n",
              "      <th>눈날림</th>\n",
              "      <th>TARGET</th>\n",
              "    </tr>\n",
              "  </thead>\n",
              "  <tbody>\n",
              "    <tr>\n",
              "      <th>count</th>\n",
              "      <td>84406.000000</td>\n",
              "      <td>84406.000000</td>\n",
              "      <td>84406.000000</td>\n",
              "      <td>84406.000000</td>\n",
              "      <td>84406.000000</td>\n",
              "      <td>84406.000000</td>\n",
              "      <td>84406.000000</td>\n",
              "      <td>84406.000000</td>\n",
              "      <td>84406.000000</td>\n",
              "      <td>84406.000000</td>\n",
              "      <td>84406.000000</td>\n",
              "      <td>84406.000000</td>\n",
              "      <td>84406.000000</td>\n",
              "      <td>84406.000000</td>\n",
              "      <td>84406.000000</td>\n",
              "      <td>84406.000000</td>\n",
              "      <td>84406.000000</td>\n",
              "    </tr>\n",
              "    <tr>\n",
              "      <th>mean</th>\n",
              "      <td>6.430195</td>\n",
              "      <td>6.769507</td>\n",
              "      <td>1060.027581</td>\n",
              "      <td>26.881726</td>\n",
              "      <td>1.912424</td>\n",
              "      <td>24.608776</td>\n",
              "      <td>2.284407</td>\n",
              "      <td>23.430503</td>\n",
              "      <td>186.926107</td>\n",
              "      <td>0.385423</td>\n",
              "      <td>0.017842</td>\n",
              "      <td>0.144042</td>\n",
              "      <td>0.020330</td>\n",
              "      <td>0.010260</td>\n",
              "      <td>0.210755</td>\n",
              "      <td>0.008921</td>\n",
              "      <td>0.835355</td>\n",
              "    </tr>\n",
              "    <tr>\n",
              "      <th>std</th>\n",
              "      <td>3.108302</td>\n",
              "      <td>3.566390</td>\n",
              "      <td>698.380485</td>\n",
              "      <td>13.870968</td>\n",
              "      <td>0.958556</td>\n",
              "      <td>62.711211</td>\n",
              "      <td>15.852881</td>\n",
              "      <td>85.199896</td>\n",
              "      <td>98.299485</td>\n",
              "      <td>0.486698</td>\n",
              "      <td>0.132379</td>\n",
              "      <td>0.351134</td>\n",
              "      <td>0.141128</td>\n",
              "      <td>0.100771</td>\n",
              "      <td>0.407847</td>\n",
              "      <td>0.094030</td>\n",
              "      <td>0.819762</td>\n",
              "    </tr>\n",
              "    <tr>\n",
              "      <th>min</th>\n",
              "      <td>1.000000</td>\n",
              "      <td>1.000000</td>\n",
              "      <td>26.000000</td>\n",
              "      <td>5.000000</td>\n",
              "      <td>0.012269</td>\n",
              "      <td>0.000000</td>\n",
              "      <td>0.000000</td>\n",
              "      <td>0.000000</td>\n",
              "      <td>10.000000</td>\n",
              "      <td>0.000000</td>\n",
              "      <td>0.000000</td>\n",
              "      <td>0.000000</td>\n",
              "      <td>0.000000</td>\n",
              "      <td>0.000000</td>\n",
              "      <td>0.000000</td>\n",
              "      <td>0.000000</td>\n",
              "      <td>0.000000</td>\n",
              "    </tr>\n",
              "    <tr>\n",
              "      <th>25%</th>\n",
              "      <td>4.000000</td>\n",
              "      <td>4.000000</td>\n",
              "      <td>526.000000</td>\n",
              "      <td>13.000000</td>\n",
              "      <td>1.209985</td>\n",
              "      <td>0.000000</td>\n",
              "      <td>0.000000</td>\n",
              "      <td>0.000000</td>\n",
              "      <td>95.000000</td>\n",
              "      <td>0.000000</td>\n",
              "      <td>0.000000</td>\n",
              "      <td>0.000000</td>\n",
              "      <td>0.000000</td>\n",
              "      <td>0.000000</td>\n",
              "      <td>0.000000</td>\n",
              "      <td>0.000000</td>\n",
              "      <td>0.000000</td>\n",
              "    </tr>\n",
              "    <tr>\n",
              "      <th>50%</th>\n",
              "      <td>7.000000</td>\n",
              "      <td>7.000000</td>\n",
              "      <td>937.000000</td>\n",
              "      <td>27.000000</td>\n",
              "      <td>1.822279</td>\n",
              "      <td>0.625000</td>\n",
              "      <td>0.000000</td>\n",
              "      <td>0.000000</td>\n",
              "      <td>205.000000</td>\n",
              "      <td>0.000000</td>\n",
              "      <td>0.000000</td>\n",
              "      <td>0.000000</td>\n",
              "      <td>0.000000</td>\n",
              "      <td>0.000000</td>\n",
              "      <td>0.000000</td>\n",
              "      <td>0.000000</td>\n",
              "      <td>1.000000</td>\n",
              "    </tr>\n",
              "    <tr>\n",
              "      <th>75%</th>\n",
              "      <td>9.000000</td>\n",
              "      <td>10.000000</td>\n",
              "      <td>1638.000000</td>\n",
              "      <td>38.000000</td>\n",
              "      <td>2.476528</td>\n",
              "      <td>18.571429</td>\n",
              "      <td>0.000000</td>\n",
              "      <td>0.000000</td>\n",
              "      <td>260.000000</td>\n",
              "      <td>1.000000</td>\n",
              "      <td>0.000000</td>\n",
              "      <td>0.000000</td>\n",
              "      <td>0.000000</td>\n",
              "      <td>0.000000</td>\n",
              "      <td>0.000000</td>\n",
              "      <td>0.000000</td>\n",
              "      <td>2.000000</td>\n",
              "    </tr>\n",
              "    <tr>\n",
              "      <th>max</th>\n",
              "      <td>12.000000</td>\n",
              "      <td>12.000000</td>\n",
              "      <td>2450.000000</td>\n",
              "      <td>54.000000</td>\n",
              "      <td>4.998936</td>\n",
              "      <td>614.875000</td>\n",
              "      <td>295.000000</td>\n",
              "      <td>649.800000</td>\n",
              "      <td>360.000000</td>\n",
              "      <td>1.000000</td>\n",
              "      <td>1.000000</td>\n",
              "      <td>1.000000</td>\n",
              "      <td>1.000000</td>\n",
              "      <td>1.000000</td>\n",
              "      <td>1.000000</td>\n",
              "      <td>1.000000</td>\n",
              "      <td>2.000000</td>\n",
              "    </tr>\n",
              "  </tbody>\n",
              "</table>\n",
              "</div>\n",
              "      <button class=\"colab-df-convert\" onclick=\"convertToInteractive('df-1561d1dd-59c0-41cf-9009-c54777e70031')\"\n",
              "              title=\"Convert this dataframe to an interactive table.\"\n",
              "              style=\"display:none;\">\n",
              "        \n",
              "  <svg xmlns=\"http://www.w3.org/2000/svg\" height=\"24px\"viewBox=\"0 0 24 24\"\n",
              "       width=\"24px\">\n",
              "    <path d=\"M0 0h24v24H0V0z\" fill=\"none\"/>\n",
              "    <path d=\"M18.56 5.44l.94 2.06.94-2.06 2.06-.94-2.06-.94-.94-2.06-.94 2.06-2.06.94zm-11 1L8.5 8.5l.94-2.06 2.06-.94-2.06-.94L8.5 2.5l-.94 2.06-2.06.94zm10 10l.94 2.06.94-2.06 2.06-.94-2.06-.94-.94-2.06-.94 2.06-2.06.94z\"/><path d=\"M17.41 7.96l-1.37-1.37c-.4-.4-.92-.59-1.43-.59-.52 0-1.04.2-1.43.59L10.3 9.45l-7.72 7.72c-.78.78-.78 2.05 0 2.83L4 21.41c.39.39.9.59 1.41.59.51 0 1.02-.2 1.41-.59l7.78-7.78 2.81-2.81c.8-.78.8-2.07 0-2.86zM5.41 20L4 18.59l7.72-7.72 1.47 1.35L5.41 20z\"/>\n",
              "  </svg>\n",
              "      </button>\n",
              "      \n",
              "  <style>\n",
              "    .colab-df-container {\n",
              "      display:flex;\n",
              "      flex-wrap:wrap;\n",
              "      gap: 12px;\n",
              "    }\n",
              "\n",
              "    .colab-df-convert {\n",
              "      background-color: #E8F0FE;\n",
              "      border: none;\n",
              "      border-radius: 50%;\n",
              "      cursor: pointer;\n",
              "      display: none;\n",
              "      fill: #1967D2;\n",
              "      height: 32px;\n",
              "      padding: 0 0 0 0;\n",
              "      width: 32px;\n",
              "    }\n",
              "\n",
              "    .colab-df-convert:hover {\n",
              "      background-color: #E2EBFA;\n",
              "      box-shadow: 0px 1px 2px rgba(60, 64, 67, 0.3), 0px 1px 3px 1px rgba(60, 64, 67, 0.15);\n",
              "      fill: #174EA6;\n",
              "    }\n",
              "\n",
              "    [theme=dark] .colab-df-convert {\n",
              "      background-color: #3B4455;\n",
              "      fill: #D2E3FC;\n",
              "    }\n",
              "\n",
              "    [theme=dark] .colab-df-convert:hover {\n",
              "      background-color: #434B5C;\n",
              "      box-shadow: 0px 1px 3px 1px rgba(0, 0, 0, 0.15);\n",
              "      filter: drop-shadow(0px 1px 2px rgba(0, 0, 0, 0.3));\n",
              "      fill: #FFFFFF;\n",
              "    }\n",
              "  </style>\n",
              "\n",
              "      <script>\n",
              "        const buttonEl =\n",
              "          document.querySelector('#df-1561d1dd-59c0-41cf-9009-c54777e70031 button.colab-df-convert');\n",
              "        buttonEl.style.display =\n",
              "          google.colab.kernel.accessAllowed ? 'block' : 'none';\n",
              "\n",
              "        async function convertToInteractive(key) {\n",
              "          const element = document.querySelector('#df-1561d1dd-59c0-41cf-9009-c54777e70031');\n",
              "          const dataTable =\n",
              "            await google.colab.kernel.invokeFunction('convertToInteractive',\n",
              "                                                     [key], {});\n",
              "          if (!dataTable) return;\n",
              "\n",
              "          const docLinkHtml = 'Like what you see? Visit the ' +\n",
              "            '<a target=\"_blank\" href=https://colab.research.google.com/notebooks/data_table.ipynb>data table notebook</a>'\n",
              "            + ' to learn more about interactive tables.';\n",
              "          element.innerHTML = '';\n",
              "          dataTable['output_type'] = 'display_data';\n",
              "          await google.colab.output.renderOutput(dataTable, element);\n",
              "          const docLink = document.createElement('div');\n",
              "          docLink.innerHTML = docLinkHtml;\n",
              "          element.appendChild(docLink);\n",
              "        }\n",
              "      </script>\n",
              "    </div>\n",
              "  </div>\n",
              "  "
            ]
          },
          "metadata": {},
          "execution_count": 6
        }
      ]
    },
    {
      "cell_type": "code",
      "source": [
        "train.head()"
      ],
      "metadata": {
        "colab": {
          "base_uri": "https://localhost:8080/",
          "height": 513
        },
        "id": "p9GkOiWOrdFr",
        "outputId": "a7e46696-cddd-42ab-a2ba-df857f3cd804"
      },
      "execution_count": null,
      "outputs": [
        {
          "output_type": "execute_result",
          "data": {
            "text/plain": [
              "            ID   월   요일  시간  소관경찰서  소관지역    사건발생거리  강수량(mm)  강설량(mm)  적설량(cm)  \\\n",
              "0  TRAIN_00000   9  화요일  10    137   8.0  2.611124    0.000      0.0      0.0   \n",
              "1  TRAIN_00001  11  화요일   6    438  13.0  3.209093    0.000      0.0      0.0   \n",
              "2  TRAIN_00002   8  일요일   6   1729  47.0  1.619597    0.000      0.0      0.0   \n",
              "3  TRAIN_00003   5  월요일   6   2337  53.0  1.921615   11.375      0.0      0.0   \n",
              "4  TRAIN_00004   9  일요일  11   1439  41.0  1.789721    0.000      0.0      0.0   \n",
              "\n",
              "      풍향   안개  짙은안개   번개  진눈깨비   서리  연기/연무  눈날림 범죄발생지  TARGET  \n",
              "0  245.0  0.0   0.0  0.0   0.0  0.0    0.0  0.0    차도       2  \n",
              "1  200.0  0.0   0.0  0.0   0.0  0.0    0.0  0.0    차도       0  \n",
              "2   40.0  1.0   0.0  0.0   0.0  0.0    1.0  0.0    인도       1  \n",
              "3  225.0  1.0   1.0  0.0   0.0  0.0    0.0  0.0   주거지       1  \n",
              "4  255.0  0.0   0.0  0.0   0.0  0.0    0.0  0.0   주유소       2  "
            ],
            "text/html": [
              "\n",
              "  <div id=\"df-3e18d3dc-40db-4621-a449-90db74b39d38\">\n",
              "    <div class=\"colab-df-container\">\n",
              "      <div>\n",
              "<style scoped>\n",
              "    .dataframe tbody tr th:only-of-type {\n",
              "        vertical-align: middle;\n",
              "    }\n",
              "\n",
              "    .dataframe tbody tr th {\n",
              "        vertical-align: top;\n",
              "    }\n",
              "\n",
              "    .dataframe thead th {\n",
              "        text-align: right;\n",
              "    }\n",
              "</style>\n",
              "<table border=\"1\" class=\"dataframe\">\n",
              "  <thead>\n",
              "    <tr style=\"text-align: right;\">\n",
              "      <th></th>\n",
              "      <th>ID</th>\n",
              "      <th>월</th>\n",
              "      <th>요일</th>\n",
              "      <th>시간</th>\n",
              "      <th>소관경찰서</th>\n",
              "      <th>소관지역</th>\n",
              "      <th>사건발생거리</th>\n",
              "      <th>강수량(mm)</th>\n",
              "      <th>강설량(mm)</th>\n",
              "      <th>적설량(cm)</th>\n",
              "      <th>풍향</th>\n",
              "      <th>안개</th>\n",
              "      <th>짙은안개</th>\n",
              "      <th>번개</th>\n",
              "      <th>진눈깨비</th>\n",
              "      <th>서리</th>\n",
              "      <th>연기/연무</th>\n",
              "      <th>눈날림</th>\n",
              "      <th>범죄발생지</th>\n",
              "      <th>TARGET</th>\n",
              "    </tr>\n",
              "  </thead>\n",
              "  <tbody>\n",
              "    <tr>\n",
              "      <th>0</th>\n",
              "      <td>TRAIN_00000</td>\n",
              "      <td>9</td>\n",
              "      <td>화요일</td>\n",
              "      <td>10</td>\n",
              "      <td>137</td>\n",
              "      <td>8.0</td>\n",
              "      <td>2.611124</td>\n",
              "      <td>0.000</td>\n",
              "      <td>0.0</td>\n",
              "      <td>0.0</td>\n",
              "      <td>245.0</td>\n",
              "      <td>0.0</td>\n",
              "      <td>0.0</td>\n",
              "      <td>0.0</td>\n",
              "      <td>0.0</td>\n",
              "      <td>0.0</td>\n",
              "      <td>0.0</td>\n",
              "      <td>0.0</td>\n",
              "      <td>차도</td>\n",
              "      <td>2</td>\n",
              "    </tr>\n",
              "    <tr>\n",
              "      <th>1</th>\n",
              "      <td>TRAIN_00001</td>\n",
              "      <td>11</td>\n",
              "      <td>화요일</td>\n",
              "      <td>6</td>\n",
              "      <td>438</td>\n",
              "      <td>13.0</td>\n",
              "      <td>3.209093</td>\n",
              "      <td>0.000</td>\n",
              "      <td>0.0</td>\n",
              "      <td>0.0</td>\n",
              "      <td>200.0</td>\n",
              "      <td>0.0</td>\n",
              "      <td>0.0</td>\n",
              "      <td>0.0</td>\n",
              "      <td>0.0</td>\n",
              "      <td>0.0</td>\n",
              "      <td>0.0</td>\n",
              "      <td>0.0</td>\n",
              "      <td>차도</td>\n",
              "      <td>0</td>\n",
              "    </tr>\n",
              "    <tr>\n",
              "      <th>2</th>\n",
              "      <td>TRAIN_00002</td>\n",
              "      <td>8</td>\n",
              "      <td>일요일</td>\n",
              "      <td>6</td>\n",
              "      <td>1729</td>\n",
              "      <td>47.0</td>\n",
              "      <td>1.619597</td>\n",
              "      <td>0.000</td>\n",
              "      <td>0.0</td>\n",
              "      <td>0.0</td>\n",
              "      <td>40.0</td>\n",
              "      <td>1.0</td>\n",
              "      <td>0.0</td>\n",
              "      <td>0.0</td>\n",
              "      <td>0.0</td>\n",
              "      <td>0.0</td>\n",
              "      <td>1.0</td>\n",
              "      <td>0.0</td>\n",
              "      <td>인도</td>\n",
              "      <td>1</td>\n",
              "    </tr>\n",
              "    <tr>\n",
              "      <th>3</th>\n",
              "      <td>TRAIN_00003</td>\n",
              "      <td>5</td>\n",
              "      <td>월요일</td>\n",
              "      <td>6</td>\n",
              "      <td>2337</td>\n",
              "      <td>53.0</td>\n",
              "      <td>1.921615</td>\n",
              "      <td>11.375</td>\n",
              "      <td>0.0</td>\n",
              "      <td>0.0</td>\n",
              "      <td>225.0</td>\n",
              "      <td>1.0</td>\n",
              "      <td>1.0</td>\n",
              "      <td>0.0</td>\n",
              "      <td>0.0</td>\n",
              "      <td>0.0</td>\n",
              "      <td>0.0</td>\n",
              "      <td>0.0</td>\n",
              "      <td>주거지</td>\n",
              "      <td>1</td>\n",
              "    </tr>\n",
              "    <tr>\n",
              "      <th>4</th>\n",
              "      <td>TRAIN_00004</td>\n",
              "      <td>9</td>\n",
              "      <td>일요일</td>\n",
              "      <td>11</td>\n",
              "      <td>1439</td>\n",
              "      <td>41.0</td>\n",
              "      <td>1.789721</td>\n",
              "      <td>0.000</td>\n",
              "      <td>0.0</td>\n",
              "      <td>0.0</td>\n",
              "      <td>255.0</td>\n",
              "      <td>0.0</td>\n",
              "      <td>0.0</td>\n",
              "      <td>0.0</td>\n",
              "      <td>0.0</td>\n",
              "      <td>0.0</td>\n",
              "      <td>0.0</td>\n",
              "      <td>0.0</td>\n",
              "      <td>주유소</td>\n",
              "      <td>2</td>\n",
              "    </tr>\n",
              "  </tbody>\n",
              "</table>\n",
              "</div>\n",
              "      <button class=\"colab-df-convert\" onclick=\"convertToInteractive('df-3e18d3dc-40db-4621-a449-90db74b39d38')\"\n",
              "              title=\"Convert this dataframe to an interactive table.\"\n",
              "              style=\"display:none;\">\n",
              "        \n",
              "  <svg xmlns=\"http://www.w3.org/2000/svg\" height=\"24px\"viewBox=\"0 0 24 24\"\n",
              "       width=\"24px\">\n",
              "    <path d=\"M0 0h24v24H0V0z\" fill=\"none\"/>\n",
              "    <path d=\"M18.56 5.44l.94 2.06.94-2.06 2.06-.94-2.06-.94-.94-2.06-.94 2.06-2.06.94zm-11 1L8.5 8.5l.94-2.06 2.06-.94-2.06-.94L8.5 2.5l-.94 2.06-2.06.94zm10 10l.94 2.06.94-2.06 2.06-.94-2.06-.94-.94-2.06-.94 2.06-2.06.94z\"/><path d=\"M17.41 7.96l-1.37-1.37c-.4-.4-.92-.59-1.43-.59-.52 0-1.04.2-1.43.59L10.3 9.45l-7.72 7.72c-.78.78-.78 2.05 0 2.83L4 21.41c.39.39.9.59 1.41.59.51 0 1.02-.2 1.41-.59l7.78-7.78 2.81-2.81c.8-.78.8-2.07 0-2.86zM5.41 20L4 18.59l7.72-7.72 1.47 1.35L5.41 20z\"/>\n",
              "  </svg>\n",
              "      </button>\n",
              "      \n",
              "  <style>\n",
              "    .colab-df-container {\n",
              "      display:flex;\n",
              "      flex-wrap:wrap;\n",
              "      gap: 12px;\n",
              "    }\n",
              "\n",
              "    .colab-df-convert {\n",
              "      background-color: #E8F0FE;\n",
              "      border: none;\n",
              "      border-radius: 50%;\n",
              "      cursor: pointer;\n",
              "      display: none;\n",
              "      fill: #1967D2;\n",
              "      height: 32px;\n",
              "      padding: 0 0 0 0;\n",
              "      width: 32px;\n",
              "    }\n",
              "\n",
              "    .colab-df-convert:hover {\n",
              "      background-color: #E2EBFA;\n",
              "      box-shadow: 0px 1px 2px rgba(60, 64, 67, 0.3), 0px 1px 3px 1px rgba(60, 64, 67, 0.15);\n",
              "      fill: #174EA6;\n",
              "    }\n",
              "\n",
              "    [theme=dark] .colab-df-convert {\n",
              "      background-color: #3B4455;\n",
              "      fill: #D2E3FC;\n",
              "    }\n",
              "\n",
              "    [theme=dark] .colab-df-convert:hover {\n",
              "      background-color: #434B5C;\n",
              "      box-shadow: 0px 1px 3px 1px rgba(0, 0, 0, 0.15);\n",
              "      filter: drop-shadow(0px 1px 2px rgba(0, 0, 0, 0.3));\n",
              "      fill: #FFFFFF;\n",
              "    }\n",
              "  </style>\n",
              "\n",
              "      <script>\n",
              "        const buttonEl =\n",
              "          document.querySelector('#df-3e18d3dc-40db-4621-a449-90db74b39d38 button.colab-df-convert');\n",
              "        buttonEl.style.display =\n",
              "          google.colab.kernel.accessAllowed ? 'block' : 'none';\n",
              "\n",
              "        async function convertToInteractive(key) {\n",
              "          const element = document.querySelector('#df-3e18d3dc-40db-4621-a449-90db74b39d38');\n",
              "          const dataTable =\n",
              "            await google.colab.kernel.invokeFunction('convertToInteractive',\n",
              "                                                     [key], {});\n",
              "          if (!dataTable) return;\n",
              "\n",
              "          const docLinkHtml = 'Like what you see? Visit the ' +\n",
              "            '<a target=\"_blank\" href=https://colab.research.google.com/notebooks/data_table.ipynb>data table notebook</a>'\n",
              "            + ' to learn more about interactive tables.';\n",
              "          element.innerHTML = '';\n",
              "          dataTable['output_type'] = 'display_data';\n",
              "          await google.colab.output.renderOutput(dataTable, element);\n",
              "          const docLink = document.createElement('div');\n",
              "          docLink.innerHTML = docLinkHtml;\n",
              "          element.appendChild(docLink);\n",
              "        }\n",
              "      </script>\n",
              "    </div>\n",
              "  </div>\n",
              "  "
            ]
          },
          "metadata": {},
          "execution_count": 13
        }
      ]
    },
    {
      "cell_type": "markdown",
      "source": [
        "## EDA"
      ],
      "metadata": {
        "id": "i40HgoPOrmkG"
      }
    },
    {
      "cell_type": "code",
      "source": [
        "train.info()"
      ],
      "metadata": {
        "colab": {
          "base_uri": "https://localhost:8080/"
        },
        "id": "YdOJZ6I1rl7w",
        "outputId": "8da4008b-cf37-49d1-ce02-bd6104a67628"
      },
      "execution_count": null,
      "outputs": [
        {
          "output_type": "stream",
          "name": "stdout",
          "text": [
            "<class 'pandas.core.frame.DataFrame'>\n",
            "RangeIndex: 84406 entries, 0 to 84405\n",
            "Data columns (total 20 columns):\n",
            " #   Column   Non-Null Count  Dtype  \n",
            "---  ------   --------------  -----  \n",
            " 0   ID       84406 non-null  object \n",
            " 1   월        84406 non-null  int64  \n",
            " 2   요일       84406 non-null  object \n",
            " 3   시간       84406 non-null  int64  \n",
            " 4   소관경찰서    84406 non-null  int64  \n",
            " 5   소관지역     84406 non-null  float64\n",
            " 6   사건발생거리   84406 non-null  float64\n",
            " 7   강수량(mm)  84406 non-null  float64\n",
            " 8   강설량(mm)  84406 non-null  float64\n",
            " 9   적설량(cm)  84406 non-null  float64\n",
            " 10  풍향       84406 non-null  float64\n",
            " 11  안개       84406 non-null  float64\n",
            " 12  짙은안개     84406 non-null  float64\n",
            " 13  번개       84406 non-null  float64\n",
            " 14  진눈깨비     84406 non-null  float64\n",
            " 15  서리       84406 non-null  float64\n",
            " 16  연기/연무    84406 non-null  float64\n",
            " 17  눈날림      84406 non-null  float64\n",
            " 18  범죄발생지    84406 non-null  object \n",
            " 19  TARGET   84406 non-null  int64  \n",
            "dtypes: float64(13), int64(4), object(3)\n",
            "memory usage: 12.9+ MB\n"
          ]
        }
      ]
    },
    {
      "cell_type": "code",
      "source": [
        "train['범죄발생지'].value_counts()"
      ],
      "metadata": {
        "colab": {
          "base_uri": "https://localhost:8080/"
        },
        "id": "pagmEGVTr2sY",
        "outputId": "bc73fbd3-befd-4fd3-b3ee-54d9eb92b009"
      },
      "execution_count": null,
      "outputs": [
        {
          "output_type": "execute_result",
          "data": {
            "text/plain": [
              "주거지      36077\n",
              "차도       25879\n",
              "인도        6437\n",
              "편의점       4835\n",
              "주차장       3262\n",
              "식당        1806\n",
              "백화점       1493\n",
              "주유소       1324\n",
              "공원         736\n",
              "학교         728\n",
              "약국         653\n",
              "호텔/모텔      591\n",
              "병원         453\n",
              "은행         132\n",
              "Name: 범죄발생지, dtype: int64"
            ]
          },
          "metadata": {},
          "execution_count": 15
        }
      ]
    },
    {
      "cell_type": "code",
      "source": [
        "sns.displot(train['TARGET']) #불균형은 크게 보이지 않는 것으로 확인"
      ],
      "metadata": {
        "colab": {
          "base_uri": "https://localhost:8080/",
          "height": 524
        },
        "id": "FqNTHvF6r9ll",
        "outputId": "b70ff9df-9a9b-4c64-b274-2b36abaf6a3c"
      },
      "execution_count": null,
      "outputs": [
        {
          "output_type": "execute_result",
          "data": {
            "text/plain": [
              "<seaborn.axisgrid.FacetGrid at 0x7f8b88aeca00>"
            ]
          },
          "metadata": {},
          "execution_count": 8
        },
        {
          "output_type": "display_data",
          "data": {
            "text/plain": [
              "<Figure size 500x500 with 1 Axes>"
            ],
            "image/png": "[encoded data removed]"
          },
          "metadata": {}
        }
      ]
    },
    {
      "cell_type": "code",
      "source": [
        "except_target = train.drop('TARGET', axis = 1)\n",
        "except_target.hist(figsize = (12,12))\n",
        "plt.show()"
      ],
      "metadata": {
        "id": "R4xzoP-qsEN-"
      },
      "execution_count": null,
      "outputs": []
    },
    {
      "cell_type": "code",
      "source": [
        "except_target"
      ],
      "metadata": {
        "colab": {
          "base_uri": "https://localhost:8080/",
          "height": 904
        },
        "id": "QBjhWjmOtJp8",
        "outputId": "fef0ba2e-c6b8-48dd-85b8-f78e94febe2c"
      },
      "execution_count": null,
      "outputs": [
        {
          "output_type": "execute_result",
          "data": {
            "text/plain": [
              "                ID   월   요일  시간  소관경찰서  소관지역    사건발생거리     강수량(mm)  강설량(mm)  \\\n",
              "0      TRAIN_00000   9  화요일  10    137   8.0  2.611124    0.000000      0.0   \n",
              "1      TRAIN_00001  11  화요일   6    438  13.0  3.209093    0.000000      0.0   \n",
              "2      TRAIN_00002   8  일요일   6   1729  47.0  1.619597    0.000000      0.0   \n",
              "3      TRAIN_00003   5  월요일   6   2337  53.0  1.921615   11.375000      0.0   \n",
              "4      TRAIN_00004   9  일요일  11   1439  41.0  1.789721    0.000000      0.0   \n",
              "...            ...  ..  ...  ..    ...   ...       ...         ...      ...   \n",
              "84401  TRAIN_84401   4  일요일   7    336  11.0  3.808190   99.111111      0.0   \n",
              "84402  TRAIN_84402   8  목요일  12   2149  38.0  1.458490    0.000000      0.0   \n",
              "84403  TRAIN_84403   7  일요일   6     29  46.0  2.944913  105.888889      0.0   \n",
              "84404  TRAIN_84404   1  화요일  11    536  25.0  0.493679    2.285714      8.6   \n",
              "84405  TRAIN_84405   7  수요일  11    448  13.0  4.280380    0.000000      0.0   \n",
              "\n",
              "       적설량(cm)     풍향   안개  짙은안개   번개  진눈깨비   서리  연기/연무  눈날림 범죄발생지  \n",
              "0         0.00  245.0  0.0   0.0  0.0   0.0  0.0    0.0  0.0    차도  \n",
              "1         0.00  200.0  0.0   0.0  0.0   0.0  0.0    0.0  0.0    차도  \n",
              "2         0.00   40.0  1.0   0.0  0.0   0.0  0.0    1.0  0.0    인도  \n",
              "3         0.00  225.0  1.0   1.0  0.0   0.0  0.0    0.0  0.0   주거지  \n",
              "4         0.00  255.0  0.0   0.0  0.0   0.0  0.0    0.0  0.0   주유소  \n",
              "...        ...    ...  ...   ...  ...   ...  ...    ...  ...   ...  \n",
              "84401     0.00  165.0  1.0   0.0  0.0   0.0  0.0    0.0  0.0    차도  \n",
              "84402     0.00  200.0  0.0   0.0  0.0   0.0  0.0    1.0  0.0    차도  \n",
              "84403     0.00  315.0  0.0   0.0  0.0   0.0  0.0    0.0  0.0    차도  \n",
              "84404    10.75  330.0  1.0   1.0  0.0   0.0  0.0    1.0  0.0   주거지  \n",
              "84405     0.00   35.0  0.0   0.0  0.0   0.0  0.0    0.0  0.0   주거지  \n",
              "\n",
              "[84406 rows x 19 columns]"
            ],
            "text/html": [
              "\n",
              "  <div id=\"df-83fda5ce-b324-489b-84c8-58d3c630e15c\">\n",
              "    <div class=\"colab-df-container\">\n",
              "      <div>\n",
              "<style scoped>\n",
              "    .dataframe tbody tr th:only-of-type {\n",
              "        vertical-align: middle;\n",
              "    }\n",
              "\n",
              "    .dataframe tbody tr th {\n",
              "        vertical-align: top;\n",
              "    }\n",
              "\n",
              "    .dataframe thead th {\n",
              "        text-align: right;\n",
              "    }\n",
              "</style>\n",
              "<table border=\"1\" class=\"dataframe\">\n",
              "  <thead>\n",
              "    <tr style=\"text-align: right;\">\n",
              "      <th></th>\n",
              "      <th>ID</th>\n",
              "      <th>월</th>\n",
              "      <th>요일</th>\n",
              "      <th>시간</th>\n",
              "      <th>소관경찰서</th>\n",
              "      <th>소관지역</th>\n",
              "      <th>사건발생거리</th>\n",
              "      <th>강수량(mm)</th>\n",
              "      <th>강설량(mm)</th>\n",
              "      <th>적설량(cm)</th>\n",
              "      <th>풍향</th>\n",
              "      <th>안개</th>\n",
              "      <th>짙은안개</th>\n",
              "      <th>번개</th>\n",
              "      <th>진눈깨비</th>\n",
              "      <th>서리</th>\n",
              "      <th>연기/연무</th>\n",
              "      <th>눈날림</th>\n",
              "      <th>범죄발생지</th>\n",
              "    </tr>\n",
              "  </thead>\n",
              "  <tbody>\n",
              "    <tr>\n",
              "      <th>0</th>\n",
              "      <td>TRAIN_00000</td>\n",
              "      <td>9</td>\n",
              "      <td>화요일</td>\n",
              "      <td>10</td>\n",
              "      <td>137</td>\n",
              "      <td>8.0</td>\n",
              "      <td>2.611124</td>\n",
              "      <td>0.000000</td>\n",
              "      <td>0.0</td>\n",
              "      <td>0.00</td>\n",
              "      <td>245.0</td>\n",
              "      <td>0.0</td>\n",
              "      <td>0.0</td>\n",
              "      <td>0.0</td>\n",
              "      <td>0.0</td>\n",
              "      <td>0.0</td>\n",
              "      <td>0.0</td>\n",
              "      <td>0.0</td>\n",
              "      <td>차도</td>\n",
              "    </tr>\n",
              "    <tr>\n",
              "      <th>1</th>\n",
              "      <td>TRAIN_00001</td>\n",
              "      <td>11</td>\n",
              "      <td>화요일</td>\n",
              "      <td>6</td>\n",
              "      <td>438</td>\n",
              "      <td>13.0</td>\n",
              "      <td>3.209093</td>\n",
              "      <td>0.000000</td>\n",
              "      <td>0.0</td>\n",
              "      <td>0.00</td>\n",
              "      <td>200.0</td>\n",
              "      <td>0.0</td>\n",
              "      <td>0.0</td>\n",
              "      <td>0.0</td>\n",
              "      <td>0.0</td>\n",
              "      <td>0.0</td>\n",
              "      <td>0.0</td>\n",
              "      <td>0.0</td>\n",
              "      <td>차도</td>\n",
              "    </tr>\n",
              "    <tr>\n",
              "      <th>2</th>\n",
              "      <td>TRAIN_00002</td>\n",
              "      <td>8</td>\n",
              "      <td>일요일</td>\n",
              "      <td>6</td>\n",
              "      <td>1729</td>\n",
              "      <td>47.0</td>\n",
              "      <td>1.619597</td>\n",
              "      <td>0.000000</td>\n",
              "      <td>0.0</td>\n",
              "      <td>0.00</td>\n",
              "      <td>40.0</td>\n",
              "      <td>1.0</td>\n",
              "      <td>0.0</td>\n",
              "      <td>0.0</td>\n",
              "      <td>0.0</td>\n",
              "      <td>0.0</td>\n",
              "      <td>1.0</td>\n",
              "      <td>0.0</td>\n",
              "      <td>인도</td>\n",
              "    </tr>\n",
              "    <tr>\n",
              "      <th>3</th>\n",
              "      <td>TRAIN_00003</td>\n",
              "      <td>5</td>\n",
              "      <td>월요일</td>\n",
              "      <td>6</td>\n",
              "      <td>2337</td>\n",
              "      <td>53.0</td>\n",
              "      <td>1.921615</td>\n",
              "      <td>11.375000</td>\n",
              "      <td>0.0</td>\n",
              "      <td>0.00</td>\n",
              "      <td>225.0</td>\n",
              "      <td>1.0</td>\n",
              "      <td>1.0</td>\n",
              "      <td>0.0</td>\n",
              "      <td>0.0</td>\n",
              "      <td>0.0</td>\n",
              "      <td>0.0</td>\n",
              "      <td>0.0</td>\n",
              "      <td>주거지</td>\n",
              "    </tr>\n",
              "    <tr>\n",
              "      <th>4</th>\n",
              "      <td>TRAIN_00004</td>\n",
              "      <td>9</td>\n",
              "      <td>일요일</td>\n",
              "      <td>11</td>\n",
              "      <td>1439</td>\n",
              "      <td>41.0</td>\n",
              "      <td>1.789721</td>\n",
              "      <td>0.000000</td>\n",
              "      <td>0.0</td>\n",
              "      <td>0.00</td>\n",
              "      <td>255.0</td>\n",
              "      <td>0.0</td>\n",
              "      <td>0.0</td>\n",
              "      <td>0.0</td>\n",
              "      <td>0.0</td>\n",
              "      <td>0.0</td>\n",
              "      <td>0.0</td>\n",
              "      <td>0.0</td>\n",
              "      <td>주유소</td>\n",
              "    </tr>\n",
              "    <tr>\n",
              "      <th>...</th>\n",
              "      <td>...</td>\n",
              "      <td>...</td>\n",
              "      <td>...</td>\n",
              "      <td>...</td>\n",
              "      <td>...</td>\n",
              "      <td>...</td>\n",
              "      <td>...</td>\n",
              "      <td>...</td>\n",
              "      <td>...</td>\n",
              "      <td>...</td>\n",
              "      <td>...</td>\n",
              "      <td>...</td>\n",
              "      <td>...</td>\n",
              "      <td>...</td>\n",
              "      <td>...</td>\n",
              "      <td>...</td>\n",
              "      <td>...</td>\n",
              "      <td>...</td>\n",
              "      <td>...</td>\n",
              "    </tr>\n",
              "    <tr>\n",
              "      <th>84401</th>\n",
              "      <td>TRAIN_84401</td>\n",
              "      <td>4</td>\n",
              "      <td>일요일</td>\n",
              "      <td>7</td>\n",
              "      <td>336</td>\n",
              "      <td>11.0</td>\n",
              "      <td>3.808190</td>\n",
              "      <td>99.111111</td>\n",
              "      <td>0.0</td>\n",
              "      <td>0.00</td>\n",
              "      <td>165.0</td>\n",
              "      <td>1.0</td>\n",
              "      <td>0.0</td>\n",
              "      <td>0.0</td>\n",
              "      <td>0.0</td>\n",
              "      <td>0.0</td>\n",
              "      <td>0.0</td>\n",
              "      <td>0.0</td>\n",
              "      <td>차도</td>\n",
              "    </tr>\n",
              "    <tr>\n",
              "      <th>84402</th>\n",
              "      <td>TRAIN_84402</td>\n",
              "      <td>8</td>\n",
              "      <td>목요일</td>\n",
              "      <td>12</td>\n",
              "      <td>2149</td>\n",
              "      <td>38.0</td>\n",
              "      <td>1.458490</td>\n",
              "      <td>0.000000</td>\n",
              "      <td>0.0</td>\n",
              "      <td>0.00</td>\n",
              "      <td>200.0</td>\n",
              "      <td>0.0</td>\n",
              "      <td>0.0</td>\n",
              "      <td>0.0</td>\n",
              "      <td>0.0</td>\n",
              "      <td>0.0</td>\n",
              "      <td>1.0</td>\n",
              "      <td>0.0</td>\n",
              "      <td>차도</td>\n",
              "    </tr>\n",
              "    <tr>\n",
              "      <th>84403</th>\n",
              "      <td>TRAIN_84403</td>\n",
              "      <td>7</td>\n",
              "      <td>일요일</td>\n",
              "      <td>6</td>\n",
              "      <td>29</td>\n",
              "      <td>46.0</td>\n",
              "      <td>2.944913</td>\n",
              "      <td>105.888889</td>\n",
              "      <td>0.0</td>\n",
              "      <td>0.00</td>\n",
              "      <td>315.0</td>\n",
              "      <td>0.0</td>\n",
              "      <td>0.0</td>\n",
              "      <td>0.0</td>\n",
              "      <td>0.0</td>\n",
              "      <td>0.0</td>\n",
              "      <td>0.0</td>\n",
              "      <td>0.0</td>\n",
              "      <td>차도</td>\n",
              "    </tr>\n",
              "    <tr>\n",
              "      <th>84404</th>\n",
              "      <td>TRAIN_84404</td>\n",
              "      <td>1</td>\n",
              "      <td>화요일</td>\n",
              "      <td>11</td>\n",
              "      <td>536</td>\n",
              "      <td>25.0</td>\n",
              "      <td>0.493679</td>\n",
              "      <td>2.285714</td>\n",
              "      <td>8.6</td>\n",
              "      <td>10.75</td>\n",
              "      <td>330.0</td>\n",
              "      <td>1.0</td>\n",
              "      <td>1.0</td>\n",
              "      <td>0.0</td>\n",
              "      <td>0.0</td>\n",
              "      <td>0.0</td>\n",
              "      <td>1.0</td>\n",
              "      <td>0.0</td>\n",
              "      <td>주거지</td>\n",
              "    </tr>\n",
              "    <tr>\n",
              "      <th>84405</th>\n",
              "      <td>TRAIN_84405</td>\n",
              "      <td>7</td>\n",
              "      <td>수요일</td>\n",
              "      <td>11</td>\n",
              "      <td>448</td>\n",
              "      <td>13.0</td>\n",
              "      <td>4.280380</td>\n",
              "      <td>0.000000</td>\n",
              "      <td>0.0</td>\n",
              "      <td>0.00</td>\n",
              "      <td>35.0</td>\n",
              "      <td>0.0</td>\n",
              "      <td>0.0</td>\n",
              "      <td>0.0</td>\n",
              "      <td>0.0</td>\n",
              "      <td>0.0</td>\n",
              "      <td>0.0</td>\n",
              "      <td>0.0</td>\n",
              "      <td>주거지</td>\n",
              "    </tr>\n",
              "  </tbody>\n",
              "</table>\n",
              "<p>84406 rows × 19 columns</p>\n",
              "</div>\n",
              "      <button class=\"colab-df-convert\" onclick=\"convertToInteractive('df-83fda5ce-b324-489b-84c8-58d3c630e15c')\"\n",
              "              title=\"Convert this dataframe to an interactive table.\"\n",
              "              style=\"display:none;\">\n",
              "        \n",
              "  <svg xmlns=\"http://www.w3.org/2000/svg\" height=\"24px\"viewBox=\"0 0 24 24\"\n",
              "       width=\"24px\">\n",
              "    <path d=\"M0 0h24v24H0V0z\" fill=\"none\"/>\n",
              "    <path d=\"M18.56 5.44l.94 2.06.94-2.06 2.06-.94-2.06-.94-.94-2.06-.94 2.06-2.06.94zm-11 1L8.5 8.5l.94-2.06 2.06-.94-2.06-.94L8.5 2.5l-.94 2.06-2.06.94zm10 10l.94 2.06.94-2.06 2.06-.94-2.06-.94-.94-2.06-.94 2.06-2.06.94z\"/><path d=\"M17.41 7.96l-1.37-1.37c-.4-.4-.92-.59-1.43-.59-.52 0-1.04.2-1.43.59L10.3 9.45l-7.72 7.72c-.78.78-.78 2.05 0 2.83L4 21.41c.39.39.9.59 1.41.59.51 0 1.02-.2 1.41-.59l7.78-7.78 2.81-2.81c.8-.78.8-2.07 0-2.86zM5.41 20L4 18.59l7.72-7.72 1.47 1.35L5.41 20z\"/>\n",
              "  </svg>\n",
              "      </button>\n",
              "      \n",
              "  <style>\n",
              "    .colab-df-container {\n",
              "      display:flex;\n",
              "      flex-wrap:wrap;\n",
              "      gap: 12px;\n",
              "    }\n",
              "\n",
              "    .colab-df-convert {\n",
              "      background-color: #E8F0FE;\n",
              "      border: none;\n",
              "      border-radius: 50%;\n",
              "      cursor: pointer;\n",
              "      display: none;\n",
              "      fill: #1967D2;\n",
              "      height: 32px;\n",
              "      padding: 0 0 0 0;\n",
              "      width: 32px;\n",
              "    }\n",
              "\n",
              "    .colab-df-convert:hover {\n",
              "      background-color: #E2EBFA;\n",
              "      box-shadow: 0px 1px 2px rgba(60, 64, 67, 0.3), 0px 1px 3px 1px rgba(60, 64, 67, 0.15);\n",
              "      fill: #174EA6;\n",
              "    }\n",
              "\n",
              "    [theme=dark] .colab-df-convert {\n",
              "      background-color: #3B4455;\n",
              "      fill: #D2E3FC;\n",
              "    }\n",
              "\n",
              "    [theme=dark] .colab-df-convert:hover {\n",
              "      background-color: #434B5C;\n",
              "      box-shadow: 0px 1px 3px 1px rgba(0, 0, 0, 0.15);\n",
              "      filter: drop-shadow(0px 1px 2px rgba(0, 0, 0, 0.3));\n",
              "      fill: #FFFFFF;\n",
              "    }\n",
              "  </style>\n",
              "\n",
              "      <script>\n",
              "        const buttonEl =\n",
              "          document.querySelector('#df-83fda5ce-b324-489b-84c8-58d3c630e15c button.colab-df-convert');\n",
              "        buttonEl.style.display =\n",
              "          google.colab.kernel.accessAllowed ? 'block' : 'none';\n",
              "\n",
              "        async function convertToInteractive(key) {\n",
              "          const element = document.querySelector('#df-83fda5ce-b324-489b-84c8-58d3c630e15c');\n",
              "          const dataTable =\n",
              "            await google.colab.kernel.invokeFunction('convertToInteractive',\n",
              "                                                     [key], {});\n",
              "          if (!dataTable) return;\n",
              "\n",
              "          const docLinkHtml = 'Like what you see? Visit the ' +\n",
              "            '<a target=\"_blank\" href=https://colab.research.google.com/notebooks/data_table.ipynb>data table notebook</a>'\n",
              "            + ' to learn more about interactive tables.';\n",
              "          element.innerHTML = '';\n",
              "          dataTable['output_type'] = 'display_data';\n",
              "          await google.colab.output.renderOutput(dataTable, element);\n",
              "          const docLink = document.createElement('div');\n",
              "          docLink.innerHTML = docLinkHtml;\n",
              "          element.appendChild(docLink);\n",
              "        }\n",
              "      </script>\n",
              "    </div>\n",
              "  </div>\n",
              "  "
            ]
          },
          "metadata": {},
          "execution_count": 18
        }
      ]
    },
    {
      "cell_type": "code",
      "source": [
        "sns.countplot(x = '시간', hue = 'TARGET', data = train)\n",
        "plt.show()"
      ],
      "metadata": {
        "id": "ai4bMTkFtMPK"
      },
      "execution_count": null,
      "outputs": []
    },
    {
      "cell_type": "code",
      "source": [
        "fig, axes = plt.subplots(2,2, figsize = (10,10))\n",
        "\n",
        "sns.boxplot(y = train['사건발생거리'], ax = axes[0][0])\n",
        "sns.boxplot(y = train['강수량(mm)'], ax = axes[0][1])\n",
        "\n",
        "sns.boxplot(y = train['강설량(mm)'], ax = axes[1][0])\n",
        "sns.boxplot(y = train['적설량(cm)'], ax = axes[1][1])\n",
        "\n",
        "plt.show()"
      ],
      "metadata": {
        "id": "R6zuZbbau_vC"
      },
      "execution_count": null,
      "outputs": []
    },
    {
      "cell_type": "code",
      "source": [
        "train.drop(\"\")"
      ],
      "metadata": {
        "id": "fB9aqzw1vB6o"
      },
      "execution_count": null,
      "outputs": []
    },
    {
      "cell_type": "code",
      "source": [],
      "metadata": {
        "id": "8MNZOsrg1Lvv"
      },
      "execution_count": null,
      "outputs": []
    },
    {
      "cell_type": "markdown",
      "source": [
        "##전처리\n"
      ],
      "metadata": {
        "id": "WpEtlLrw1HsX"
      }
    },
    {
      "cell_type": "code",
      "source": [],
      "metadata": {
        "id": "iJOL8ERCXu2z"
      },
      "execution_count": null,
      "outputs": []
    },
    {
      "cell_type": "code",
      "source": [
        "train_pre[\"소관지역\"]"
      ],
      "metadata": {
        "colab": {
          "base_uri": "https://localhost:8080/"
        },
        "id": "NUT8Q1FzXeD0",
        "outputId": "e90f5f7f-d08c-47b4-8a3b-5e8a19c28e7e"
      },
      "execution_count": null,
      "outputs": [
        {
          "output_type": "execute_result",
          "data": {
            "text/plain": [
              "0         8.0\n",
              "1        13.0\n",
              "2        47.0\n",
              "3        53.0\n",
              "4        41.0\n",
              "         ... \n",
              "84401    11.0\n",
              "84402    38.0\n",
              "84403    46.0\n",
              "84404    25.0\n",
              "84405    13.0\n",
              "Name: 소관지역, Length: 84406, dtype: float64"
            ]
          },
          "metadata": {},
          "execution_count": 19
        }
      ]
    },
    {
      "cell_type": "code",
      "source": [
        "train_y = train[\"TARGET\"]\n",
        "train_y"
      ],
      "metadata": {
        "colab": {
          "base_uri": "https://localhost:8080/"
        },
        "id": "Zig-iba5W8it",
        "outputId": "33531dae-a83c-4bd4-c359-45b5e43354e0"
      },
      "execution_count": null,
      "outputs": [
        {
          "output_type": "execute_result",
          "data": {
            "text/plain": [
              "0        2\n",
              "1        0\n",
              "2        1\n",
              "3        1\n",
              "4        2\n",
              "        ..\n",
              "84401    1\n",
              "84402    0\n",
              "84403    0\n",
              "84404    1\n",
              "84405    0\n",
              "Name: TARGET, Length: 84406, dtype: int64"
            ]
          },
          "metadata": {},
          "execution_count": 17
        }
      ]
    },
    {
      "cell_type": "code",
      "source": [
        "automl = AutoML(mode='Compete', eval_metric='accuracy', random_state=42)\n",
        "automl.fit(train_pre, train_y)\n",
        "pred = automl.predict(test_pre)\n",
        "\n"
      ],
      "metadata": {
        "id": "IXHl6_nSV9Gz"
      },
      "execution_count": null,
      "outputs": []
    },
    {
      "cell_type": "code",
      "source": [
        "submission = pd.read_csv(\"/content/drive/MyDrive/open (6)/sample_submission.csv\")\n",
        "submission.iloc[:, 1] = pred\n",
        "submission.to_csv(\"/content/drive/MyDrive/open (6)/automl_fixed.csv\", index=False)"
      ],
      "metadata": {
        "id": "Xm1Fk2XzW6Ar",
        "colab": {
          "base_uri": "https://localhost:8080/"
        },
        "outputId": "dd0e8252-d944-4c77-9636-12ebfeb91b77"
      },
      "execution_count": null,
      "outputs": [
        {
          "output_type": "stream",
          "name": "stderr",
          "text": [
            "<ipython-input-19-1e5d47f1cda0>:2: DeprecationWarning: In a future version, `df.iloc[:, i] = newvals` will attempt to set the values inplace instead of always setting a new array. To retain the old behavior, use either `df[df.columns[i]] = newvals` or, if columns are non-unique, `df.isetitem(i, newvals)`\n"
          ]
        }
      ]
    },
    {
      "cell_type": "markdown",
      "source": [
        "####feature 엔지니어링이 별 의미가 없음\n",
        "원상태로 autogluon 사용"
      ],
      "metadata": {
        "id": "7eUWx2m7Rame"
      }
    },
    {
      "cell_type": "code",
      "source": [
        "!pip install autogluon"
      ],
      "metadata": {
        "id": "jlW4oXBwtH1I"
      },
      "execution_count": null,
      "outputs": []
    },
    {
      "cell_type": "code",
      "source": [
        "import os\n",
        "import pandas as pd\n",
        "import random\n",
        "import numpy as np\n",
        "from autogluon.tabular import TabularDataset, TabularPredictor\n",
        "import autogluon.core as ag\n",
        "\n",
        "import warnings\n",
        "warnings.filterwarnings(\"ignore\")\n",
        "\n",
        "def seed_everything(seed):\n",
        "    random.seed(seed)\n",
        "    os.environ['PYTHONHASHSEED'] = str(seed)\n",
        "    np.random.seed(seed)\n",
        "\n",
        "seed_everything(69)\n",
        "\n",
        "train_data = pd.read_csv('/content/drive/MyDrive/open (6)/train.csv')\n",
        "test_data = pd.read_csv('/content/drive/MyDrive/open (6)/test.csv')"
      ],
      "metadata": {
        "id": "MHbUC6fMRaDY"
      },
      "execution_count": null,
      "outputs": []
    },
    {
      "cell_type": "code",
      "source": [
        "train_pre = pd.concat([train,train_dum,train_dum1,train_dum2,train_dum3],axis = 1)\n",
        "test_pre = pd.concat([test,test_dum,test_dum1,test_dum2,test_dum3],axis = 1)\n",
        "T = train_pre[\"TARGET\"]\n",
        "train_pre.drop(['요일','시간','범죄발생지','월',\"TARGET\"],axis = 1, inplace = True)\n",
        "test_pre.drop(['요일','시간','범죄발생지','월'],axis = 1, inplace = True)"
      ],
      "metadata": {
        "id": "U9dzrCppfcH8"
      },
      "execution_count": null,
      "outputs": []
    },
    {
      "cell_type": "code",
      "source": [],
      "metadata": {
        "id": "DBRS-vikM0Gr"
      },
      "execution_count": null,
      "outputs": []
    },
    {
      "cell_type": "code",
      "source": [
        "T = train_pre[\"TARGET\"]"
      ],
      "metadata": {
        "colab": {
          "base_uri": "https://localhost:8080/"
        },
        "id": "KM0-xUqNg5YX",
        "outputId": "4589a761-d928-48a7-e0be-87fbc7d010dd"
      },
      "execution_count": null,
      "outputs": [
        {
          "output_type": "execute_result",
          "data": {
            "text/plain": [
              "0        2\n",
              "1        0\n",
              "2        1\n",
              "3        1\n",
              "4        2\n",
              "        ..\n",
              "84401    1\n",
              "84402    0\n",
              "84403    0\n",
              "84404    1\n",
              "84405    0\n",
              "Name: TARGET, Length: 84406, dtype: int64"
            ]
          },
          "metadata": {},
          "execution_count": 37
        }
      ]
    },
    {
      "cell_type": "code",
      "source": [
        "test_pre"
      ],
      "metadata": {
        "id": "UEMJXBwlhbYD"
      },
      "execution_count": null,
      "outputs": []
    },
    {
      "cell_type": "code",
      "source": [
        "train_pre.columns"
      ],
      "metadata": {
        "colab": {
          "base_uri": "https://localhost:8080/"
        },
        "id": "UmfSDvk5jjcV",
        "outputId": "0570cebd-1017-4a45-ce78-43cf9ca06efe"
      },
      "execution_count": null,
      "outputs": [
        {
          "output_type": "execute_result",
          "data": {
            "text/plain": [
              "Index([     'ID',   '소관경찰서',    '소관지역',  '사건발생거리', '강수량(mm)', '강설량(mm)',\n",
              "       '적설량(cm)',      '풍향',      '안개',    '짙은안개',      '번개',    '진눈깨비',\n",
              "            '서리',   '연기/연무',     '눈날림',      '공원',     '백화점',      '병원',\n",
              "            '식당',      '약국',      '은행',      '인도',     '주거지',     '주유소',\n",
              "           '주차장',      '차도',     '편의점',      '학교',   '호텔/모텔',     '금요일',\n",
              "           '목요일',     '수요일',     '월요일',     '일요일',     '토요일',     '화요일',\n",
              "               1,         2,         3,         4,         5,         6,\n",
              "               7,         8,         9,        10,        11,        12,\n",
              "               1,         2,         3,         4,         5,         6,\n",
              "               7,         8,         9,        10,        11,        12],\n",
              "      dtype='object')"
            ]
          },
          "metadata": {},
          "execution_count": 47
        }
      ]
    },
    {
      "cell_type": "code",
      "source": [
        "test_pre.columns"
      ],
      "metadata": {
        "colab": {
          "base_uri": "https://localhost:8080/"
        },
        "id": "lG-WdFUvhbO0",
        "outputId": "756f0946-1bd1-4c46-dfd1-e9163ba31078"
      },
      "execution_count": null,
      "outputs": [
        {
          "output_type": "execute_result",
          "data": {
            "text/plain": [
              "Index([     'ID',   '소관경찰서',    '소관지역',  '사건발생거리', '강수량(mm)', '강설량(mm)',\n",
              "       '적설량(cm)',      '풍향',      '안개',    '짙은안개',      '번개',    '진눈깨비',\n",
              "            '서리',   '연기/연무',     '눈날림',      '공원',     '백화점',      '병원',\n",
              "            '식당',      '약국',      '은행',      '인도',     '주거지',     '주유소',\n",
              "           '주차장',      '차도',     '편의점',      '학교',   '호텔/모텔',     '금요일',\n",
              "           '목요일',     '수요일',     '월요일',     '일요일',     '토요일',     '화요일',\n",
              "               1,         2,         3,         4,         5,         6,\n",
              "               7,         8,         9,        10,        11,        12,\n",
              "               1,         2,         3,         4,         5,         6,\n",
              "               7,         8,         9,        10,        11,        12],\n",
              "      dtype='object')"
            ]
          },
          "metadata": {},
          "execution_count": 46
        }
      ]
    },
    {
      "cell_type": "code",
      "source": [
        "train_pre1= pd.concat([train_pre,T],axis=1)"
      ],
      "metadata": {
        "id": "487mr2dnjo43"
      },
      "execution_count": null,
      "outputs": []
    },
    {
      "cell_type": "code",
      "source": [
        "train_dum_re.columns"
      ],
      "metadata": {
        "colab": {
          "base_uri": "https://localhost:8080/"
        },
        "id": "alaAEeWXj0RA",
        "outputId": "1307200d-cb66-4dfe-ff71-101efb2ba5f6"
      },
      "execution_count": null,
      "outputs": [
        {
          "output_type": "execute_result",
          "data": {
            "text/plain": [
              "Index(['ID', '소관경찰서', '소관지역', '사건발생거리', '강수량(mm)', '강설량(mm)', '적설량(cm)', '풍향',\n",
              "       '안개', '짙은안개', '번개', '진눈깨비', '서리', '연기/연무', '눈날림', 'TARGET', '범죄발생지_공원',\n",
              "       '범죄발생지_백화점', '범죄발생지_병원', '범죄발생지_식당', '범죄발생지_약국', '범죄발생지_은행', '범죄발생지_인도',\n",
              "       '범죄발생지_주거지', '범죄발생지_주유소', '범죄발생지_주차장', '범죄발생지_차도', '범죄발생지_편의점',\n",
              "       '범죄발생지_학교', '범죄발생지_호텔/모텔', '요일_금요일', '요일_목요일', '요일_수요일', '요일_월요일',\n",
              "       '요일_일요일', '요일_토요일', '요일_화요일', '시간_1', '시간_2', '시간_3', '시간_4', '시간_5',\n",
              "       '시간_6', '시간_7', '시간_8', '시간_9', '시간_10', '시간_11', '시간_12', '월_1', '월_2',\n",
              "       '월_3', '월_4', '월_5', '월_6', '월_7', '월_8', '월_9', '월_10', '월_11',\n",
              "       '월_12'],\n",
              "      dtype='object')"
            ]
          },
          "metadata": {},
          "execution_count": 71
        }
      ]
    },
    {
      "cell_type": "markdown",
      "source": [
        "#더미변수 생성\n"
      ],
      "metadata": {
        "id": "G81J9s38mrR8"
      }
    },
    {
      "cell_type": "code",
      "source": [
        "train_dum_re = pd.get_dummies(train, columns = ['범죄발생지','요일','시간','월'])\n",
        "test_dum_re = pd.get_dummies(test, columns = ['범죄발생지','요일','시간','월'])"
      ],
      "metadata": {
        "id": "hxMFaGo4mquS"
      },
      "execution_count": null,
      "outputs": []
    },
    {
      "cell_type": "code",
      "source": [
        "train_dum_re.columns"
      ],
      "metadata": {
        "colab": {
          "base_uri": "https://localhost:8080/"
        },
        "id": "s7w6jdQpOL1e",
        "outputId": "8bc80e68-3eb1-44b8-eea2-80c2aa2edb4b"
      },
      "execution_count": null,
      "outputs": [
        {
          "output_type": "execute_result",
          "data": {
            "text/plain": [
              "Index(['ID', '소관경찰서', '소관지역', '사건발생거리', '강수량(mm)', '강설량(mm)', '적설량(cm)', '풍향',\n",
              "       '안개', '짙은안개', '번개', '진눈깨비', '서리', '연기/연무', '눈날림', 'TARGET', '범죄발생지_공원',\n",
              "       '범죄발생지_백화점', '범죄발생지_병원', '범죄발생지_식당', '범죄발생지_약국', '범죄발생지_은행', '범죄발생지_인도',\n",
              "       '범죄발생지_주거지', '범죄발생지_주유소', '범죄발생지_주차장', '범죄발생지_차도', '범죄발생지_편의점',\n",
              "       '범죄발생지_학교', '범죄발생지_호텔/모텔', '요일_금요일', '요일_목요일', '요일_수요일', '요일_월요일',\n",
              "       '요일_일요일', '요일_토요일', '요일_화요일', '시간_1', '시간_2', '시간_3', '시간_4', '시간_5',\n",
              "       '시간_6', '시간_7', '시간_8', '시간_9', '시간_10', '시간_11', '시간_12', '월_1', '월_2',\n",
              "       '월_3', '월_4', '월_5', '월_6', '월_7', '월_8', '월_9', '월_10', '월_11',\n",
              "       '월_12'],\n",
              "      dtype='object')"
            ]
          },
          "metadata": {},
          "execution_count": 29
        }
      ]
    },
    {
      "cell_type": "code",
      "source": [
        "train_dum_re.drop(['짙은안개', '번개', '진눈깨비', '서리', '연기/연무', '눈날림','강설량(mm)', '적설량(cm)'],axis = 1, inplace = True)\n",
        "test_dum_re.drop(['짙은안개', '번개', '진눈깨비', '서리', '연기/연무', '눈날림','강설량(mm)', '적설량(cm)'],axis = 1, inplace = True)"
      ],
      "metadata": {
        "id": "2rNhFXpCKvO3"
      },
      "execution_count": null,
      "outputs": []
    },
    {
      "cell_type": "code",
      "source": [
        "train_dum_re.columns"
      ],
      "metadata": {
        "colab": {
          "base_uri": "https://localhost:8080/"
        },
        "id": "tcZVrEMJOW0m",
        "outputId": "dc4fb726-050c-4447-9c61-cd1c70882374"
      },
      "execution_count": null,
      "outputs": [
        {
          "output_type": "execute_result",
          "data": {
            "text/plain": [
              "Index(['ID', '소관경찰서', '소관지역', '사건발생거리', '강수량(mm)', '풍향', '안개', 'TARGET',\n",
              "       '범죄발생지_공원', '범죄발생지_백화점', '범죄발생지_병원', '범죄발생지_식당', '범죄발생지_약국', '범죄발생지_은행',\n",
              "       '범죄발생지_인도', '범죄발생지_주거지', '범죄발생지_주유소', '범죄발생지_주차장', '범죄발생지_차도',\n",
              "       '범죄발생지_편의점', '범죄발생지_학교', '범죄발생지_호텔/모텔', '요일_금요일', '요일_목요일', '요일_수요일',\n",
              "       '요일_월요일', '요일_일요일', '요일_토요일', '요일_화요일', '시간_1', '시간_2', '시간_3', '시간_4',\n",
              "       '시간_5', '시간_6', '시간_7', '시간_8', '시간_9', '시간_10', '시간_11', '시간_12',\n",
              "       '월_1', '월_2', '월_3', '월_4', '월_5', '월_6', '월_7', '월_8', '월_9', '월_10',\n",
              "       '월_11', '월_12'],\n",
              "      dtype='object')"
            ]
          },
          "metadata": {},
          "execution_count": 9
        }
      ]
    },
    {
      "cell_type": "code",
      "source": [
        "train_data = TabularDataset(train_dum_re)\n",
        "test_data = TabularDataset(test_dum_re)\n",
        "\n",
        "train_data.drop('ID',axis = 1, inplace = True)\n",
        "test_data.drop('ID',axis = 1, inplace = True)\n",
        "\n",
        "label = \"TARGET\"\n",
        "eval_metric = 'f1_macro'\n",
        "time_limit = 3600*3"
      ],
      "metadata": {
        "id": "NqZY6q9ZT0Ya"
      },
      "execution_count": null,
      "outputs": []
    },
    {
      "cell_type": "code",
      "source": [
        "train_data.columns"
      ],
      "metadata": {
        "colab": {
          "base_uri": "https://localhost:8080/"
        },
        "id": "mlt8BaALixiZ",
        "outputId": "271dec36-5b88-4770-bbf4-ed9974a64812"
      },
      "execution_count": null,
      "outputs": [
        {
          "output_type": "execute_result",
          "data": {
            "text/plain": [
              "Index(['소관경찰서', '소관지역', '사건발생거리', '강수량(mm)', '풍향', '안개', '범죄발생지_공원',\n",
              "       '범죄발생지_백화점', '범죄발생지_병원', '범죄발생지_식당', '범죄발생지_약국', '범죄발생지_은행', '범죄발생지_인도',\n",
              "       '범죄발생지_주거지', '범죄발생지_주유소', '범죄발생지_주차장', '범죄발생지_차도', '범죄발생지_편의점',\n",
              "       '범죄발생지_학교', '범죄발생지_호텔/모텔', '요일_금요일', '요일_목요일', '요일_수요일', '요일_월요일',\n",
              "       '요일_일요일', '요일_토요일', '요일_화요일', '시간_1', '시간_2', '시간_3', '시간_4', '시간_5',\n",
              "       '시간_6', '시간_7', '시간_8', '시간_9', '시간_10', '시간_11', '시간_12', '월_1', '월_2',\n",
              "       '월_3', '월_4', '월_5', '월_6', '월_7', '월_8', '월_9', '월_10', '월_11',\n",
              "       '월_12'],\n",
              "      dtype='object')"
            ]
          },
          "metadata": {},
          "execution_count": 89
        }
      ]
    },
    {
      "cell_type": "code",
      "source": [
        "test_data.columns"
      ],
      "metadata": {
        "colab": {
          "base_uri": "https://localhost:8080/"
        },
        "id": "cyk-ujrjjB66",
        "outputId": "76179742-6008-4503-dd18-5a53a778f8d3"
      },
      "execution_count": null,
      "outputs": [
        {
          "output_type": "execute_result",
          "data": {
            "text/plain": [
              "Index(['소관경찰서', '소관지역', '사건발생거리', '강수량(mm)', '풍향', '안개', '범죄발생지_공원',\n",
              "       '범죄발생지_백화점', '범죄발생지_병원', '범죄발생지_식당', '범죄발생지_약국', '범죄발생지_은행', '범죄발생지_인도',\n",
              "       '범죄발생지_주거지', '범죄발생지_주유소', '범죄발생지_주차장', '범죄발생지_차도', '범죄발생지_편의점',\n",
              "       '범죄발생지_학교', '범죄발생지_호텔/모텔', '요일_금요일', '요일_목요일', '요일_수요일', '요일_월요일',\n",
              "       '요일_일요일', '요일_토요일', '요일_화요일', '시간_1', '시간_2', '시간_3', '시간_4', '시간_5',\n",
              "       '시간_6', '시간_7', '시간_8', '시간_9', '시간_10', '시간_11', '시간_12', '월_1', '월_2',\n",
              "       '월_3', '월_4', '월_5', '월_6', '월_7', '월_8', '월_9', '월_10', '월_11',\n",
              "       '월_12'],\n",
              "      dtype='object')"
            ]
          },
          "metadata": {},
          "execution_count": 90
        }
      ]
    },
    {
      "cell_type": "code",
      "source": [
        "#excluded_model_types = ['CAT']\n",
        "predictor = TabularPredictor(\n",
        "    label=label, problem_type='multiclass', eval_metric=eval_metric\n",
        ").fit(train_data,\n",
        "      num_stack_levels=3,\n",
        "      presets='best_quality',\n",
        "      time_limit=time_limit)"
      ],
      "metadata": {
        "colab": {
          "base_uri": "https://localhost:8080/"
        },
        "id": "E4oXhGZZT4Uy",
        "outputId": "c5eb542a-3c4b-448d-b86c-441364b5183e"
      },
      "execution_count": null,
      "outputs": [
        {
          "output_type": "stream",
          "name": "stderr",
          "text": [
            "No path specified. Models will be saved in: \"AutogluonModels/ag-20230519_022731/\"\n",
            "Presets specified: ['best_quality']\n",
            "Stack configuration (auto_stack=True): num_stack_levels=3, num_bag_folds=8, num_bag_sets=20\n",
            "Beginning AutoGluon training ... Time limit = 10800s\n",
            "AutoGluon will save models to \"AutogluonModels/ag-20230519_022731/\"\n",
            "AutoGluon Version:  0.7.0\n",
            "Python Version:     3.10.11\n",
            "Operating System:   Linux\n",
            "Platform Machine:   x86_64\n",
            "Platform Version:   #1 SMP Sat Apr 29 09:15:28 UTC 2023\n",
            "Train Data Rows:    84406\n",
            "Train Data Columns: 51\n",
            "Label Column: TARGET\n",
            "Preprocessing data ...\n",
            "Train Data Class Count: 3\n",
            "Using Feature Generators to preprocess the data ...\n",
            "Fitting AutoMLPipelineFeatureGenerator...\n",
            "\tAvailable Memory:                    11597.34 MB\n",
            "\tTrain Data (Original)  Memory Usage: 7.85 MB (0.1% of available memory)\n",
            "\tInferring data type of each feature based on column values. Set feature_metadata_in to manually specify special dtypes of the features.\n",
            "\tStage 1 Generators:\n",
            "\t\tFitting AsTypeFeatureGenerator...\n",
            "\t\t\tNote: Converting 46 features to boolean dtype as they only contain 2 unique values.\n",
            "\tStage 2 Generators:\n",
            "\t\tFitting FillNaFeatureGenerator...\n",
            "\tStage 3 Generators:\n",
            "\t\tFitting IdentityFeatureGenerator...\n",
            "\tStage 4 Generators:\n",
            "\t\tFitting DropUniqueFeatureGenerator...\n",
            "\tTypes of features in original data (raw dtype, special dtypes):\n",
            "\t\t('float', []) :  5 | ['소관지역', '사건발생거리', '강수량(mm)', '풍향', '안개']\n",
            "\t\t('int', [])   : 46 | ['소관경찰서', '범죄발생지_공원', '범죄발생지_백화점', '범죄발생지_병원', '범죄발생지_식당', ...]\n",
            "\tTypes of features in processed data (raw dtype, special dtypes):\n",
            "\t\t('float', [])     :  4 | ['소관지역', '사건발생거리', '강수량(mm)', '풍향']\n",
            "\t\t('int', [])       :  1 | ['소관경찰서']\n",
            "\t\t('int', ['bool']) : 46 | ['안개', '범죄발생지_공원', '범죄발생지_백화점', '범죄발생지_병원', '범죄발생지_식당', ...]\n",
            "\t0.4s = Fit runtime\n",
            "\t51 features in original data used to generate 51 features in processed data.\n",
            "\tTrain Data (Processed) Memory Usage: 7.26 MB (0.1% of available memory)\n",
            "Data preprocessing and feature engineering runtime = 0.5s ...\n",
            "AutoGluon will gauge predictive performance using evaluation metric: 'f1_macro'\n",
            "\tTo change this, specify the eval_metric parameter of Predictor()\n",
            "AutoGluon will fit 4 stack levels (L1 to L4) ...\n",
            "Fitting 13 L1 models ...\n",
            "Fitting model: KNeighborsUnif_BAG_L1 ... Training model for up to 3598.93s of the 10799.49s of remaining time.\n",
            "\t0.3769\t = Validation score   (f1_macro)\n",
            "\t0.22s\t = Training   runtime\n",
            "\t0.69s\t = Validation runtime\n",
            "Fitting model: KNeighborsDist_BAG_L1 ... Training model for up to 3597.89s of the 10798.45s of remaining time.\n",
            "\t0.3897\t = Validation score   (f1_macro)\n",
            "\t0.22s\t = Training   runtime\n",
            "\t1.14s\t = Validation runtime\n",
            "Fitting model: NeuralNetFastAI_BAG_L1 ... Training model for up to 3596.34s of the 10796.9s of remaining time.\n",
            "\tFitting 8 child models (S1F1 - S1F8) | Fitting with ParallelLocalFoldFittingStrategy\n",
            "\t0.5116\t = Validation score   (f1_macro)\n",
            "\t987.51s\t = Training   runtime\n",
            "\t2.42s\t = Validation runtime\n",
            "Fitting model: LightGBMXT_BAG_L1 ... Training model for up to 2558.58s of the 9759.14s of remaining time.\n",
            "\tFitting 8 child models (S1F1 - S1F8) | Fitting with ParallelLocalFoldFittingStrategy\n",
            "\t0.5197\t = Validation score   (f1_macro)\n",
            "\t135.21s\t = Training   runtime\n",
            "\t10.5s\t = Validation runtime\n",
            "Fitting model: LightGBM_BAG_L1 ... Training model for up to 2416.25s of the 9616.81s of remaining time.\n",
            "\tFitting 8 child models (S1F1 - S1F8) | Fitting with ParallelLocalFoldFittingStrategy\n",
            "\t0.522\t = Validation score   (f1_macro)\n",
            "\t86.22s\t = Training   runtime\n",
            "\t3.89s\t = Validation runtime\n",
            "Fitting model: RandomForestGini_BAG_L1 ... Training model for up to 2320.35s of the 9520.91s of remaining time.\n",
            "\t0.5119\t = Validation score   (f1_macro)\n",
            "\t76.15s\t = Training   runtime\n",
            "\t10.13s\t = Validation runtime\n",
            "Fitting model: RandomForestEntr_BAG_L1 ... Training model for up to 2222.32s of the 9422.88s of remaining time.\n",
            "\t0.5122\t = Validation score   (f1_macro)\n",
            "\t91.91s\t = Training   runtime\n",
            "\t8.05s\t = Validation runtime\n",
            "Fitting model: CatBoost_BAG_L1 ... Training model for up to 2115.84s of the 9316.4s of remaining time.\n",
            "\tFitting 8 child models (S1F1 - S1F8) | Fitting with ParallelLocalFoldFittingStrategy\n",
            "\t0.5212\t = Validation score   (f1_macro)\n",
            "\t559.49s\t = Training   runtime\n",
            "\t0.94s\t = Validation runtime\n",
            "Fitting model: ExtraTreesGini_BAG_L1 ... Training model for up to 1548.21s of the 8748.77s of remaining time.\n",
            "\t0.4994\t = Validation score   (f1_macro)\n",
            "\t56.18s\t = Training   runtime\n",
            "\t8.7s\t = Validation runtime\n",
            "Fitting model: ExtraTreesEntr_BAG_L1 ... Training model for up to 1475.06s of the 8675.62s of remaining time.\n",
            "\t0.5009\t = Validation score   (f1_macro)\n",
            "\t68.31s\t = Training   runtime\n",
            "\t10.06s\t = Validation runtime\n",
            "Fitting model: XGBoost_BAG_L1 ... Training model for up to 1389.07s of the 8589.63s of remaining time.\n",
            "\tFitting 8 child models (S1F1 - S1F8) | Fitting with ParallelLocalFoldFittingStrategy\n",
            "\t0.5217\t = Validation score   (f1_macro)\n",
            "\t707.75s\t = Training   runtime\n",
            "\t10.68s\t = Validation runtime\n",
            "Fitting model: NeuralNetTorch_BAG_L1 ... Training model for up to 672.3s of the 7872.86s of remaining time.\n",
            "\tFitting 8 child models (S1F1 - S1F8) | Fitting with ParallelLocalFoldFittingStrategy\n",
            "\t0.5113\t = Validation score   (f1_macro)\n",
            "\t567.96s\t = Training   runtime\n",
            "\t1.75s\t = Validation runtime\n",
            "Fitting model: LightGBMLarge_BAG_L1 ... Training model for up to 98.67s of the 7299.23s of remaining time.\n",
            "\tFitting 8 child models (S1F1 - S1F8) | Fitting with ParallelLocalFoldFittingStrategy\n",
            "\t0.5238\t = Validation score   (f1_macro)\n",
            "\t104.38s\t = Training   runtime\n",
            "\t7.22s\t = Validation runtime\n",
            "Completed 1/20 k-fold bagging repeats ...\n",
            "Fitting model: WeightedEnsemble_L2 ... Training model for up to 360.0s of the 7185.85s of remaining time.\n",
            "\t0.5238\t = Validation score   (f1_macro)\n",
            "\t56.56s\t = Training   runtime\n",
            "\t0.05s\t = Validation runtime\n",
            "Fitting 11 L2 models ...\n",
            "Fitting model: NeuralNetFastAI_BAG_L2 ... Training model for up to 3167.73s of the 7129.04s of remaining time.\n",
            "\tFitting 8 child models (S1F1 - S1F8) | Fitting with ParallelLocalFoldFittingStrategy\n",
            "\t0.5271\t = Validation score   (f1_macro)\n",
            "\t1117.24s\t = Training   runtime\n",
            "\t3.37s\t = Validation runtime\n",
            "Fitting model: LightGBMXT_BAG_L2 ... Training model for up to 2041.29s of the 6002.58s of remaining time.\n",
            "\tFitting 8 child models (S1F1 - S1F8) | Fitting with ParallelLocalFoldFittingStrategy\n",
            "\t0.5262\t = Validation score   (f1_macro)\n",
            "\t182.75s\t = Training   runtime\n",
            "\t5.64s\t = Validation runtime\n",
            "Fitting model: LightGBM_BAG_L2 ... Training model for up to 1851.47s of the 5812.78s of remaining time.\n",
            "\tFitting 8 child models (S1F1 - S1F8) | Fitting with ParallelLocalFoldFittingStrategy\n",
            "\t0.525\t = Validation score   (f1_macro)\n",
            "\t154.8s\t = Training   runtime\n",
            "\t3.05s\t = Validation runtime\n",
            "Fitting model: RandomForestGini_BAG_L2 ... Training model for up to 1690.21s of the 5651.52s of remaining time.\n",
            "\t0.5203\t = Validation score   (f1_macro)\n",
            "\t287.17s\t = Training   runtime\n",
            "\t14.79s\t = Validation runtime\n",
            "Fitting model: RandomForestEntr_BAG_L2 ... Training model for up to 1379.17s of the 5340.48s of remaining time.\n",
            "\t0.519\t = Validation score   (f1_macro)\n",
            "\t418.07s\t = Training   runtime\n",
            "\t13.81s\t = Validation runtime\n",
            "Fitting model: CatBoost_BAG_L2 ... Training model for up to 941.3s of the 4902.61s of remaining time.\n",
            "\tFitting 8 child models (S1F1 - S1F8) | Fitting with ParallelLocalFoldFittingStrategy\n",
            "\t0.5244\t = Validation score   (f1_macro)\n",
            "\t609.63s\t = Training   runtime\n",
            "\t0.73s\t = Validation runtime\n",
            "Fitting model: ExtraTreesGini_BAG_L2 ... Training model for up to 326.7s of the 4288.0s of remaining time.\n",
            "\t0.5248\t = Validation score   (f1_macro)\n",
            "\t109.29s\t = Training   runtime\n",
            "\t11.84s\t = Validation runtime\n",
            "Fitting model: ExtraTreesEntr_BAG_L2 ... Training model for up to 194.76s of the 4156.05s of remaining time.\n",
            "\t0.5241\t = Validation score   (f1_macro)\n",
            "\t119.15s\t = Training   runtime\n",
            "\t11.17s\t = Validation runtime\n",
            "Fitting model: XGBoost_BAG_L2 ... Training model for up to 57.09s of the 4018.39s of remaining time.\n",
            "\tFitting 8 child models (S1F1 - S1F8) | Fitting with ParallelLocalFoldFittingStrategy\n",
            "\t0.5247\t = Validation score   (f1_macro)\n",
            "\t77.51s\t = Training   runtime\n",
            "\t2.0s\t = Validation runtime\n",
            "Completed 1/20 k-fold bagging repeats ...\n",
            "Fitting model: WeightedEnsemble_L3 ... Training model for up to 360.0s of the 3935.31s of remaining time.\n",
            "\t0.5282\t = Validation score   (f1_macro)\n",
            "\t38.01s\t = Training   runtime\n",
            "\t0.05s\t = Validation runtime\n",
            "Fitting 11 L3 models ...\n",
            "Fitting model: NeuralNetFastAI_BAG_L3 ... Training model for up to 2597.47s of the 3897.08s of remaining time.\n",
            "\tFitting 8 child models (S1F1 - S1F8) | Fitting with ParallelLocalFoldFittingStrategy\n",
            "\t0.5298\t = Validation score   (f1_macro)\n",
            "\t1062.86s\t = Training   runtime\n",
            "\t3.22s\t = Validation runtime\n",
            "Fitting model: LightGBMXT_BAG_L3 ... Training model for up to 1525.71s of the 2825.34s of remaining time.\n",
            "\tFitting 8 child models (S1F1 - S1F8) | Fitting with ParallelLocalFoldFittingStrategy\n",
            "\t0.5265\t = Validation score   (f1_macro)\n",
            "\t129.28s\t = Training   runtime\n",
            "\t3.88s\t = Validation runtime\n",
            "Fitting model: LightGBM_BAG_L3 ... Training model for up to 1390.7s of the 2690.32s of remaining time.\n",
            "\tFitting 8 child models (S1F1 - S1F8) | Fitting with ParallelLocalFoldFittingStrategy\n",
            "\t0.5257\t = Validation score   (f1_macro)\n",
            "\t132.08s\t = Training   runtime\n",
            "\t3.82s\t = Validation runtime\n",
            "Fitting model: RandomForestGini_BAG_L3 ... Training model for up to 1250.1s of the 2549.72s of remaining time.\n",
            "\t0.5197\t = Validation score   (f1_macro)\n",
            "\t216.97s\t = Training   runtime\n",
            "\t10.34s\t = Validation runtime\n",
            "Fitting model: RandomForestEntr_BAG_L3 ... Training model for up to 1015.52s of the 2315.14s of remaining time.\n",
            "\t0.5205\t = Validation score   (f1_macro)\n",
            "\t316.65s\t = Training   runtime\n",
            "\t9.47s\t = Validation runtime\n",
            "Fitting model: CatBoost_BAG_L3 ... Training model for up to 681.4s of the 1981.01s of remaining time.\n",
            "\tFitting 8 child models (S1F1 - S1F8) | Fitting with ParallelLocalFoldFittingStrategy\n",
            "\t0.526\t = Validation score   (f1_macro)\n",
            "\t299.54s\t = Training   runtime\n",
            "\t0.54s\t = Validation runtime\n",
            "Fitting model: ExtraTreesGini_BAG_L3 ... Training model for up to 374.08s of the 1673.67s of remaining time.\n",
            "\t0.5221\t = Validation score   (f1_macro)\n",
            "\t83.24s\t = Training   runtime\n",
            "\t12.97s\t = Validation runtime\n",
            "Fitting model: ExtraTreesEntr_BAG_L3 ... Training model for up to 265.31s of the 1564.93s of remaining time.\n",
            "\t0.5236\t = Validation score   (f1_macro)\n",
            "\t89.32s\t = Training   runtime\n",
            "\t9.22s\t = Validation runtime\n",
            "Fitting model: XGBoost_BAG_L3 ... Training model for up to 158.7s of the 1458.31s of remaining time.\n",
            "\tFitting 8 child models (S1F1 - S1F8) | Fitting with ParallelLocalFoldFittingStrategy\n",
            "\t0.5266\t = Validation score   (f1_macro)\n",
            "\t151.31s\t = Training   runtime\n",
            "\t1.5s\t = Validation runtime\n",
            "Completed 1/20 k-fold bagging repeats ...\n",
            "Fitting model: WeightedEnsemble_L4 ... Training model for up to 360.0s of the 1298.69s of remaining time.\n",
            "\t0.5301\t = Validation score   (f1_macro)\n",
            "\t37.77s\t = Training   runtime\n",
            "\t0.03s\t = Validation runtime\n",
            "Fitting 11 L4 models ...\n",
            "Fitting model: NeuralNetFastAI_BAG_L4 ... Training model for up to 1260.84s of the 1260.75s of remaining time.\n",
            "\tFitting 8 child models (S1F1 - S1F8) | Fitting with ParallelLocalFoldFittingStrategy\n",
            "\t0.5287\t = Validation score   (f1_macro)\n",
            "\t862.14s\t = Training   runtime\n",
            "\t3.28s\t = Validation runtime\n",
            "Fitting model: LightGBMXT_BAG_L4 ... Training model for up to 393.36s of the 393.26s of remaining time.\n",
            "\tFitting 8 child models (S1F1 - S1F8) | Fitting with ParallelLocalFoldFittingStrategy\n",
            "\t0.5264\t = Validation score   (f1_macro)\n",
            "\t133.9s\t = Training   runtime\n",
            "\t4.2s\t = Validation runtime\n",
            "Fitting model: LightGBM_BAG_L4 ... Training model for up to 246.75s of the 246.67s of remaining time.\n",
            "\tFitting 8 child models (S1F1 - S1F8) | Fitting with ParallelLocalFoldFittingStrategy\n",
            "\t0.5259\t = Validation score   (f1_macro)\n",
            "\t138.25s\t = Training   runtime\n",
            "\t3.21s\t = Validation runtime\n",
            "Fitting model: RandomForestGini_BAG_L4 ... Training model for up to 102.48s of the 102.38s of remaining time.\n",
            "\tWarning: Reducing model 'n_estimators' from 300 -> 99 due to low time. Expected time usage reduced from 307.5s -> 102.5s...\n",
            "\t0.5094\t = Validation score   (f1_macro)\n",
            "\t75.23s\t = Training   runtime\n",
            "\t4.73s\t = Validation runtime\n",
            "Fitting model: RandomForestEntr_BAG_L4 ... Training model for up to 21.07s of the 20.96s of remaining time.\n",
            "\tWarning: Model is expected to require 483.7s to train, which exceeds the maximum time limit of 21.1s, skipping model...\n",
            "\tTime limit exceeded... Skipping RandomForestEntr_BAG_L4.\n",
            "Fitting model: CatBoost_BAG_L4 ... Training model for up to 13.96s of the 13.87s of remaining time.\n",
            "\tFitting 8 child models (S1F1 - S1F8) | Fitting with ParallelLocalFoldFittingStrategy\n",
            "\tTime limit exceeded... Skipping CatBoost_BAG_L4.\n",
            "Fitting model: ExtraTreesGini_BAG_L4 ... Training model for up to 2.5s of the 2.38s of remaining time.\n",
            "2023-05-19 05:27:29,643\tERROR worker.py:400 -- Unhandled error (suppress with 'RAY_IGNORE_UNHANDLED_ERRORS=1'): The worker died unexpectedly while executing this task. Check python-core-worker-*.log files for more information.\n",
            "\tWarning: Model is expected to require 165.9s to train, which exceeds the maximum time limit of 2.5s, skipping model...\n",
            "\tTime limit exceeded... Skipping ExtraTreesGini_BAG_L4.\n",
            "Completed 1/20 k-fold bagging repeats ...\n",
            "Fitting model: WeightedEnsemble_L5 ... Training model for up to 360.0s of the -1.12s of remaining time.\n",
            "\t0.5287\t = Validation score   (f1_macro)\n",
            "\t17.33s\t = Training   runtime\n",
            "\t0.04s\t = Validation runtime\n",
            "AutoGluon training complete, total runtime = 10818.56s ... Best model: \"WeightedEnsemble_L4\"\n",
            "TabularPredictor saved. To load, use: predictor = TabularPredictor.load(\"AutogluonModels/ag-20230519_022731/\")\n"
          ]
        }
      ]
    },
    {
      "cell_type": "code",
      "source": [
        "print(predictor.leaderboard(silent = True))\n"
      ],
      "metadata": {
        "colab": {
          "base_uri": "https://localhost:8080/"
        },
        "id": "5UX1onFtxpqv",
        "outputId": "c58b194e-641c-45ab-a5ea-b8ce1d43d76a"
      },
      "execution_count": null,
      "outputs": [
        {
          "output_type": "stream",
          "name": "stdout",
          "text": [
            "                      model  score_val  pred_time_val     fit_time  \\\n",
            "0       WeightedEnsemble_L4   0.530072     180.126822  8385.944730   \n",
            "1    NeuralNetFastAI_BAG_L3   0.529821     145.806682  7579.992799   \n",
            "2    NeuralNetFastAI_BAG_L4   0.528711     200.829957  9860.524326   \n",
            "3       WeightedEnsemble_L5   0.528711     200.865327  9877.854712   \n",
            "4       WeightedEnsemble_L3   0.528221     127.749847  6291.056637   \n",
            "5    NeuralNetFastAI_BAG_L2   0.527131      79.559971  4558.761267   \n",
            "6            XGBoost_BAG_L3   0.526646     144.086526  6668.444990   \n",
            "7         LightGBMXT_BAG_L3   0.526480     146.466810  6646.414871   \n",
            "8         LightGBMXT_BAG_L4   0.526441     201.750972  9132.292989   \n",
            "9         LightGBMXT_BAG_L2   0.526200      81.829112  3624.272198   \n",
            "10          CatBoost_BAG_L3   0.526032     143.119767  6816.670081   \n",
            "11          LightGBM_BAG_L4   0.525937     200.758779  9136.641694   \n",
            "12          LightGBM_BAG_L3   0.525737     146.401014  6649.211895   \n",
            "13          LightGBM_BAG_L2   0.525039      79.230613  3596.323726   \n",
            "14    ExtraTreesGini_BAG_L2   0.524790      88.027652  3550.809291   \n",
            "15           XGBoost_BAG_L2   0.524700      78.187850  3519.033264   \n",
            "16          CatBoost_BAG_L2   0.524427      76.912123  4051.154555   \n",
            "17    ExtraTreesEntr_BAG_L2   0.524142      87.356330  3560.676355   \n",
            "18     LightGBMLarge_BAG_L1   0.523833       7.221781   104.382965   \n",
            "19      WeightedEnsemble_L2   0.523833       7.269812   160.947287   \n",
            "20    ExtraTreesEntr_BAG_L3   0.523635     151.808228  6606.449820   \n",
            "21    ExtraTreesGini_BAG_L3   0.522141     155.552757  6600.372686   \n",
            "22          LightGBM_BAG_L1   0.522040       3.889191    86.223458   \n",
            "23           XGBoost_BAG_L1   0.521714      10.682699   707.752034   \n",
            "24          CatBoost_BAG_L1   0.521172       0.938390   559.489373   \n",
            "25  RandomForestEntr_BAG_L3   0.520484     152.054908  6833.784850   \n",
            "26  RandomForestGini_BAG_L2   0.520295      90.970760  3728.695117   \n",
            "27  RandomForestGini_BAG_L3   0.519723     152.926645  6734.102006   \n",
            "28        LightGBMXT_BAG_L1   0.519719      10.501971   135.211979   \n",
            "29  RandomForestEntr_BAG_L2   0.519039      89.990563  3859.598449   \n",
            "30  RandomForestEntr_BAG_L1   0.512221       8.049615    91.909948   \n",
            "31  RandomForestGini_BAG_L1   0.511947      10.134970    76.148664   \n",
            "32   NeuralNetFastAI_BAG_L1   0.511633       2.423823   987.512378   \n",
            "33    NeuralNetTorch_BAG_L1   0.511251       1.753414   567.964317   \n",
            "34  RandomForestGini_BAG_L4   0.509418     202.287078  9073.622864   \n",
            "35    ExtraTreesEntr_BAG_L1   0.500860      10.055141    68.312755   \n",
            "36    ExtraTreesGini_BAG_L1   0.499395       8.699763    56.176284   \n",
            "37    KNeighborsDist_BAG_L1   0.389744       1.143583     0.222149   \n",
            "38    KNeighborsUnif_BAG_L1   0.376941       0.690807     0.217743   \n",
            "\n",
            "    pred_time_val_marginal  fit_time_marginal  stack_level  can_infer  \\\n",
            "0                 0.034476          37.774834            4       True   \n",
            "1                 3.222889        1062.860940            3       True   \n",
            "2                 3.276964         862.135199            4       True   \n",
            "3                 0.035370          17.330386            5       True   \n",
            "4                 0.054023          38.009704            3       True   \n",
            "5                 3.374823        1117.237222            2       True   \n",
            "6                 1.502733         151.313132            3       True   \n",
            "7                 3.883017         129.283013            3       True   \n",
            "8                 4.197979         133.903862            4       True   \n",
            "9                 5.643965         182.748153            2       True   \n",
            "10                0.535974         299.538222            3       True   \n",
            "11                3.205786         138.252567            4       True   \n",
            "12                3.817221         132.080036            3       True   \n",
            "13                3.045465         154.799680            2       True   \n",
            "14               11.842504         109.285246            2       True   \n",
            "15                2.002702          77.509219            2       True   \n",
            "16                0.726975         609.630510            2       True   \n",
            "17               11.171183         119.152310            2       True   \n",
            "18                7.221781         104.382965            1       True   \n",
            "19                0.048031          56.564322            2       True   \n",
            "20                9.224435          89.317961            3       True   \n",
            "21               12.968964          83.240827            3       True   \n",
            "22                3.889191          86.223458            1       True   \n",
            "23               10.682699         707.752034            1       True   \n",
            "24                0.938390         559.489373            1       True   \n",
            "25                9.471115         316.652991            3       True   \n",
            "26               14.785613         287.171071            2       True   \n",
            "27               10.342852         216.970147            3       True   \n",
            "28               10.501971         135.211979            1       True   \n",
            "29               13.805415         418.074403            2       True   \n",
            "30                8.049615          91.909948            1       True   \n",
            "31               10.134970          76.148664            1       True   \n",
            "32                2.423823         987.512378            1       True   \n",
            "33                1.753414         567.964317            1       True   \n",
            "34                4.734085          75.233736            4       True   \n",
            "35               10.055141          68.312755            1       True   \n",
            "36                8.699763          56.176284            1       True   \n",
            "37                1.143583           0.222149            1       True   \n",
            "38                0.690807           0.217743            1       True   \n",
            "\n",
            "    fit_order  \n",
            "0          34  \n",
            "1          25  \n",
            "2          35  \n",
            "3          39  \n",
            "4          24  \n",
            "5          15  \n",
            "6          33  \n",
            "7          26  \n",
            "8          36  \n",
            "9          16  \n",
            "10         30  \n",
            "11         37  \n",
            "12         27  \n",
            "13         17  \n",
            "14         21  \n",
            "15         23  \n",
            "16         20  \n",
            "17         22  \n",
            "18         13  \n",
            "19         14  \n",
            "20         32  \n",
            "21         31  \n",
            "22          5  \n",
            "23         11  \n",
            "24          8  \n",
            "25         29  \n",
            "26         18  \n",
            "27         28  \n",
            "28          4  \n",
            "29         19  \n",
            "30          7  \n",
            "31          6  \n",
            "32          3  \n",
            "33         12  \n",
            "34         38  \n",
            "35         10  \n",
            "36          9  \n",
            "37          2  \n",
            "38          1  \n"
          ]
        }
      ]
    },
    {
      "cell_type": "code",
      "source": [
        "predictor.feature_importance(train_data)\n",
        "model_to_use = predictor.get_model_best()\n",
        "model_pred = predictor.predict(test_data, model=model_to_use)\n",
        "\n",
        "submission = pd.read_csv('/content/drive/MyDrive/open (6)/sample_submission.csv')\n",
        "\n",
        "submission[\"TARGET\"] = model_pred\n",
        "submission.to_csv('/content/drive/MyDrive/open (6)/Gluon_submission1.csv', index=False, encoding=\"utf-8\")"
      ],
      "metadata": {
        "colab": {
          "base_uri": "https://localhost:8080/"
        },
        "id": "6Itp4bPKn_dA",
        "outputId": "c603244b-926b-4105-d18a-74e1ea07dbf2"
      },
      "execution_count": null,
      "outputs": [
        {
          "output_type": "stream",
          "name": "stderr",
          "text": [
            "Computing feature importance via permutation shuffling for 51 features using 5000 rows with 5 shuffle sets...\n",
            "\t23546.14s\t= Expected runtime (4709.23s per shuffle set)\n",
            "\t5889.94s\t= Actual runtime (Completed 5 of 5 shuffle sets)\n"
          ]
        }
      ]
    },
    {
      "cell_type": "markdown",
      "source": [
        "##파이캐럿도 사용해서 어떤게 제일 좋은지 지표로 확인\n"
      ],
      "metadata": {
        "id": "eHEwiKd0lcFG"
      }
    },
    {
      "cell_type": "code",
      "source": [
        "def seed_everything(seed):\n",
        "    random.seed(seed)\n",
        "    os.environ['PYTHONHASHSEED'] = str(seed)\n",
        "    np.random.seed(seed)\n",
        "\n",
        "seed_everything(42) # Seed 고정"
      ],
      "metadata": {
        "id": "NqnOqkRhlqOD"
      },
      "execution_count": null,
      "outputs": []
    },
    {
      "cell_type": "code",
      "source": [
        "train_dum_re.columns"
      ],
      "metadata": {
        "colab": {
          "base_uri": "https://localhost:8080/"
        },
        "id": "tXR4vt-Umexm",
        "outputId": "8e2b425f-90e6-49f2-e0d8-c6036c27cb47"
      },
      "execution_count": null,
      "outputs": [
        {
          "output_type": "execute_result",
          "data": {
            "text/plain": [
              "Index(['ID', '소관경찰서', '소관지역', '사건발생거리', '강수량(mm)', '풍향', '안개', 'TARGET',\n",
              "       '범죄발생지_공원', '범죄발생지_백화점', '범죄발생지_병원', '범죄발생지_식당', '범죄발생지_약국', '범죄발생지_은행',\n",
              "       '범죄발생지_인도', '범죄발생지_주거지', '범죄발생지_주유소', '범죄발생지_주차장', '범죄발생지_차도',\n",
              "       '범죄발생지_편의점', '범죄발생지_학교', '범죄발생지_호텔/모텔', '요일_금요일', '요일_목요일', '요일_수요일',\n",
              "       '요일_월요일', '요일_일요일', '요일_토요일', '요일_화요일', '시간_1', '시간_2', '시간_3', '시간_4',\n",
              "       '시간_5', '시간_6', '시간_7', '시간_8', '시간_9', '시간_10', '시간_11', '시간_12',\n",
              "       '월_1', '월_2', '월_3', '월_4', '월_5', '월_6', '월_7', '월_8', '월_9', '월_10',\n",
              "       '월_11', '월_12'],\n",
              "      dtype='object')"
            ]
          },
          "metadata": {},
          "execution_count": 17
        }
      ]
    },
    {
      "cell_type": "code",
      "source": [
        "x_train = train_dum_re.drop('ID', axis = 1)\n",
        "# y_train = train['TARGET']\n",
        "\n",
        "x_test = test_dum_re.drop('ID', axis = 1)\n"
      ],
      "metadata": {
        "id": "eFK10L_2lv0p"
      },
      "execution_count": null,
      "outputs": []
    },
    {
      "cell_type": "code",
      "source": [
        "x_train.columns"
      ],
      "metadata": {
        "colab": {
          "base_uri": "https://localhost:8080/"
        },
        "id": "LCVvircGm0QF",
        "outputId": "3c4f856d-795d-47f1-9f05-c9619480d909"
      },
      "execution_count": null,
      "outputs": [
        {
          "output_type": "execute_result",
          "data": {
            "text/plain": [
              "Index(['소관경찰서', '소관지역', '사건발생거리', '강수량(mm)', '풍향', '안개', 'TARGET', '범죄발생지_공원',\n",
              "       '범죄발생지_백화점', '범죄발생지_병원', '범죄발생지_식당', '범죄발생지_약국', '범죄발생지_은행', '범죄발생지_인도',\n",
              "       '범죄발생지_주거지', '범죄발생지_주유소', '범죄발생지_주차장', '범죄발생지_차도', '범죄발생지_편의점',\n",
              "       '범죄발생지_학교', '범죄발생지_호텔/모텔', '요일_금요일', '요일_목요일', '요일_수요일', '요일_월요일',\n",
              "       '요일_일요일', '요일_토요일', '요일_화요일', '시간_1', '시간_2', '시간_3', '시간_4', '시간_5',\n",
              "       '시간_6', '시간_7', '시간_8', '시간_9', '시간_10', '시간_11', '시간_12', '월_1', '월_2',\n",
              "       '월_3', '월_4', '월_5', '월_6', '월_7', '월_8', '월_9', '월_10', '월_11',\n",
              "       '월_12'],\n",
              "      dtype='object')"
            ]
          },
          "metadata": {},
          "execution_count": 22
        }
      ]
    },
    {
      "cell_type": "code",
      "source": [
        "!pip install pycaret\n"
      ],
      "metadata": {
        "id": "cD879Py0l-IR"
      },
      "execution_count": null,
      "outputs": []
    },
    {
      "cell_type": "code",
      "source": [
        "from pycaret import classification\n",
        "classification.setup(data=x_train ,target='TARGET',\n",
        "                 remove_outliers=True)"
      ],
      "metadata": {
        "colab": {
          "base_uri": "https://localhost:8080/",
          "height": 725
        },
        "id": "9w0pgAqKlTXa",
        "outputId": "8ebae6fb-b263-4821-ef8a-f20ff655ee48"
      },
      "execution_count": null,
      "outputs": [
        {
          "output_type": "display_data",
          "data": {
            "text/plain": [
              "<pandas.io.formats.style.Styler at 0x7f7f4b5ac850>"
            ],
            "text/html": [
              "<style type=\"text/css\">\n",
              "#T_25893_row8_col1, #T_25893_row12_col1 {\n",
              "  background-color: lightgreen;\n",
              "}\n",
              "</style>\n",
              "<table id=\"T_25893\" class=\"dataframe\">\n",
              "  <thead>\n",
              "    <tr>\n",
              "      <th class=\"blank level0\" >&nbsp;</th>\n",
              "      <th id=\"T_25893_level0_col0\" class=\"col_heading level0 col0\" >Description</th>\n",
              "      <th id=\"T_25893_level0_col1\" class=\"col_heading level0 col1\" >Value</th>\n",
              "    </tr>\n",
              "  </thead>\n",
              "  <tbody>\n",
              "    <tr>\n",
              "      <th id=\"T_25893_level0_row0\" class=\"row_heading level0 row0\" >0</th>\n",
              "      <td id=\"T_25893_row0_col0\" class=\"data row0 col0\" >Session id</td>\n",
              "      <td id=\"T_25893_row0_col1\" class=\"data row0 col1\" >1974</td>\n",
              "    </tr>\n",
              "    <tr>\n",
              "      <th id=\"T_25893_level0_row1\" class=\"row_heading level0 row1\" >1</th>\n",
              "      <td id=\"T_25893_row1_col0\" class=\"data row1 col0\" >Target</td>\n",
              "      <td id=\"T_25893_row1_col1\" class=\"data row1 col1\" >TARGET</td>\n",
              "    </tr>\n",
              "    <tr>\n",
              "      <th id=\"T_25893_level0_row2\" class=\"row_heading level0 row2\" >2</th>\n",
              "      <td id=\"T_25893_row2_col0\" class=\"data row2 col0\" >Target type</td>\n",
              "      <td id=\"T_25893_row2_col1\" class=\"data row2 col1\" >Multiclass</td>\n",
              "    </tr>\n",
              "    <tr>\n",
              "      <th id=\"T_25893_level0_row3\" class=\"row_heading level0 row3\" >3</th>\n",
              "      <td id=\"T_25893_row3_col0\" class=\"data row3 col0\" >Original data shape</td>\n",
              "      <td id=\"T_25893_row3_col1\" class=\"data row3 col1\" >(84406, 52)</td>\n",
              "    </tr>\n",
              "    <tr>\n",
              "      <th id=\"T_25893_level0_row4\" class=\"row_heading level0 row4\" >4</th>\n",
              "      <td id=\"T_25893_row4_col0\" class=\"data row4 col0\" >Transformed data shape</td>\n",
              "      <td id=\"T_25893_row4_col1\" class=\"data row4 col1\" >(81451, 52)</td>\n",
              "    </tr>\n",
              "    <tr>\n",
              "      <th id=\"T_25893_level0_row5\" class=\"row_heading level0 row5\" >5</th>\n",
              "      <td id=\"T_25893_row5_col0\" class=\"data row5 col0\" >Transformed train set shape</td>\n",
              "      <td id=\"T_25893_row5_col1\" class=\"data row5 col1\" >(56129, 52)</td>\n",
              "    </tr>\n",
              "    <tr>\n",
              "      <th id=\"T_25893_level0_row6\" class=\"row_heading level0 row6\" >6</th>\n",
              "      <td id=\"T_25893_row6_col0\" class=\"data row6 col0\" >Transformed test set shape</td>\n",
              "      <td id=\"T_25893_row6_col1\" class=\"data row6 col1\" >(25322, 52)</td>\n",
              "    </tr>\n",
              "    <tr>\n",
              "      <th id=\"T_25893_level0_row7\" class=\"row_heading level0 row7\" >7</th>\n",
              "      <td id=\"T_25893_row7_col0\" class=\"data row7 col0\" >Numeric features</td>\n",
              "      <td id=\"T_25893_row7_col1\" class=\"data row7 col1\" >51</td>\n",
              "    </tr>\n",
              "    <tr>\n",
              "      <th id=\"T_25893_level0_row8\" class=\"row_heading level0 row8\" >8</th>\n",
              "      <td id=\"T_25893_row8_col0\" class=\"data row8 col0\" >Preprocess</td>\n",
              "      <td id=\"T_25893_row8_col1\" class=\"data row8 col1\" >True</td>\n",
              "    </tr>\n",
              "    <tr>\n",
              "      <th id=\"T_25893_level0_row9\" class=\"row_heading level0 row9\" >9</th>\n",
              "      <td id=\"T_25893_row9_col0\" class=\"data row9 col0\" >Imputation type</td>\n",
              "      <td id=\"T_25893_row9_col1\" class=\"data row9 col1\" >simple</td>\n",
              "    </tr>\n",
              "    <tr>\n",
              "      <th id=\"T_25893_level0_row10\" class=\"row_heading level0 row10\" >10</th>\n",
              "      <td id=\"T_25893_row10_col0\" class=\"data row10 col0\" >Numeric imputation</td>\n",
              "      <td id=\"T_25893_row10_col1\" class=\"data row10 col1\" >mean</td>\n",
              "    </tr>\n",
              "    <tr>\n",
              "      <th id=\"T_25893_level0_row11\" class=\"row_heading level0 row11\" >11</th>\n",
              "      <td id=\"T_25893_row11_col0\" class=\"data row11 col0\" >Categorical imputation</td>\n",
              "      <td id=\"T_25893_row11_col1\" class=\"data row11 col1\" >mode</td>\n",
              "    </tr>\n",
              "    <tr>\n",
              "      <th id=\"T_25893_level0_row12\" class=\"row_heading level0 row12\" >12</th>\n",
              "      <td id=\"T_25893_row12_col0\" class=\"data row12 col0\" >Remove outliers</td>\n",
              "      <td id=\"T_25893_row12_col1\" class=\"data row12 col1\" >True</td>\n",
              "    </tr>\n",
              "    <tr>\n",
              "      <th id=\"T_25893_level0_row13\" class=\"row_heading level0 row13\" >13</th>\n",
              "      <td id=\"T_25893_row13_col0\" class=\"data row13 col0\" >Outliers threshold</td>\n",
              "      <td id=\"T_25893_row13_col1\" class=\"data row13 col1\" >0.050000</td>\n",
              "    </tr>\n",
              "    <tr>\n",
              "      <th id=\"T_25893_level0_row14\" class=\"row_heading level0 row14\" >14</th>\n",
              "      <td id=\"T_25893_row14_col0\" class=\"data row14 col0\" >Fold Generator</td>\n",
              "      <td id=\"T_25893_row14_col1\" class=\"data row14 col1\" >StratifiedKFold</td>\n",
              "    </tr>\n",
              "    <tr>\n",
              "      <th id=\"T_25893_level0_row15\" class=\"row_heading level0 row15\" >15</th>\n",
              "      <td id=\"T_25893_row15_col0\" class=\"data row15 col0\" >Fold Number</td>\n",
              "      <td id=\"T_25893_row15_col1\" class=\"data row15 col1\" >10</td>\n",
              "    </tr>\n",
              "    <tr>\n",
              "      <th id=\"T_25893_level0_row16\" class=\"row_heading level0 row16\" >16</th>\n",
              "      <td id=\"T_25893_row16_col0\" class=\"data row16 col0\" >CPU Jobs</td>\n",
              "      <td id=\"T_25893_row16_col1\" class=\"data row16 col1\" >-1</td>\n",
              "    </tr>\n",
              "    <tr>\n",
              "      <th id=\"T_25893_level0_row17\" class=\"row_heading level0 row17\" >17</th>\n",
              "      <td id=\"T_25893_row17_col0\" class=\"data row17 col0\" >Use GPU</td>\n",
              "      <td id=\"T_25893_row17_col1\" class=\"data row17 col1\" >False</td>\n",
              "    </tr>\n",
              "    <tr>\n",
              "      <th id=\"T_25893_level0_row18\" class=\"row_heading level0 row18\" >18</th>\n",
              "      <td id=\"T_25893_row18_col0\" class=\"data row18 col0\" >Log Experiment</td>\n",
              "      <td id=\"T_25893_row18_col1\" class=\"data row18 col1\" >False</td>\n",
              "    </tr>\n",
              "    <tr>\n",
              "      <th id=\"T_25893_level0_row19\" class=\"row_heading level0 row19\" >19</th>\n",
              "      <td id=\"T_25893_row19_col0\" class=\"data row19 col0\" >Experiment Name</td>\n",
              "      <td id=\"T_25893_row19_col1\" class=\"data row19 col1\" >clf-default-name</td>\n",
              "    </tr>\n",
              "    <tr>\n",
              "      <th id=\"T_25893_level0_row20\" class=\"row_heading level0 row20\" >20</th>\n",
              "      <td id=\"T_25893_row20_col0\" class=\"data row20 col0\" >USI</td>\n",
              "      <td id=\"T_25893_row20_col1\" class=\"data row20 col1\" >5797</td>\n",
              "    </tr>\n",
              "  </tbody>\n",
              "</table>\n"
            ]
          },
          "metadata": {}
        },
        {
          "output_type": "execute_result",
          "data": {
            "text/plain": [
              "<pycaret.classification.oop.ClassificationExperiment at 0x7f7f4bd53a30>"
            ]
          },
          "metadata": {},
          "execution_count": 23
        }
      ]
    },
    {
      "cell_type": "code",
      "source": [
        "best = classification.compare_models(n_select=5,fold=5)\n"
      ],
      "metadata": {
        "colab": {
          "base_uri": "https://localhost:8080/",
          "height": 988,
          "referenced_widgets": [
            "3f54408d79da48feb37d679e57127415",
            "d70b7b27d6724c988b3b81730664d17c",
            "0855a12573824b8fb86097076093da00",
            "523415dadd004c6698c3ac7ed87ce640",
            "8529341c824d4859812aaf70bfe14a85",
            "9bfe7489501545a2b5961a561296bde6",
            "59a9134accf54a08b4e07595f5a5ee0b",
            "fea85032a1f84cdc9ad87f495e5f76e7",
            "57270f2908ec487cbffc01d34e4560f3",
            "41d30f3e77a442689594c1b78a825ccb",
            "3a07a89934994571954cd41d278cdbcb"
          ]
        },
        "id": "rAoQa070nDE7",
        "outputId": "c7af5c85-e6e6-40a3-a1d5-32b06260d759"
      },
      "execution_count": null,
      "outputs": [
        {
          "output_type": "display_data",
          "data": {
            "text/plain": [
              "<IPython.core.display.HTML object>"
            ],
            "text/html": []
          },
          "metadata": {}
        },
        {
          "output_type": "display_data",
          "data": {
            "text/plain": [
              "<pandas.io.formats.style.Styler at 0x7f7f4be4edd0>"
            ],
            "text/html": [
              "<style type=\"text/css\">\n",
              "#T_e12e7 th {\n",
              "  text-align: left;\n",
              "}\n",
              "#T_e12e7_row0_col0, #T_e12e7_row0_col4, #T_e12e7_row1_col0, #T_e12e7_row1_col1, #T_e12e7_row1_col2, #T_e12e7_row1_col3, #T_e12e7_row1_col4, #T_e12e7_row1_col5, #T_e12e7_row1_col6, #T_e12e7_row1_col7, #T_e12e7_row2_col0, #T_e12e7_row2_col1, #T_e12e7_row2_col2, #T_e12e7_row2_col3, #T_e12e7_row2_col4, #T_e12e7_row2_col5, #T_e12e7_row2_col6, #T_e12e7_row2_col7, #T_e12e7_row3_col0, #T_e12e7_row3_col1, #T_e12e7_row3_col2, #T_e12e7_row3_col3, #T_e12e7_row3_col4, #T_e12e7_row3_col5, #T_e12e7_row3_col6, #T_e12e7_row3_col7, #T_e12e7_row4_col0, #T_e12e7_row4_col1, #T_e12e7_row4_col2, #T_e12e7_row4_col3, #T_e12e7_row4_col4, #T_e12e7_row4_col5, #T_e12e7_row4_col6, #T_e12e7_row4_col7, #T_e12e7_row5_col0, #T_e12e7_row5_col1, #T_e12e7_row5_col2, #T_e12e7_row5_col3, #T_e12e7_row5_col4, #T_e12e7_row5_col5, #T_e12e7_row5_col6, #T_e12e7_row5_col7, #T_e12e7_row6_col0, #T_e12e7_row6_col1, #T_e12e7_row6_col2, #T_e12e7_row6_col3, #T_e12e7_row6_col4, #T_e12e7_row6_col5, #T_e12e7_row6_col6, #T_e12e7_row6_col7, #T_e12e7_row7_col0, #T_e12e7_row7_col1, #T_e12e7_row7_col2, #T_e12e7_row7_col3, #T_e12e7_row7_col4, #T_e12e7_row7_col5, #T_e12e7_row7_col6, #T_e12e7_row7_col7, #T_e12e7_row8_col0, #T_e12e7_row8_col1, #T_e12e7_row8_col2, #T_e12e7_row8_col3, #T_e12e7_row8_col4, #T_e12e7_row8_col5, #T_e12e7_row8_col6, #T_e12e7_row8_col7, #T_e12e7_row9_col0, #T_e12e7_row9_col1, #T_e12e7_row9_col2, #T_e12e7_row9_col3, #T_e12e7_row9_col4, #T_e12e7_row9_col5, #T_e12e7_row9_col6, #T_e12e7_row9_col7, #T_e12e7_row10_col0, #T_e12e7_row10_col1, #T_e12e7_row10_col2, #T_e12e7_row10_col3, #T_e12e7_row10_col4, #T_e12e7_row10_col5, #T_e12e7_row10_col6, #T_e12e7_row10_col7, #T_e12e7_row11_col0, #T_e12e7_row11_col1, #T_e12e7_row11_col2, #T_e12e7_row11_col3, #T_e12e7_row11_col4, #T_e12e7_row11_col5, #T_e12e7_row11_col6, #T_e12e7_row11_col7, #T_e12e7_row12_col0, #T_e12e7_row12_col1, #T_e12e7_row12_col2, #T_e12e7_row12_col3, #T_e12e7_row12_col4, #T_e12e7_row12_col5, #T_e12e7_row12_col6, #T_e12e7_row12_col7, #T_e12e7_row13_col0, #T_e12e7_row13_col1, #T_e12e7_row13_col2, #T_e12e7_row13_col3, #T_e12e7_row13_col5, #T_e12e7_row13_col6, #T_e12e7_row13_col7, #T_e12e7_row14_col0, #T_e12e7_row14_col1, #T_e12e7_row14_col2, #T_e12e7_row14_col3, #T_e12e7_row14_col4, #T_e12e7_row14_col5, #T_e12e7_row14_col6, #T_e12e7_row14_col7, #T_e12e7_row15_col0, #T_e12e7_row15_col1, #T_e12e7_row15_col2, #T_e12e7_row15_col3, #T_e12e7_row15_col4, #T_e12e7_row15_col5, #T_e12e7_row15_col6, #T_e12e7_row15_col7 {\n",
              "  text-align: left;\n",
              "}\n",
              "#T_e12e7_row0_col1, #T_e12e7_row0_col2, #T_e12e7_row0_col3, #T_e12e7_row0_col5, #T_e12e7_row0_col6, #T_e12e7_row0_col7, #T_e12e7_row13_col4 {\n",
              "  text-align: left;\n",
              "  background-color: yellow;\n",
              "}\n",
              "#T_e12e7_row0_col8, #T_e12e7_row1_col8, #T_e12e7_row2_col8, #T_e12e7_row3_col8, #T_e12e7_row4_col8, #T_e12e7_row5_col8, #T_e12e7_row6_col8, #T_e12e7_row7_col8, #T_e12e7_row8_col8, #T_e12e7_row9_col8, #T_e12e7_row10_col8, #T_e12e7_row12_col8, #T_e12e7_row13_col8, #T_e12e7_row14_col8, #T_e12e7_row15_col8 {\n",
              "  text-align: left;\n",
              "  background-color: lightgrey;\n",
              "}\n",
              "#T_e12e7_row11_col8 {\n",
              "  text-align: left;\n",
              "  background-color: yellow;\n",
              "  background-color: lightgrey;\n",
              "}\n",
              "</style>\n",
              "<table id=\"T_e12e7\" class=\"dataframe\">\n",
              "  <thead>\n",
              "    <tr>\n",
              "      <th class=\"blank level0\" >&nbsp;</th>\n",
              "      <th id=\"T_e12e7_level0_col0\" class=\"col_heading level0 col0\" >Model</th>\n",
              "      <th id=\"T_e12e7_level0_col1\" class=\"col_heading level0 col1\" >Accuracy</th>\n",
              "      <th id=\"T_e12e7_level0_col2\" class=\"col_heading level0 col2\" >AUC</th>\n",
              "      <th id=\"T_e12e7_level0_col3\" class=\"col_heading level0 col3\" >Recall</th>\n",
              "      <th id=\"T_e12e7_level0_col4\" class=\"col_heading level0 col4\" >Prec.</th>\n",
              "      <th id=\"T_e12e7_level0_col5\" class=\"col_heading level0 col5\" >F1</th>\n",
              "      <th id=\"T_e12e7_level0_col6\" class=\"col_heading level0 col6\" >Kappa</th>\n",
              "      <th id=\"T_e12e7_level0_col7\" class=\"col_heading level0 col7\" >MCC</th>\n",
              "      <th id=\"T_e12e7_level0_col8\" class=\"col_heading level0 col8\" >TT (Sec)</th>\n",
              "    </tr>\n",
              "  </thead>\n",
              "  <tbody>\n",
              "    <tr>\n",
              "      <th id=\"T_e12e7_level0_row0\" class=\"row_heading level0 row0\" >lightgbm</th>\n",
              "      <td id=\"T_e12e7_row0_col0\" class=\"data row0 col0\" >Light Gradient Boosting Machine</td>\n",
              "      <td id=\"T_e12e7_row0_col1\" class=\"data row0 col1\" >0.5491</td>\n",
              "      <td id=\"T_e12e7_row0_col2\" class=\"data row0 col2\" >0.6990</td>\n",
              "      <td id=\"T_e12e7_row0_col3\" class=\"data row0 col3\" >0.5491</td>\n",
              "      <td id=\"T_e12e7_row0_col4\" class=\"data row0 col4\" >0.5458</td>\n",
              "      <td id=\"T_e12e7_row0_col5\" class=\"data row0 col5\" >0.5392</td>\n",
              "      <td id=\"T_e12e7_row0_col6\" class=\"data row0 col6\" >0.2888</td>\n",
              "      <td id=\"T_e12e7_row0_col7\" class=\"data row0 col7\" >0.2943</td>\n",
              "      <td id=\"T_e12e7_row0_col8\" class=\"data row0 col8\" >2.3060</td>\n",
              "    </tr>\n",
              "    <tr>\n",
              "      <th id=\"T_e12e7_level0_row1\" class=\"row_heading level0 row1\" >gbc</th>\n",
              "      <td id=\"T_e12e7_row1_col0\" class=\"data row1 col0\" >Gradient Boosting Classifier</td>\n",
              "      <td id=\"T_e12e7_row1_col1\" class=\"data row1 col1\" >0.5481</td>\n",
              "      <td id=\"T_e12e7_row1_col2\" class=\"data row1 col2\" >0.6981</td>\n",
              "      <td id=\"T_e12e7_row1_col3\" class=\"data row1 col3\" >0.5481</td>\n",
              "      <td id=\"T_e12e7_row1_col4\" class=\"data row1 col4\" >0.5462</td>\n",
              "      <td id=\"T_e12e7_row1_col5\" class=\"data row1 col5\" >0.5373</td>\n",
              "      <td id=\"T_e12e7_row1_col6\" class=\"data row1 col6\" >0.2864</td>\n",
              "      <td id=\"T_e12e7_row1_col7\" class=\"data row1 col7\" >0.2927</td>\n",
              "      <td id=\"T_e12e7_row1_col8\" class=\"data row1 col8\" >30.8080</td>\n",
              "    </tr>\n",
              "    <tr>\n",
              "      <th id=\"T_e12e7_level0_row2\" class=\"row_heading level0 row2\" >catboost</th>\n",
              "      <td id=\"T_e12e7_row2_col0\" class=\"data row2 col0\" >CatBoost Classifier</td>\n",
              "      <td id=\"T_e12e7_row2_col1\" class=\"data row2 col1\" >0.5444</td>\n",
              "      <td id=\"T_e12e7_row2_col2\" class=\"data row2 col2\" >0.6931</td>\n",
              "      <td id=\"T_e12e7_row2_col3\" class=\"data row2 col3\" >0.5444</td>\n",
              "      <td id=\"T_e12e7_row2_col4\" class=\"data row2 col4\" >0.5398</td>\n",
              "      <td id=\"T_e12e7_row2_col5\" class=\"data row2 col5\" >0.5343</td>\n",
              "      <td id=\"T_e12e7_row2_col6\" class=\"data row2 col6\" >0.2813</td>\n",
              "      <td id=\"T_e12e7_row2_col7\" class=\"data row2 col7\" >0.2865</td>\n",
              "      <td id=\"T_e12e7_row2_col8\" class=\"data row2 col8\" >30.8100</td>\n",
              "    </tr>\n",
              "    <tr>\n",
              "      <th id=\"T_e12e7_level0_row3\" class=\"row_heading level0 row3\" >xgboost</th>\n",
              "      <td id=\"T_e12e7_row3_col0\" class=\"data row3 col0\" >Extreme Gradient Boosting</td>\n",
              "      <td id=\"T_e12e7_row3_col1\" class=\"data row3 col1\" >0.5438</td>\n",
              "      <td id=\"T_e12e7_row3_col2\" class=\"data row3 col2\" >0.6940</td>\n",
              "      <td id=\"T_e12e7_row3_col3\" class=\"data row3 col3\" >0.5438</td>\n",
              "      <td id=\"T_e12e7_row3_col4\" class=\"data row3 col4\" >0.5396</td>\n",
              "      <td id=\"T_e12e7_row3_col5\" class=\"data row3 col5\" >0.5335</td>\n",
              "      <td id=\"T_e12e7_row3_col6\" class=\"data row3 col6\" >0.2802</td>\n",
              "      <td id=\"T_e12e7_row3_col7\" class=\"data row3 col7\" >0.2856</td>\n",
              "      <td id=\"T_e12e7_row3_col8\" class=\"data row3 col8\" >39.8540</td>\n",
              "    </tr>\n",
              "    <tr>\n",
              "      <th id=\"T_e12e7_level0_row4\" class=\"row_heading level0 row4\" >ada</th>\n",
              "      <td id=\"T_e12e7_row4_col0\" class=\"data row4 col0\" >Ada Boost Classifier</td>\n",
              "      <td id=\"T_e12e7_row4_col1\" class=\"data row4 col1\" >0.5427</td>\n",
              "      <td id=\"T_e12e7_row4_col2\" class=\"data row4 col2\" >0.6896</td>\n",
              "      <td id=\"T_e12e7_row4_col3\" class=\"data row4 col3\" >0.5427</td>\n",
              "      <td id=\"T_e12e7_row4_col4\" class=\"data row4 col4\" >0.5410</td>\n",
              "      <td id=\"T_e12e7_row4_col5\" class=\"data row4 col5\" >0.5336</td>\n",
              "      <td id=\"T_e12e7_row4_col6\" class=\"data row4 col6\" >0.2812</td>\n",
              "      <td id=\"T_e12e7_row4_col7\" class=\"data row4 col7\" >0.2862</td>\n",
              "      <td id=\"T_e12e7_row4_col8\" class=\"data row4 col8\" >3.1940</td>\n",
              "    </tr>\n",
              "    <tr>\n",
              "      <th id=\"T_e12e7_level0_row5\" class=\"row_heading level0 row5\" >ridge</th>\n",
              "      <td id=\"T_e12e7_row5_col0\" class=\"data row5 col0\" >Ridge Classifier</td>\n",
              "      <td id=\"T_e12e7_row5_col1\" class=\"data row5 col1\" >0.5314</td>\n",
              "      <td id=\"T_e12e7_row5_col2\" class=\"data row5 col2\" >0.0000</td>\n",
              "      <td id=\"T_e12e7_row5_col3\" class=\"data row5 col3\" >0.5314</td>\n",
              "      <td id=\"T_e12e7_row5_col4\" class=\"data row5 col4\" >0.5415</td>\n",
              "      <td id=\"T_e12e7_row5_col5\" class=\"data row5 col5\" >0.5156</td>\n",
              "      <td id=\"T_e12e7_row5_col6\" class=\"data row5 col6\" >0.2615</td>\n",
              "      <td id=\"T_e12e7_row5_col7\" class=\"data row5 col7\" >0.2708</td>\n",
              "      <td id=\"T_e12e7_row5_col8\" class=\"data row5 col8\" >0.4780</td>\n",
              "    </tr>\n",
              "    <tr>\n",
              "      <th id=\"T_e12e7_level0_row6\" class=\"row_heading level0 row6\" >lda</th>\n",
              "      <td id=\"T_e12e7_row6_col0\" class=\"data row6 col0\" >Linear Discriminant Analysis</td>\n",
              "      <td id=\"T_e12e7_row6_col1\" class=\"data row6 col1\" >0.5300</td>\n",
              "      <td id=\"T_e12e7_row6_col2\" class=\"data row6 col2\" >0.6771</td>\n",
              "      <td id=\"T_e12e7_row6_col3\" class=\"data row6 col3\" >0.5300</td>\n",
              "      <td id=\"T_e12e7_row6_col4\" class=\"data row6 col4\" >0.5427</td>\n",
              "      <td id=\"T_e12e7_row6_col5\" class=\"data row6 col5\" >0.5135</td>\n",
              "      <td id=\"T_e12e7_row6_col6\" class=\"data row6 col6\" >0.2599</td>\n",
              "      <td id=\"T_e12e7_row6_col7\" class=\"data row6 col7\" >0.2697</td>\n",
              "      <td id=\"T_e12e7_row6_col8\" class=\"data row6 col8\" >0.7560</td>\n",
              "    </tr>\n",
              "    <tr>\n",
              "      <th id=\"T_e12e7_level0_row7\" class=\"row_heading level0 row7\" >lr</th>\n",
              "      <td id=\"T_e12e7_row7_col0\" class=\"data row7 col0\" >Logistic Regression</td>\n",
              "      <td id=\"T_e12e7_row7_col1\" class=\"data row7 col1\" >0.5259</td>\n",
              "      <td id=\"T_e12e7_row7_col2\" class=\"data row7 col2\" >0.6650</td>\n",
              "      <td id=\"T_e12e7_row7_col3\" class=\"data row7 col3\" >0.5259</td>\n",
              "      <td id=\"T_e12e7_row7_col4\" class=\"data row7 col4\" >0.5248</td>\n",
              "      <td id=\"T_e12e7_row7_col5\" class=\"data row7 col5\" >0.5140</td>\n",
              "      <td id=\"T_e12e7_row7_col6\" class=\"data row7 col6\" >0.2541</td>\n",
              "      <td id=\"T_e12e7_row7_col7\" class=\"data row7 col7\" >0.2600</td>\n",
              "      <td id=\"T_e12e7_row7_col8\" class=\"data row7 col8\" >23.4700</td>\n",
              "    </tr>\n",
              "    <tr>\n",
              "      <th id=\"T_e12e7_level0_row8\" class=\"row_heading level0 row8\" >rf</th>\n",
              "      <td id=\"T_e12e7_row8_col0\" class=\"data row8 col0\" >Random Forest Classifier</td>\n",
              "      <td id=\"T_e12e7_row8_col1\" class=\"data row8 col1\" >0.5232</td>\n",
              "      <td id=\"T_e12e7_row8_col2\" class=\"data row8 col2\" >0.6752</td>\n",
              "      <td id=\"T_e12e7_row8_col3\" class=\"data row8 col3\" >0.5232</td>\n",
              "      <td id=\"T_e12e7_row8_col4\" class=\"data row8 col4\" >0.5159</td>\n",
              "      <td id=\"T_e12e7_row8_col5\" class=\"data row8 col5\" >0.5134</td>\n",
              "      <td id=\"T_e12e7_row8_col6\" class=\"data row8 col6\" >0.2495</td>\n",
              "      <td id=\"T_e12e7_row8_col7\" class=\"data row8 col7\" >0.2533</td>\n",
              "      <td id=\"T_e12e7_row8_col8\" class=\"data row8 col8\" >12.4600</td>\n",
              "    </tr>\n",
              "    <tr>\n",
              "      <th id=\"T_e12e7_level0_row9\" class=\"row_heading level0 row9\" >et</th>\n",
              "      <td id=\"T_e12e7_row9_col0\" class=\"data row9 col0\" >Extra Trees Classifier</td>\n",
              "      <td id=\"T_e12e7_row9_col1\" class=\"data row9 col1\" >0.4867</td>\n",
              "      <td id=\"T_e12e7_row9_col2\" class=\"data row9 col2\" >0.6449</td>\n",
              "      <td id=\"T_e12e7_row9_col3\" class=\"data row9 col3\" >0.4867</td>\n",
              "      <td id=\"T_e12e7_row9_col4\" class=\"data row9 col4\" >0.4792</td>\n",
              "      <td id=\"T_e12e7_row9_col5\" class=\"data row9 col5\" >0.4803</td>\n",
              "      <td id=\"T_e12e7_row9_col6\" class=\"data row9 col6\" >0.1988</td>\n",
              "      <td id=\"T_e12e7_row9_col7\" class=\"data row9 col7\" >0.2001</td>\n",
              "      <td id=\"T_e12e7_row9_col8\" class=\"data row9 col8\" >14.4220</td>\n",
              "    </tr>\n",
              "    <tr>\n",
              "      <th id=\"T_e12e7_level0_row10\" class=\"row_heading level0 row10\" >dt</th>\n",
              "      <td id=\"T_e12e7_row10_col0\" class=\"data row10 col0\" >Decision Tree Classifier</td>\n",
              "      <td id=\"T_e12e7_row10_col1\" class=\"data row10 col1\" >0.4358</td>\n",
              "      <td id=\"T_e12e7_row10_col2\" class=\"data row10 col2\" >0.5678</td>\n",
              "      <td id=\"T_e12e7_row10_col3\" class=\"data row10 col3\" >0.4358</td>\n",
              "      <td id=\"T_e12e7_row10_col4\" class=\"data row10 col4\" >0.4369</td>\n",
              "      <td id=\"T_e12e7_row10_col5\" class=\"data row10 col5\" >0.4363</td>\n",
              "      <td id=\"T_e12e7_row10_col6\" class=\"data row10 col6\" >0.1358</td>\n",
              "      <td id=\"T_e12e7_row10_col7\" class=\"data row10 col7\" >0.1359</td>\n",
              "      <td id=\"T_e12e7_row10_col8\" class=\"data row10 col8\" >1.0220</td>\n",
              "    </tr>\n",
              "    <tr>\n",
              "      <th id=\"T_e12e7_level0_row11\" class=\"row_heading level0 row11\" >dummy</th>\n",
              "      <td id=\"T_e12e7_row11_col0\" class=\"data row11 col0\" >Dummy Classifier</td>\n",
              "      <td id=\"T_e12e7_row11_col1\" class=\"data row11 col1\" >0.4319</td>\n",
              "      <td id=\"T_e12e7_row11_col2\" class=\"data row11 col2\" >0.5000</td>\n",
              "      <td id=\"T_e12e7_row11_col3\" class=\"data row11 col3\" >0.4319</td>\n",
              "      <td id=\"T_e12e7_row11_col4\" class=\"data row11 col4\" >0.1865</td>\n",
              "      <td id=\"T_e12e7_row11_col5\" class=\"data row11 col5\" >0.2605</td>\n",
              "      <td id=\"T_e12e7_row11_col6\" class=\"data row11 col6\" >0.0000</td>\n",
              "      <td id=\"T_e12e7_row11_col7\" class=\"data row11 col7\" >0.0000</td>\n",
              "      <td id=\"T_e12e7_row11_col8\" class=\"data row11 col8\" >0.2780</td>\n",
              "    </tr>\n",
              "    <tr>\n",
              "      <th id=\"T_e12e7_level0_row12\" class=\"row_heading level0 row12\" >knn</th>\n",
              "      <td id=\"T_e12e7_row12_col0\" class=\"data row12 col0\" >K Neighbors Classifier</td>\n",
              "      <td id=\"T_e12e7_row12_col1\" class=\"data row12 col1\" >0.4226</td>\n",
              "      <td id=\"T_e12e7_row12_col2\" class=\"data row12 col2\" >0.5590</td>\n",
              "      <td id=\"T_e12e7_row12_col3\" class=\"data row12 col3\" >0.4226</td>\n",
              "      <td id=\"T_e12e7_row12_col4\" class=\"data row12 col4\" >0.4053</td>\n",
              "      <td id=\"T_e12e7_row12_col5\" class=\"data row12 col5\" >0.4013</td>\n",
              "      <td id=\"T_e12e7_row12_col6\" class=\"data row12 col6\" >0.0774</td>\n",
              "      <td id=\"T_e12e7_row12_col7\" class=\"data row12 col7\" >0.0805</td>\n",
              "      <td id=\"T_e12e7_row12_col8\" class=\"data row12 col8\" >9.8900</td>\n",
              "    </tr>\n",
              "    <tr>\n",
              "      <th id=\"T_e12e7_level0_row13\" class=\"row_heading level0 row13\" >nb</th>\n",
              "      <td id=\"T_e12e7_row13_col0\" class=\"data row13 col0\" >Naive Bayes</td>\n",
              "      <td id=\"T_e12e7_row13_col1\" class=\"data row13 col1\" >0.3850</td>\n",
              "      <td id=\"T_e12e7_row13_col2\" class=\"data row13 col2\" >0.6599</td>\n",
              "      <td id=\"T_e12e7_row13_col3\" class=\"data row13 col3\" >0.3850</td>\n",
              "      <td id=\"T_e12e7_row13_col4\" class=\"data row13 col4\" >0.5637</td>\n",
              "      <td id=\"T_e12e7_row13_col5\" class=\"data row13 col5\" >0.3459</td>\n",
              "      <td id=\"T_e12e7_row13_col6\" class=\"data row13 col6\" >0.1329</td>\n",
              "      <td id=\"T_e12e7_row13_col7\" class=\"data row13 col7\" >0.1919</td>\n",
              "      <td id=\"T_e12e7_row13_col8\" class=\"data row13 col8\" >0.2820</td>\n",
              "    </tr>\n",
              "    <tr>\n",
              "      <th id=\"T_e12e7_level0_row14\" class=\"row_heading level0 row14\" >svm</th>\n",
              "      <td id=\"T_e12e7_row14_col0\" class=\"data row14 col0\" >SVM - Linear Kernel</td>\n",
              "      <td id=\"T_e12e7_row14_col1\" class=\"data row14 col1\" >0.3680</td>\n",
              "      <td id=\"T_e12e7_row14_col2\" class=\"data row14 col2\" >0.0000</td>\n",
              "      <td id=\"T_e12e7_row14_col3\" class=\"data row14 col3\" >0.3680</td>\n",
              "      <td id=\"T_e12e7_row14_col4\" class=\"data row14 col4\" >0.4993</td>\n",
              "      <td id=\"T_e12e7_row14_col5\" class=\"data row14 col5\" >0.2594</td>\n",
              "      <td id=\"T_e12e7_row14_col6\" class=\"data row14 col6\" >0.0334</td>\n",
              "      <td id=\"T_e12e7_row14_col7\" class=\"data row14 col7\" >0.0653</td>\n",
              "      <td id=\"T_e12e7_row14_col8\" class=\"data row14 col8\" >13.5280</td>\n",
              "    </tr>\n",
              "    <tr>\n",
              "      <th id=\"T_e12e7_level0_row15\" class=\"row_heading level0 row15\" >qda</th>\n",
              "      <td id=\"T_e12e7_row15_col0\" class=\"data row15 col0\" >Quadratic Discriminant Analysis</td>\n",
              "      <td id=\"T_e12e7_row15_col1\" class=\"data row15 col1\" >0.3486</td>\n",
              "      <td id=\"T_e12e7_row15_col2\" class=\"data row15 col2\" >0.5811</td>\n",
              "      <td id=\"T_e12e7_row15_col3\" class=\"data row15 col3\" >0.3486</td>\n",
              "      <td id=\"T_e12e7_row15_col4\" class=\"data row15 col4\" >0.4593</td>\n",
              "      <td id=\"T_e12e7_row15_col5\" class=\"data row15 col5\" >0.2770</td>\n",
              "      <td id=\"T_e12e7_row15_col6\" class=\"data row15 col6\" >0.0667</td>\n",
              "      <td id=\"T_e12e7_row15_col7\" class=\"data row15 col7\" >0.0965</td>\n",
              "      <td id=\"T_e12e7_row15_col8\" class=\"data row15 col8\" >0.5240</td>\n",
              "    </tr>\n",
              "  </tbody>\n",
              "</table>\n"
            ]
          },
          "metadata": {}
        },
        {
          "output_type": "display_data",
          "data": {
            "text/plain": [
              "Processing:   0%|          | 0/73 [00:00<?, ?it/s]"
            ],
            "application/vnd.jupyter.widget-view+json": {
              "version_major": 2,
              "version_minor": 0,
              "model_id": "3f54408d79da48feb37d679e57127415"
            }
          },
          "metadata": {
            "application/vnd.jupyter.widget-view+json": {
              "colab": {
                "custom_widget_manager": {
                  "url": "https://ssl.gstatic.com/colaboratory-static/widgets/colab-cdn-widget-manager/b3e629b1971e1542/manager.min.js"
                }
              }
            }
          }
        },
        {
          "output_type": "display_data",
          "data": {
            "text/plain": [
              "<IPython.core.display.HTML object>"
            ],
            "text/html": []
          },
          "metadata": {}
        }
      ]
    },
    {
      "cell_type": "code",
      "source": [
        "probas = []\n",
        "for model in best:\n",
        "    probas.append(model.predict_proba(x_test))\n",
        "\n",
        "pred = [np.argmax(i) for i in np.array(probas).mean(axis=0)]"
      ],
      "metadata": {
        "id": "DtzRI119nNL6"
      },
      "execution_count": null,
      "outputs": []
    },
    {
      "cell_type": "code",
      "source": [
        "sub = pd.read_csv('/content/drive/MyDrive/open (6)/sample_submission.csv')\n",
        "sub.set_index('ID',inplace=True)\n",
        "sub['TARGET'] = pred\n",
        "sub.to_csv('./answer.csv')"
      ],
      "metadata": {
        "id": "jiGrebHtrxjt"
      },
      "execution_count": null,
      "outputs": []
    },
    {
      "cell_type": "code",
      "source": [],
      "metadata": {
        "id": "AsEW62yCRLp6"
      },
      "execution_count": null,
      "outputs": []
    },
    {
      "cell_type": "code",
      "source": [
        "import os\n",
        "import random\n",
        "import warnings\n",
        "from sklearn.model_selection import train_test_split\n",
        "\n",
        "import librosa\n",
        "import numpy as np\n",
        "import pandas as pd\n",
        "import torch\n",
        "import torch.nn as nn\n",
        "from tqdm.auto import tqdm\n",
        "from torch.nn.utils.rnn import pad_sequence\n",
        "from torch.utils.data import DataLoader\n",
        "\n",
        "from transformers import AutoModelForAudioClassification, Wav2Vec2FeatureExtractor\n",
        "\n",
        "warnings.filterwarnings(action='ignore')\n",
        "os.environ['CUDA_LAUNCH_BLOCKING'] = '1'"
      ],
      "metadata": {
        "colab": {
          "base_uri": "https://localhost:8080/"
        },
        "id": "aqKmD3wosAdN",
        "outputId": "7b8084ae-25a3-4d0b-f450-ca0fe02d56b0"
      },
      "execution_count": null,
      "outputs": [
        {
          "output_type": "error",
          "ename": "ModuleNotFoundError",
          "evalue": "ignored",
          "traceback": [
            "\u001b[0;31m---------------------------------------------------------------------------\u001b[0m",
            "\u001b[0;31mModuleNotFoundError\u001b[0m                       Traceback (most recent call last)",
            "\u001b[0;32m<ipython-input-1-25c9fdd300de>\u001b[0m in \u001b[0;36m<cell line: 15>\u001b[0;34m()\u001b[0m\n\u001b[1;32m     13\u001b[0m \u001b[0;32mfrom\u001b[0m \u001b[0mtorch\u001b[0m\u001b[0;34m.\u001b[0m\u001b[0mutils\u001b[0m\u001b[0;34m.\u001b[0m\u001b[0mdata\u001b[0m \u001b[0;32mimport\u001b[0m \u001b[0mDataLoader\u001b[0m\u001b[0;34m\u001b[0m\u001b[0;34m\u001b[0m\u001b[0m\n\u001b[1;32m     14\u001b[0m \u001b[0;34m\u001b[0m\u001b[0m\n\u001b[0;32m---> 15\u001b[0;31m \u001b[0;32mfrom\u001b[0m \u001b[0mtransformers\u001b[0m \u001b[0;32mimport\u001b[0m \u001b[0mAutoModelForAudioClassification\u001b[0m\u001b[0;34m,\u001b[0m \u001b[0mWav2Vec2FeatureExtractor\u001b[0m\u001b[0;34m\u001b[0m\u001b[0;34m\u001b[0m\u001b[0m\n\u001b[0m\u001b[1;32m     16\u001b[0m \u001b[0;34m\u001b[0m\u001b[0m\n\u001b[1;32m     17\u001b[0m \u001b[0mwarnings\u001b[0m\u001b[0;34m.\u001b[0m\u001b[0mfilterwarnings\u001b[0m\u001b[0;34m(\u001b[0m\u001b[0maction\u001b[0m\u001b[0;34m=\u001b[0m\u001b[0;34m'ignore'\u001b[0m\u001b[0;34m)\u001b[0m\u001b[0;34m\u001b[0m\u001b[0;34m\u001b[0m\u001b[0m\n",
            "\u001b[0;31mModuleNotFoundError\u001b[0m: No module named 'transformers'",
            "",
            "\u001b[0;31m---------------------------------------------------------------------------\u001b[0;32m\nNOTE: If your import is failing due to a missing package, you can\nmanually install dependencies using either !pip or !apt.\n\nTo view examples of installing some common dependencies, click the\n\"Open Examples\" button below.\n\u001b[0;31m---------------------------------------------------------------------------\u001b[0m\n"
          ],
          "errorDetails": {
            "actions": [
              {
                "action": "open_url",
                "actionText": "Open Examples",
                "url": "/notebooks/snippets/importing_libraries.ipynb"
              }
            ]
          }
        }
      ]
    },
    {
      "cell_type": "code",
      "source": [
        "device = torch.device('cuda') if torch.cuda.is_available() else torch.device('cpu')\n"
      ],
      "metadata": {
        "id": "M5hJfuT8RHKp"
      },
      "execution_count": null,
      "outputs": []
    }
  ]
}