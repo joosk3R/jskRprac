{
  "nbformat": 4,
  "nbformat_minor": 0,
  "metadata": {
    "colab": {
      "provenance": [],
      "gpuType": "T4",
      "authorship_tag": "ABX9TyPNn6nuS5kr12h9R2eSvW6p",
      "include_colab_link": true
    },
    "kernelspec": {
      "name": "python3",
      "display_name": "Python 3"
    },
    "language_info": {
      "name": "python"
    },
    "accelerator": "GPU"
  },
  "cells": [
    {
      "cell_type": "markdown",
      "metadata": {
        "id": "view-in-github",
        "colab_type": "text"
      },
      "source": [
        "<a href=\"https://colab.research.google.com/github/joosk3R/jskRprac/blob/main/alexnet_code.ipynb\" target=\"_parent\"><img src=\"https://colab.research.google.com/assets/colab-badge.svg\" alt=\"Open In Colab\"/></a>"
      ]
    },
    {
      "cell_type": "code",
      "source": [
        "import matplotlib.pyplot as plt\n",
        "from matplotlib import rc\n",
        "import seaborn as sns\n",
        "%matplotlib inline\n",
        "rc('font', family='AppleGothic')\n",
        "\n",
        "plt.rcParams['axes.unicode_minus'] = False"
      ],
      "metadata": {
        "id": "zOOm80BLDmH-"
      },
      "execution_count": 1,
      "outputs": []
    },
    {
      "cell_type": "code",
      "execution_count": 2,
      "metadata": {
        "colab": {
          "base_uri": "https://localhost:8080/"
        },
        "id": "97ISTlJl5Dzj",
        "outputId": "80e21b5f-e498-4bf8-d303-8b8d666c0839"
      },
      "outputs": [
        {
          "output_type": "stream",
          "name": "stdout",
          "text": [
            "Drive already mounted at alexnet; to attempt to forcibly remount, call drive.mount(\"alexnet\", force_remount=True).\n"
          ]
        }
      ],
      "source": [
        "from google.colab import drive\n",
        "drive.mount('alexnet')"
      ]
    },
    {
      "cell_type": "code",
      "source": [
        "# matplotlib 한글 폰트 오류 문제 해결\n",
        "from matplotlib import font_manager, rc\n",
        "rc('font', family='AppleGothic')"
      ],
      "metadata": {
        "id": "DWrWf4Sh6eNp"
      },
      "execution_count": 3,
      "outputs": []
    },
    {
      "cell_type": "code",
      "source": [
        "# loding training dataset\n",
        "from torchvision import datasets\n",
        "import torchvision.transforms as transforms\n",
        "import os"
      ],
      "metadata": {
        "id": "TRL5_zff6DVu"
      },
      "execution_count": 4,
      "outputs": []
    },
    {
      "cell_type": "code",
      "source": [
        "path2data = \"/data\"\n",
        "if not os.path.exists(path2data):\n",
        "  os.mkdir(path2data)"
      ],
      "metadata": {
        "id": "Ce1VQfG56qlt"
      },
      "execution_count": 5,
      "outputs": []
    },
    {
      "cell_type": "code",
      "source": [
        "data_transformer = transforms.Compose([transforms.ToTensor()])\n",
        "train_ds= datasets.STL10(path2data, split='train',download=True, transform = data_transformer)\n"
      ],
      "metadata": {
        "colab": {
          "base_uri": "https://localhost:8080/"
        },
        "id": "fedILFW46zcQ",
        "outputId": "c34d0a11-7e09-4932-dd91-e679835f8115"
      },
      "execution_count": 6,
      "outputs": [
        {
          "output_type": "stream",
          "name": "stdout",
          "text": [
            "Files already downloaded and verified\n"
          ]
        }
      ]
    },
    {
      "cell_type": "code",
      "source": [
        "print(train_ds.data.shape)"
      ],
      "metadata": {
        "colab": {
          "base_uri": "https://localhost:8080/"
        },
        "id": "WWKmBhUL9xpH",
        "outputId": "1a37fe4a-9d56-43b7-8b2e-6c8126e7f0d4"
      },
      "execution_count": 7,
      "outputs": [
        {
          "output_type": "stream",
          "name": "stdout",
          "text": [
            "(5000, 3, 96, 96)\n"
          ]
        }
      ]
    },
    {
      "cell_type": "code",
      "source": [
        "train_ds[1]"
      ],
      "metadata": {
        "colab": {
          "base_uri": "https://localhost:8080/"
        },
        "id": "kLUrbyj9_E9a",
        "outputId": "92dd27df-b169-42f8-a8c5-83f27cb0c64e"
      },
      "execution_count": 8,
      "outputs": [
        {
          "output_type": "execute_result",
          "data": {
            "text/plain": [
              "(tensor([[[0.5059, 0.4863, 0.5412,  ..., 0.5490, 0.5490, 0.5608],\n",
              "          [0.5176, 0.4863, 0.5020,  ..., 0.5686, 0.5647, 0.5882],\n",
              "          [0.5176, 0.5020, 0.5059,  ..., 0.5882, 0.5804, 0.5843],\n",
              "          ...,\n",
              "          [0.6863, 0.4392, 0.5176,  ..., 0.7686, 0.6510, 0.5412],\n",
              "          [0.5804, 0.4510, 0.3843,  ..., 0.6157, 0.5020, 0.6980],\n",
              "          [0.5686, 0.6314, 0.5647,  ..., 0.5725, 0.5922, 0.7608]],\n",
              " \n",
              "         [[0.5490, 0.5216, 0.5647,  ..., 0.5451, 0.5451, 0.5451],\n",
              "          [0.5608, 0.5216, 0.5373,  ..., 0.5490, 0.5529, 0.5804],\n",
              "          [0.5569, 0.5412, 0.5451,  ..., 0.5765, 0.5804, 0.5765],\n",
              "          ...,\n",
              "          [0.6353, 0.4314, 0.4627,  ..., 0.6941, 0.5725, 0.4745],\n",
              "          [0.4941, 0.4235, 0.3412,  ..., 0.5373, 0.4275, 0.5765],\n",
              "          [0.4706, 0.5608, 0.5176,  ..., 0.5020, 0.5098, 0.6431]],\n",
              " \n",
              "         [[0.2863, 0.2667, 0.3294,  ..., 0.3294, 0.3137, 0.3294],\n",
              "          [0.3098, 0.2784, 0.3059,  ..., 0.3569, 0.3373, 0.3686],\n",
              "          [0.3176, 0.3020, 0.3059,  ..., 0.3725, 0.3569, 0.3608],\n",
              "          ...,\n",
              "          [0.4667, 0.2706, 0.3373,  ..., 0.5333, 0.4314, 0.3255],\n",
              "          [0.3451, 0.3059, 0.2706,  ..., 0.3882, 0.2824, 0.4510],\n",
              "          [0.3255, 0.4118, 0.3843,  ..., 0.3686, 0.3569, 0.4824]]]),\n",
              " 5)"
            ]
          },
          "metadata": {},
          "execution_count": 8
        }
      ]
    },
    {
      "cell_type": "code",
      "source": [
        "test0_ds = datasets.STL10(path2data, split= 'test', download = True, transform = data_transformer)\n",
        "print(test0_ds.data.shape)"
      ],
      "metadata": {
        "colab": {
          "base_uri": "https://localhost:8080/"
        },
        "id": "31WzlDOD7VVR",
        "outputId": "180d6020-519b-4b6e-84f4-b1c4316aa77f"
      },
      "execution_count": 9,
      "outputs": [
        {
          "output_type": "stream",
          "name": "stdout",
          "text": [
            "Files already downloaded and verified\n",
            "(8000, 3, 96, 96)\n"
          ]
        }
      ]
    },
    {
      "cell_type": "code",
      "source": [
        "import numpy as np\n",
        "\n",
        "meanRGB = [np.mean(x.numpy(), axis=(1,2)) for x, _ in train_ds]\n",
        "stdRGB = [np.std(x.numpy(), axis=(1,2)) for x, _ in train_ds]\n",
        "\n",
        "\n",
        "meanR = np.mean([m[0] for m in meanRGB])\n",
        "meanG = np.mean([m[1] for m in meanRGB])\n",
        "meanB = np.mean([m[2] for m in meanRGB])\n",
        "\n",
        "stdR = np.mean([s[0] for s in stdRGB])\n",
        "stdG = np.mean([s[1] for s in stdRGB])\n",
        "stdB = np.mean([s[2] for s in stdRGB])"
      ],
      "metadata": {
        "id": "MXazF8-W95ak"
      },
      "execution_count": 10,
      "outputs": []
    },
    {
      "cell_type": "code",
      "source": [
        "print(meanR, meanG, meanB)\n",
        "print(stdR, stdG, stdB)"
      ],
      "metadata": {
        "colab": {
          "base_uri": "https://localhost:8080/"
        },
        "id": "KD2WfqKn-HI3",
        "outputId": "337b3d17-6a96-4721-8bde-33c89fdee624"
      },
      "execution_count": 11,
      "outputs": [
        {
          "output_type": "stream",
          "name": "stdout",
          "text": [
            "0.4467106 0.43980986 0.40664646\n",
            "0.22414584 0.22148906 0.22389975\n"
          ]
        }
      ]
    },
    {
      "cell_type": "code",
      "source": [
        "train_transformer = transforms.Compose([\n",
        "    transforms.ToTensor(),\n",
        "    transforms.Normalize([meanR,meanG,meanB],[stdR,stdG,stdB]),\n",
        "    transforms.Resize(227)\n",
        "])\n",
        "\n",
        "test_transformer = transforms.Compose([\n",
        "                transforms.ToTensor(),\n",
        "                transforms.Normalize([meanR, meanG, meanB], [stdR, stdG, stdB]),\n",
        "                transforms.Resize(227)\n",
        "])\n",
        "\n"
      ],
      "metadata": {
        "id": "mWm7H9RS_u8M"
      },
      "execution_count": 12,
      "outputs": []
    },
    {
      "cell_type": "code",
      "source": [
        "train_ds.transform = train_transformer\n",
        "test0_ds.transform = test_transformer"
      ],
      "metadata": {
        "id": "ETnPkoR6_vTX"
      },
      "execution_count": 13,
      "outputs": []
    },
    {
      "cell_type": "code",
      "source": [
        "img, _ = train_ds[1]\n",
        "print(img.shape)"
      ],
      "metadata": {
        "colab": {
          "base_uri": "https://localhost:8080/"
        },
        "id": "Bn24LP_YBITn",
        "outputId": "f4e7b889-9a33-4be7-c7bf-6199ca44719c"
      },
      "execution_count": 14,
      "outputs": [
        {
          "output_type": "stream",
          "name": "stdout",
          "text": [
            "torch.Size([3, 227, 227])\n"
          ]
        },
        {
          "output_type": "stream",
          "name": "stderr",
          "text": [
            "/usr/local/lib/python3.10/dist-packages/torchvision/transforms/functional.py:1603: UserWarning: The default value of the antialias parameter of all the resizing transforms (Resize(), RandomResizedCrop(), etc.) will change from None to True in v0.17, in order to be consistent across the PIL and Tensor backends. To suppress this warning, directly pass antialias=True (recommended, future default), antialias=None (current default, which means False for Tensors and True for PIL), or antialias=False (only works on Tensors - PIL will still use antialiasing). This also applies if you are using the inference transforms from the models weights: update the call to weights.transforms(antialias=True).\n",
            "  warnings.warn(\n"
          ]
        }
      ]
    },
    {
      "cell_type": "code",
      "source": [
        "import torch\n",
        "from torchvision import utils\n",
        "import matplotlib.pyplot as plt\n",
        "import numpy as np\n",
        "%matplotlib inline"
      ],
      "metadata": {
        "id": "LgXKdLG3BRco"
      },
      "execution_count": 15,
      "outputs": []
    },
    {
      "cell_type": "code",
      "source": [
        "def show(img, y=None, color=True):\n",
        "\n",
        "  npimg = img.numpy()\n",
        "  npimg_tr = np.transpose(npimg, (1,2,0))\n",
        "  plt.imshow(npimg_tr)\n",
        "\n",
        "  if y is not None:\n",
        "    plt.title(\"labels: \"+ str(y))\n",
        "\n",
        "np.random.seed(0)\n",
        "torch.manual_seed(0)\n",
        "\n",
        "rnd_inds = int(np.random.randint(0,len(train_ds),1))\n",
        "print(rnd_inds)\n",
        "img, label = train_ds[rnd_inds]\n",
        "print('images indices: ' , rnd_inds)\n",
        "\n",
        "plt.figure(figsize =(10,10))\n",
        "show(img)"
      ],
      "metadata": {
        "colab": {
          "base_uri": "https://localhost:8080/",
          "height": 1000
        },
        "id": "QnJCJKuoBmhy",
        "outputId": "92523d38-3337-4936-f471-e9e525b129cd"
      },
      "execution_count": 16,
      "outputs": [
        {
          "output_type": "stream",
          "name": "stderr",
          "text": [
            "WARNING:matplotlib.image:Clipping input data to the valid range for imshow with RGB data ([0..1] for floats or [0..255] for integers).\n",
            "WARNING:matplotlib.font_manager:findfont: Font family 'AppleGothic' not found.\n",
            "WARNING:matplotlib.font_manager:findfont: Font family 'AppleGothic' not found.\n",
            "WARNING:matplotlib.font_manager:findfont: Font family 'AppleGothic' not found.\n",
            "WARNING:matplotlib.font_manager:findfont: Font family 'AppleGothic' not found.\n",
            "WARNING:matplotlib.font_manager:findfont: Font family 'AppleGothic' not found.\n",
            "WARNING:matplotlib.font_manager:findfont: Font family 'AppleGothic' not found.\n",
            "WARNING:matplotlib.font_manager:findfont: Font family 'AppleGothic' not found.\n",
            "WARNING:matplotlib.font_manager:findfont: Font family 'AppleGothic' not found.\n",
            "WARNING:matplotlib.font_manager:findfont: Font family 'AppleGothic' not found.\n",
            "WARNING:matplotlib.font_manager:findfont: Font family 'AppleGothic' not found.\n",
            "WARNING:matplotlib.font_manager:findfont: Font family 'AppleGothic' not found.\n",
            "WARNING:matplotlib.font_manager:findfont: Font family 'AppleGothic' not found.\n",
            "WARNING:matplotlib.font_manager:findfont: Font family 'AppleGothic' not found.\n",
            "WARNING:matplotlib.font_manager:findfont: Font family 'AppleGothic' not found.\n",
            "WARNING:matplotlib.font_manager:findfont: Font family 'AppleGothic' not found.\n",
            "WARNING:matplotlib.font_manager:findfont: Font family 'AppleGothic' not found.\n"
          ]
        },
        {
          "output_type": "stream",
          "name": "stdout",
          "text": [
            "2732\n",
            "images indices:  2732\n"
          ]
        },
        {
          "output_type": "stream",
          "name": "stderr",
          "text": [
            "WARNING:matplotlib.font_manager:findfont: Font family 'AppleGothic' not found.\n",
            "WARNING:matplotlib.font_manager:findfont: Font family 'AppleGothic' not found.\n",
            "WARNING:matplotlib.font_manager:findfont: Font family 'AppleGothic' not found.\n",
            "WARNING:matplotlib.font_manager:findfont: Font family 'AppleGothic' not found.\n",
            "WARNING:matplotlib.font_manager:findfont: Font family 'AppleGothic' not found.\n",
            "WARNING:matplotlib.font_manager:findfont: Font family 'AppleGothic' not found.\n",
            "WARNING:matplotlib.font_manager:findfont: Font family 'AppleGothic' not found.\n",
            "WARNING:matplotlib.font_manager:findfont: Font family 'AppleGothic' not found.\n",
            "WARNING:matplotlib.font_manager:findfont: Font family 'AppleGothic' not found.\n",
            "WARNING:matplotlib.font_manager:findfont: Font family 'AppleGothic' not found.\n",
            "WARNING:matplotlib.font_manager:findfont: Font family 'AppleGothic' not found.\n",
            "WARNING:matplotlib.font_manager:findfont: Font family 'AppleGothic' not found.\n",
            "WARNING:matplotlib.font_manager:findfont: Font family 'AppleGothic' not found.\n",
            "WARNING:matplotlib.font_manager:findfont: Font family 'AppleGothic' not found.\n",
            "WARNING:matplotlib.font_manager:findfont: Font family 'AppleGothic' not found.\n",
            "WARNING:matplotlib.font_manager:findfont: Font family 'AppleGothic' not found.\n"
          ]
        },
        {
          "output_type": "display_data",
          "data": {
            "text/plain": [
              "<Figure size 1000x1000 with 1 Axes>"
            ],
            "image/png": "[encoded data removed]"
          },
          "metadata": {}
        }
      ]
    },
    {
      "cell_type": "code",
      "source": [
        "import collections\n",
        "y_train = [y for _,y in train_ds]\n",
        "counter_train = collections.Counter(y_train)\n",
        "print(counter_train)"
      ],
      "metadata": {
        "colab": {
          "base_uri": "https://localhost:8080/"
        },
        "id": "_fr6WfVLDV0m",
        "outputId": "a265c531-2f1d-4398-d03a-f4e9d555c755"
      },
      "execution_count": 17,
      "outputs": [
        {
          "output_type": "stream",
          "name": "stdout",
          "text": [
            "Counter({1: 500, 5: 500, 6: 500, 3: 500, 9: 500, 7: 500, 4: 500, 8: 500, 0: 500, 2: 500})\n"
          ]
        }
      ]
    },
    {
      "cell_type": "code",
      "source": [
        "from sklearn.model_selection import StratifiedShuffleSplit\n",
        "\n",
        "sss = StratifiedShuffleSplit(n_splits =1 , test_size = 0.2 , random_state = 0)\n",
        "\n",
        "indices =list(range(len(test0_ds)))\n",
        "y_test0 = [y for _,y in test0_ds]\n",
        "\n",
        "for test_index, val_index in sss.split(indices, y_test0):\n",
        "  print('test : ', len(test_index), 'val : ',len(val_index))\n"
      ],
      "metadata": {
        "colab": {
          "base_uri": "https://localhost:8080/"
        },
        "id": "AL0X37_CD7ml",
        "outputId": "57a577a1-cacb-4887-9724-71c932015d2a"
      },
      "execution_count": 18,
      "outputs": [
        {
          "output_type": "stream",
          "name": "stderr",
          "text": [
            "/usr/local/lib/python3.10/dist-packages/torchvision/transforms/functional.py:1603: UserWarning: The default value of the antialias parameter of all the resizing transforms (Resize(), RandomResizedCrop(), etc.) will change from None to True in v0.17, in order to be consistent across the PIL and Tensor backends. To suppress this warning, directly pass antialias=True (recommended, future default), antialias=None (current default, which means False for Tensors and True for PIL), or antialias=False (only works on Tensors - PIL will still use antialiasing). This also applies if you are using the inference transforms from the models weights: update the call to weights.transforms(antialias=True).\n",
            "  warnings.warn(\n"
          ]
        },
        {
          "output_type": "stream",
          "name": "stdout",
          "text": [
            "test :  6400 val :  1600\n"
          ]
        }
      ]
    },
    {
      "cell_type": "code",
      "source": [
        "# create two datasets from test0_ds\n",
        "from torch.utils.data import Subset\n",
        "\n",
        "# if test0_ds is updated, val_ds and test_ds are updated\n",
        "# because val_ds and test_ds are a subset of test0_ds\n",
        "val_ds = Subset(test0_ds, val_index)\n",
        "test_ds = Subset(test0_ds, test_index)"
      ],
      "metadata": {
        "id": "L8pw1ejiFMpq"
      },
      "execution_count": 19,
      "outputs": []
    },
    {
      "cell_type": "code",
      "source": [
        "# count the number of images per calss in val_ds and test_ds\n",
        "import collections\n",
        "import numpy as np\n",
        "\n",
        "y_test = [y for _, y in test_ds]\n",
        "y_val = [y for _, y in val_ds]\n",
        "\n",
        "counter_test = collections.Counter(y_test)\n",
        "counter_val = collections.Counter(y_val)\n",
        "print(counter_test)\n",
        "print(counter_val)"
      ],
      "metadata": {
        "colab": {
          "base_uri": "https://localhost:8080/"
        },
        "id": "CthM7zFjFcVO",
        "outputId": "2765d77e-3492-4334-fc14-bc8fc449db37"
      },
      "execution_count": 20,
      "outputs": [
        {
          "output_type": "stream",
          "name": "stderr",
          "text": [
            "/usr/local/lib/python3.10/dist-packages/torchvision/transforms/functional.py:1603: UserWarning: The default value of the antialias parameter of all the resizing transforms (Resize(), RandomResizedCrop(), etc.) will change from None to True in v0.17, in order to be consistent across the PIL and Tensor backends. To suppress this warning, directly pass antialias=True (recommended, future default), antialias=None (current default, which means False for Tensors and True for PIL), or antialias=False (only works on Tensors - PIL will still use antialiasing). This also applies if you are using the inference transforms from the models weights: update the call to weights.transforms(antialias=True).\n",
            "  warnings.warn(\n"
          ]
        },
        {
          "output_type": "stream",
          "name": "stdout",
          "text": [
            "Counter({6: 640, 0: 640, 4: 640, 5: 640, 9: 640, 2: 640, 3: 640, 1: 640, 7: 640, 8: 640})\n",
            "Counter({2: 160, 8: 160, 3: 160, 6: 160, 4: 160, 1: 160, 5: 160, 9: 160, 0: 160, 7: 160})\n"
          ]
        }
      ]
    },
    {
      "cell_type": "code",
      "source": [
        "from torch.utils.data import DataLoader\n",
        "train_dl = DataLoader(train_ds, batch_size = 32 , shuffle = True)\n",
        "val_dl = DataLoader(val_ds, batch_size = 32 , shuffle = True)\n",
        "\n",
        "for x,y in train_dl:\n",
        "  print(x.shape)\n",
        "  print(y.shape)\n",
        "  break\n",
        "\n",
        "for x,y in val_dl:\n",
        "  print(x.shape)\n",
        "  print(y.shape)\n",
        "  break\n",
        ""
      ],
      "metadata": {
        "colab": {
          "base_uri": "https://localhost:8080/"
        },
        "id": "QxjJFt7XFeKP",
        "outputId": "21032ff7-9f85-4647-c8fa-39a3bbd44b38"
      },
      "execution_count": 22,
      "outputs": [
        {
          "output_type": "stream",
          "name": "stdout",
          "text": [
            "torch.Size([32, 3, 227, 227])\n",
            "torch.Size([32])\n",
            "torch.Size([32, 3, 227, 227])\n",
            "torch.Size([32])\n"
          ]
        }
      ]
    },
    {
      "cell_type": "code",
      "source": [
        "# define device\n",
        "device = torch.device('cuda' if torch.cuda.is_available() else 'cpu')\n",
        "print(device)"
      ],
      "metadata": {
        "colab": {
          "base_uri": "https://localhost:8080/"
        },
        "id": "mArpz1HANqfE",
        "outputId": "3854f8ef-db18-4607-9261-afc70ad0f703"
      },
      "execution_count": 40,
      "outputs": [
        {
          "output_type": "stream",
          "name": "stdout",
          "text": [
            "cuda\n"
          ]
        }
      ]
    },
    {
      "cell_type": "code",
      "source": [
        "import torch.nn as nn\n",
        "import torch.nn.functional as F\n",
        "\n",
        "class AlexNet(nn.Module):\n",
        "    def __init__(self, num_classes=10):\n",
        "        super(AlexNet,self).__init__()\n",
        "        # input size : (b x 3 x 227 x 227)\n",
        "        # 논문에는 image 크기가 224 pixel이라고 나와 있지만, 오타입니다.\n",
        "        # 227x227을 사용합니다.\n",
        "\n",
        "        # Conv layer\n",
        "        self.net = nn.Sequential(\n",
        "            nn.Conv2d(3, 96, kernel_size=11, stride=4, padding=0), # (b x 96 x 55 x 55)\n",
        "            nn.ReLU(inplace=True),\n",
        "            nn.LocalResponseNorm(size=5, alpha=0.0001, beta=0.75, k=2),\n",
        "            nn.MaxPool2d(kernel_size=3, stride=2), # (b x 96 x 27 x 27)\n",
        "\n",
        "            nn.Conv2d(96, 256, kernel_size=5, stride=1, padding=2), # (b x 256 x 27 x 27)\n",
        "            nn.ReLU(),\n",
        "            nn.LocalResponseNorm(size=5, alpha=0.0001, beta=0.75, k=2),\n",
        "            nn.MaxPool2d(kernel_size=3, stride=2), # (b x 256 x 13 x 13)\n",
        "\n",
        "            nn.Conv2d(256, 384, 3, 1, 1), # (b x 384 x 13 x 13)\n",
        "            nn.ReLU(),\n",
        "\n",
        "            nn.Conv2d(384, 384, 3, 1, 1), # (b x 384 x 13 x 13)\n",
        "            nn.ReLU(),\n",
        "\n",
        "            nn.Conv2d(384, 256, 3, 1, 1), # (b x 256 x 13 x 13)\n",
        "            nn.ReLU(),\n",
        "            nn.MaxPool2d(3, 2), # (b x 256 x 6 x 6)\n",
        "        )\n",
        "\n",
        "        # fc layer\n",
        "        self.classifier = nn.Sequential(\n",
        "            nn.Dropout(p=0.5, inplace=True),\n",
        "            nn.Linear(in_features=(256 * 6 * 6), out_features=4096),\n",
        "            nn.ReLU(),\n",
        "            nn.Dropout(p=0.5, inplace=True),\n",
        "            nn.Linear(in_features=4096, out_features=4096),\n",
        "            nn.ReLU(),\n",
        "            nn.Linear(in_features=4096, out_features=num_classes),\n",
        "        )\n",
        "\n",
        "        # weight initialization\n",
        "        self.init_weight()\n",
        "\n",
        "    # define weight initialization function\n",
        "    def init_weight(self):\n",
        "        for layer in self.net:\n",
        "            if isinstance(layer, nn.Conv2d):\n",
        "                nn.init.normal_(layer.weight, mean=0, std=0.01)\n",
        "                nn.init.constant_(layer.bias, 0)\n",
        "        # in paper, initialize bias to 1 for conv2, 4, 5 layer\n",
        "        nn.init.constant_(self.net[4].bias, 1)\n",
        "        nn.init.constant_(self.net[10].bias, 1)\n",
        "        nn.init.constant_(self.net[12].bias, 1)\n",
        "\n",
        "    def forward(self,x):\n",
        "        x = self.net(x)\n",
        "        x = x.view(-1, 256 * 6* 6)\n",
        "        x = self.classifier(x)\n",
        "        return x\n",
        ""
      ],
      "metadata": {
        "id": "aUgdRlvJNiw1"
      },
      "execution_count": 38,
      "outputs": []
    },
    {
      "cell_type": "code",
      "source": [
        "# check the model\n",
        "model = AlexNet().to(device)\n",
        "print(model)\n"
      ],
      "metadata": {
        "colab": {
          "base_uri": "https://localhost:8080/"
        },
        "id": "Z-t0pGmTMS5W",
        "outputId": "6d801067-ac09-4e0e-d335-8f5d9f47b84a"
      },
      "execution_count": 41,
      "outputs": [
        {
          "output_type": "stream",
          "name": "stdout",
          "text": [
            "AlexNet(\n",
            "  (net): Sequential(\n",
            "    (0): Conv2d(3, 96, kernel_size=(11, 11), stride=(4, 4))\n",
            "    (1): ReLU(inplace=True)\n",
            "    (2): LocalResponseNorm(5, alpha=0.0001, beta=0.75, k=2)\n",
            "    (3): MaxPool2d(kernel_size=3, stride=2, padding=0, dilation=1, ceil_mode=False)\n",
            "    (4): Conv2d(96, 256, kernel_size=(5, 5), stride=(1, 1), padding=(2, 2))\n",
            "    (5): ReLU()\n",
            "    (6): LocalResponseNorm(5, alpha=0.0001, beta=0.75, k=2)\n",
            "    (7): MaxPool2d(kernel_size=3, stride=2, padding=0, dilation=1, ceil_mode=False)\n",
            "    (8): Conv2d(256, 384, kernel_size=(3, 3), stride=(1, 1), padding=(1, 1))\n",
            "    (9): ReLU()\n",
            "    (10): Conv2d(384, 384, kernel_size=(3, 3), stride=(1, 1), padding=(1, 1))\n",
            "    (11): ReLU()\n",
            "    (12): Conv2d(384, 256, kernel_size=(3, 3), stride=(1, 1), padding=(1, 1))\n",
            "    (13): ReLU()\n",
            "    (14): MaxPool2d(kernel_size=3, stride=2, padding=0, dilation=1, ceil_mode=False)\n",
            "  )\n",
            "  (classifier): Sequential(\n",
            "    (0): Dropout(p=0.5, inplace=True)\n",
            "    (1): Linear(in_features=9216, out_features=4096, bias=True)\n",
            "    (2): ReLU()\n",
            "    (3): Dropout(p=0.5, inplace=True)\n",
            "    (4): Linear(in_features=4096, out_features=4096, bias=True)\n",
            "    (5): ReLU()\n",
            "    (6): Linear(in_features=4096, out_features=10, bias=True)\n",
            "  )\n",
            ")\n"
          ]
        }
      ]
    },
    {
      "cell_type": "code",
      "source": [
        "\n",
        "# get the model summary\n",
        "from torchsummary import summary\n",
        "summary(model, input_size=(3, 227, 227), device=device.type)"
      ],
      "metadata": {
        "colab": {
          "base_uri": "https://localhost:8080/"
        },
        "id": "vMn9NU8YMlc0",
        "outputId": "fffb0143-3709-4854-b846-3f60eb88d270"
      },
      "execution_count": 42,
      "outputs": [
        {
          "output_type": "stream",
          "name": "stdout",
          "text": [
            "----------------------------------------------------------------\n",
            "        Layer (type)               Output Shape         Param #\n",
            "================================================================\n",
            "            Conv2d-1           [-1, 96, 55, 55]          34,944\n",
            "              ReLU-2           [-1, 96, 55, 55]               0\n",
            " LocalResponseNorm-3           [-1, 96, 55, 55]               0\n",
            "         MaxPool2d-4           [-1, 96, 27, 27]               0\n",
            "            Conv2d-5          [-1, 256, 27, 27]         614,656\n",
            "              ReLU-6          [-1, 256, 27, 27]               0\n",
            " LocalResponseNorm-7          [-1, 256, 27, 27]               0\n",
            "         MaxPool2d-8          [-1, 256, 13, 13]               0\n",
            "            Conv2d-9          [-1, 384, 13, 13]         885,120\n",
            "             ReLU-10          [-1, 384, 13, 13]               0\n",
            "           Conv2d-11          [-1, 384, 13, 13]       1,327,488\n",
            "             ReLU-12          [-1, 384, 13, 13]               0\n",
            "           Conv2d-13          [-1, 256, 13, 13]         884,992\n",
            "             ReLU-14          [-1, 256, 13, 13]               0\n",
            "        MaxPool2d-15            [-1, 256, 6, 6]               0\n",
            "          Dropout-16                 [-1, 9216]               0\n",
            "           Linear-17                 [-1, 4096]      37,752,832\n",
            "             ReLU-18                 [-1, 4096]               0\n",
            "          Dropout-19                 [-1, 4096]               0\n",
            "           Linear-20                 [-1, 4096]      16,781,312\n",
            "             ReLU-21                 [-1, 4096]               0\n",
            "           Linear-22                   [-1, 10]          40,970\n",
            "================================================================\n",
            "Total params: 58,322,314\n",
            "Trainable params: 58,322,314\n",
            "Non-trainable params: 0\n",
            "----------------------------------------------------------------\n",
            "Input size (MB): 0.59\n",
            "Forward/backward pass size (MB): 14.72\n",
            "Params size (MB): 222.48\n",
            "Estimated Total Size (MB): 237.79\n",
            "----------------------------------------------------------------\n"
          ]
        }
      ]
    },
    {
      "cell_type": "code",
      "source": [
        "\n",
        "# check weight initialization\n",
        "for p in model.parameters():\n",
        "    print(p)\n",
        "    break\n",
        ""
      ],
      "metadata": {
        "id": "LO8Qd7ZlN8t1"
      },
      "execution_count": null,
      "outputs": []
    },
    {
      "cell_type": "code",
      "source": [
        "loss_func = nn.CrossEntropyLoss(reduction ='sum')\n",
        "from torch import optim\n",
        "# opt = optim.SGD(model.parameters(), lr=0.001, momentum=0.9, weight_decay=0.0005)\n",
        "opt = optim.Adam(model.parameters(), lr =0.01)\n",
        "\n",
        "\n",
        "# read the current value of the learning rate using the following function\n",
        "def get_lr(opt):\n",
        "    for param_group in opt.param_groups:\n",
        "        return param_group['lr']\n",
        "\n",
        "from torch.optim.lr_scheduler import StepLR # define lr_scheduler : 1/10 per 10 epochs\n",
        "lr_scheduler = optim.lr_scheduler.StepLR(opt, step_size=30, gamma=0.1)"
      ],
      "metadata": {
        "id": "4L-5ya4zOF7H"
      },
      "execution_count": 56,
      "outputs": []
    },
    {
      "cell_type": "code",
      "source": [
        "def metrics_batch(output, target):\n",
        "  pred = output.argmax(dim=1 , keepdim= True)\n",
        "  corrects = pred.eq(target.view_as(pred)).sum().item()\n",
        "  return corrects"
      ],
      "metadata": {
        "id": "0ZdZ7D7OPyLt"
      },
      "execution_count": 61,
      "outputs": []
    },
    {
      "cell_type": "code",
      "source": [
        "# define a function to compute the loss value per mini-batch\n",
        "def loss_batch(loss_func, output, target, opt=None):\n",
        "    loss = loss_func(output, target)\n",
        "\n",
        "    metric_b = metrics_batch(output, target)\n",
        "    if opt is not None:\n",
        "        opt.zero_grad()\n",
        "        loss.backward()\n",
        "        opt.step()\n",
        "    return loss.item(), metric_b"
      ],
      "metadata": {
        "id": "hb_gDJcFQVxe"
      },
      "execution_count": 51,
      "outputs": []
    },
    {
      "cell_type": "code",
      "source": [
        "\n",
        "# develop a function to compute the loss value and the performance metric for the epoch\n",
        "def loss_epoch(model, loss_func, dataset_dl, sanity_check=False, opt=None):\n",
        "    running_loss = 0\n",
        "    running_metric = 0\n",
        "    len_data = len(dataset_dl.dataset)\n",
        "\n",
        "    for xb, yb in dataset_dl:\n",
        "        # move batcch to device\n",
        "        xb = xb.to(device)\n",
        "        yb = yb.to(device)\n",
        "        # get model output\n",
        "        output = model(xb)\n",
        "\n",
        "        # get loss per batch\n",
        "        loss_b, metric_b = loss_batch(loss_func, output, yb, opt)\n",
        "\n",
        "        # update running loss\n",
        "        running_loss += loss_b\n",
        "        # update running metric\n",
        "        if metric_b is not None:\n",
        "            running_metric += metric_b\n",
        "\n",
        "        # break the loop in case of sanity check\n",
        "        if sanity_check is True:\n",
        "            break\n",
        "\n",
        "    # average loss value and metric value\n",
        "    loss = running_loss / float(len_data)\n",
        "    metric = running_metric / float(len_data)\n",
        "    return loss, metric\n",
        ""
      ],
      "metadata": {
        "id": "jKZBwbh4Qai_"
      },
      "execution_count": 52,
      "outputs": []
    },
    {
      "cell_type": "code",
      "source": [
        "import time\n",
        "import copy\n",
        "\n",
        "# develop train_val function\n",
        "def train_val(model, params):\n",
        "    # extract model parameters\n",
        "    num_epochs = params['num_epochs']\n",
        "    loss_func = params['loss_func']\n",
        "    opt = params['optimizer']\n",
        "    train_dl = params['train_dl']\n",
        "    val_dl = params['val_dl']\n",
        "    sanity_check = params['sanity_check']\n",
        "    lr_scheduler = params['lr_scheduler']\n",
        "    path2weights = params['path2weights']\n",
        "\n",
        "    # keep a history of the loss and the metric value\n",
        "    loss_history = {\n",
        "        'train': [],\n",
        "        'val': [],\n",
        "    }\n",
        "\n",
        "    metric_history = {\n",
        "        'train': [],\n",
        "        'val': [],\n",
        "    }\n",
        "\n",
        "    # save the best perfirming model\n",
        "    best_model_wts = copy.deepcopy(model.state_dict())\n",
        "\n",
        "    # initializer the best loss to an infinite value\n",
        "    best_loss = float('inf')\n",
        "\n",
        "    for epoch in range(num_epochs):\n",
        "        start_time = time.time()\n",
        "\n",
        "        # get current learning rate\n",
        "        current_lr = get_lr(opt)\n",
        "        print('Epoch {}/{}, current lr={}'.format(epoch, num_epochs-1, current_lr))\n",
        "\n",
        "        # train model on trainin dataset\n",
        "        model.train()\n",
        "        train_loss, train_metric = loss_epoch(model, loss_func, train_dl, sanity_check, opt)\n",
        "\n",
        "        # collect loss and metric for the training dataset\n",
        "        loss_history['train'].append(train_loss)\n",
        "        metric_history['train'].append(train_metric)\n",
        "\n",
        "        # evaluate model on validation dataset\n",
        "        model.eval()\n",
        "        with torch.no_grad():\n",
        "            val_loss, val_metric = loss_epoch(model, loss_func, val_dl, sanity_check)\n",
        "\n",
        "        # store the best model\n",
        "        if val_loss < best_loss:\n",
        "            best_loss = val_loss\n",
        "            best_model_wts = copy.deepcopy(model.state_dict())\n",
        "            # store weights into a local file\n",
        "            torch.save(model.state_dict(), path2weights)\n",
        "            print('Copied best model weights')\n",
        "\n",
        "        # collect loss and metric for validation dataset\n",
        "        loss_history[\"val\"].append(val_loss)\n",
        "        metric_history[\"val\"].append(val_metric)\n",
        "\n",
        "        # update the learning rate\n",
        "        lr_scheduler.step()\n",
        "        if current_lr != get_lr(opt):\n",
        "            print('Loading best model weights!')\n",
        "            model.load_state_dict(best_model_wts)\n",
        "\n",
        "        # print the loss and accuracy values and return the trained model\n",
        "        print('train loss: %.6f, dev loss: %.6f, accuracy: %.2f, time: %.4f s' %(train_loss, val_loss, 100*val_metric, time.time()-start_time))\n",
        "        print('-'*10)\n",
        "\n",
        "    # load best model weights\n",
        "    model.load_state_dict(best_model_wts)\n",
        "    return model, loss_history, metric_history\n",
        ""
      ],
      "metadata": {
        "id": "WjUtPzpcQkpM"
      },
      "execution_count": 53,
      "outputs": []
    },
    {
      "cell_type": "code",
      "source": [
        "# define the training parameters\n",
        "params_train = {\n",
        "    'num_epochs':3,\n",
        "    'optimizer':opt,\n",
        "    'loss_func':loss_func,\n",
        "    'train_dl':train_dl,\n",
        "    'val_dl':val_dl,\n",
        "    'sanity_check':False,\n",
        "    'lr_scheduler':lr_scheduler,\n",
        "    'path2weights':'./models/weights.pt',\n",
        "}\n",
        "\n",
        "# check the directory to save weights.pt\n",
        "def createFolder(directory):\n",
        "    try:\n",
        "        if not os.path.exists(directory):\n",
        "            os.makedirs(directory)\n",
        "    except OSerror:\n",
        "        print('Error')\n",
        "createFolder('./models')"
      ],
      "metadata": {
        "id": "DysTz8G6Qm34"
      },
      "execution_count": 63,
      "outputs": []
    },
    {
      "cell_type": "code",
      "source": [
        "model, loss_hist, metric_hist = train_val(model, params_train)"
      ],
      "metadata": {
        "colab": {
          "base_uri": "https://localhost:8080/",
          "height": 426
        },
        "id": "1GAZ20TrQpOS",
        "outputId": "fad105cf-beee-47d7-f9b9-54d4a6a6c174"
      },
      "execution_count": 64,
      "outputs": [
        {
          "output_type": "stream",
          "name": "stdout",
          "text": [
            "Epoch 0/2, current lr=0.01\n"
          ]
        },
        {
          "output_type": "error",
          "ename": "RuntimeError",
          "evalue": "ignored",
          "traceback": [
            "\u001b[0;31m---------------------------------------------------------------------------\u001b[0m",
            "\u001b[0;31mRuntimeError\u001b[0m                              Traceback (most recent call last)",
            "\u001b[0;32m<ipython-input-64-40a68c4f9fe2>\u001b[0m in \u001b[0;36m<cell line: 1>\u001b[0;34m()\u001b[0m\n\u001b[0;32m----> 1\u001b[0;31m \u001b[0mmodel\u001b[0m\u001b[0;34m,\u001b[0m \u001b[0mloss_hist\u001b[0m\u001b[0;34m,\u001b[0m \u001b[0mmetric_hist\u001b[0m \u001b[0;34m=\u001b[0m \u001b[0mtrain_val\u001b[0m\u001b[0;34m(\u001b[0m\u001b[0mmodel\u001b[0m\u001b[0;34m,\u001b[0m \u001b[0mparams_train\u001b[0m\u001b[0;34m)\u001b[0m\u001b[0;34m\u001b[0m\u001b[0;34m\u001b[0m\u001b[0m\n\u001b[0m",
            "\u001b[0;32m<ipython-input-53-b0b2f1455c9f>\u001b[0m in \u001b[0;36mtrain_val\u001b[0;34m(model, params)\u001b[0m\n\u001b[1;32m     40\u001b[0m         \u001b[0;31m# train model on trainin dataset\u001b[0m\u001b[0;34m\u001b[0m\u001b[0;34m\u001b[0m\u001b[0m\n\u001b[1;32m     41\u001b[0m         \u001b[0mmodel\u001b[0m\u001b[0;34m.\u001b[0m\u001b[0mtrain\u001b[0m\u001b[0;34m(\u001b[0m\u001b[0;34m)\u001b[0m\u001b[0;34m\u001b[0m\u001b[0;34m\u001b[0m\u001b[0m\n\u001b[0;32m---> 42\u001b[0;31m         \u001b[0mtrain_loss\u001b[0m\u001b[0;34m,\u001b[0m \u001b[0mtrain_metric\u001b[0m \u001b[0;34m=\u001b[0m \u001b[0mloss_epoch\u001b[0m\u001b[0;34m(\u001b[0m\u001b[0mmodel\u001b[0m\u001b[0;34m,\u001b[0m \u001b[0mloss_func\u001b[0m\u001b[0;34m,\u001b[0m \u001b[0mtrain_dl\u001b[0m\u001b[0;34m,\u001b[0m \u001b[0msanity_check\u001b[0m\u001b[0;34m,\u001b[0m \u001b[0mopt\u001b[0m\u001b[0;34m)\u001b[0m\u001b[0;34m\u001b[0m\u001b[0;34m\u001b[0m\u001b[0m\n\u001b[0m\u001b[1;32m     43\u001b[0m \u001b[0;34m\u001b[0m\u001b[0m\n\u001b[1;32m     44\u001b[0m         \u001b[0;31m# collect loss and metric for the training dataset\u001b[0m\u001b[0;34m\u001b[0m\u001b[0;34m\u001b[0m\u001b[0m\n",
            "\u001b[0;32m<ipython-input-52-97973afc763b>\u001b[0m in \u001b[0;36mloss_epoch\u001b[0;34m(model, loss_func, dataset_dl, sanity_check, opt)\u001b[0m\n\u001b[1;32m     13\u001b[0m \u001b[0;34m\u001b[0m\u001b[0m\n\u001b[1;32m     14\u001b[0m         \u001b[0;31m# get loss per batch\u001b[0m\u001b[0;34m\u001b[0m\u001b[0;34m\u001b[0m\u001b[0m\n\u001b[0;32m---> 15\u001b[0;31m         \u001b[0mloss_b\u001b[0m\u001b[0;34m,\u001b[0m \u001b[0mmetric_b\u001b[0m \u001b[0;34m=\u001b[0m \u001b[0mloss_batch\u001b[0m\u001b[0;34m(\u001b[0m\u001b[0mloss_func\u001b[0m\u001b[0;34m,\u001b[0m \u001b[0moutput\u001b[0m\u001b[0;34m,\u001b[0m \u001b[0myb\u001b[0m\u001b[0;34m,\u001b[0m \u001b[0mopt\u001b[0m\u001b[0;34m)\u001b[0m\u001b[0;34m\u001b[0m\u001b[0;34m\u001b[0m\u001b[0m\n\u001b[0m\u001b[1;32m     16\u001b[0m \u001b[0;34m\u001b[0m\u001b[0m\n\u001b[1;32m     17\u001b[0m         \u001b[0;31m# update running loss\u001b[0m\u001b[0;34m\u001b[0m\u001b[0;34m\u001b[0m\u001b[0m\n",
            "\u001b[0;32m<ipython-input-51-bed212859964>\u001b[0m in \u001b[0;36mloss_batch\u001b[0;34m(loss_func, output, target, opt)\u001b[0m\n\u001b[1;32m      6\u001b[0m     \u001b[0;32mif\u001b[0m \u001b[0mopt\u001b[0m \u001b[0;32mis\u001b[0m \u001b[0;32mnot\u001b[0m \u001b[0;32mNone\u001b[0m\u001b[0;34m:\u001b[0m\u001b[0;34m\u001b[0m\u001b[0;34m\u001b[0m\u001b[0m\n\u001b[1;32m      7\u001b[0m         \u001b[0mopt\u001b[0m\u001b[0;34m.\u001b[0m\u001b[0mzero_grad\u001b[0m\u001b[0;34m(\u001b[0m\u001b[0;34m)\u001b[0m\u001b[0;34m\u001b[0m\u001b[0;34m\u001b[0m\u001b[0m\n\u001b[0;32m----> 8\u001b[0;31m         \u001b[0mloss\u001b[0m\u001b[0;34m.\u001b[0m\u001b[0mbackward\u001b[0m\u001b[0;34m(\u001b[0m\u001b[0;34m)\u001b[0m\u001b[0;34m\u001b[0m\u001b[0;34m\u001b[0m\u001b[0m\n\u001b[0m\u001b[1;32m      9\u001b[0m         \u001b[0mopt\u001b[0m\u001b[0;34m.\u001b[0m\u001b[0mstep\u001b[0m\u001b[0;34m(\u001b[0m\u001b[0;34m)\u001b[0m\u001b[0;34m\u001b[0m\u001b[0;34m\u001b[0m\u001b[0m\n\u001b[1;32m     10\u001b[0m     \u001b[0;32mreturn\u001b[0m \u001b[0mloss\u001b[0m\u001b[0;34m.\u001b[0m\u001b[0mitem\u001b[0m\u001b[0;34m(\u001b[0m\u001b[0;34m)\u001b[0m\u001b[0;34m,\u001b[0m \u001b[0mmetric_b\u001b[0m\u001b[0;34m\u001b[0m\u001b[0;34m\u001b[0m\u001b[0m\n",
            "\u001b[0;32m/usr/local/lib/python3.10/dist-packages/torch/_tensor.py\u001b[0m in \u001b[0;36mbackward\u001b[0;34m(self, gradient, retain_graph, create_graph, inputs)\u001b[0m\n\u001b[1;32m    485\u001b[0m                 \u001b[0minputs\u001b[0m\u001b[0;34m=\u001b[0m\u001b[0minputs\u001b[0m\u001b[0;34m,\u001b[0m\u001b[0;34m\u001b[0m\u001b[0;34m\u001b[0m\u001b[0m\n\u001b[1;32m    486\u001b[0m             )\n\u001b[0;32m--> 487\u001b[0;31m         torch.autograd.backward(\n\u001b[0m\u001b[1;32m    488\u001b[0m             \u001b[0mself\u001b[0m\u001b[0;34m,\u001b[0m \u001b[0mgradient\u001b[0m\u001b[0;34m,\u001b[0m \u001b[0mretain_graph\u001b[0m\u001b[0;34m,\u001b[0m \u001b[0mcreate_graph\u001b[0m\u001b[0;34m,\u001b[0m \u001b[0minputs\u001b[0m\u001b[0;34m=\u001b[0m\u001b[0minputs\u001b[0m\u001b[0;34m\u001b[0m\u001b[0;34m\u001b[0m\u001b[0m\n\u001b[1;32m    489\u001b[0m         )\n",
            "\u001b[0;32m/usr/local/lib/python3.10/dist-packages/torch/autograd/__init__.py\u001b[0m in \u001b[0;36mbackward\u001b[0;34m(tensors, grad_tensors, retain_graph, create_graph, grad_variables, inputs)\u001b[0m\n\u001b[1;32m    198\u001b[0m     \u001b[0;31m# some Python versions print out the first line of a multi-line function\u001b[0m\u001b[0;34m\u001b[0m\u001b[0;34m\u001b[0m\u001b[0m\n\u001b[1;32m    199\u001b[0m     \u001b[0;31m# calls in the traceback and some print out the last line\u001b[0m\u001b[0;34m\u001b[0m\u001b[0;34m\u001b[0m\u001b[0m\n\u001b[0;32m--> 200\u001b[0;31m     Variable._execution_engine.run_backward(  # Calls into the C++ engine to run the backward pass\n\u001b[0m\u001b[1;32m    201\u001b[0m         \u001b[0mtensors\u001b[0m\u001b[0;34m,\u001b[0m \u001b[0mgrad_tensors_\u001b[0m\u001b[0;34m,\u001b[0m \u001b[0mretain_graph\u001b[0m\u001b[0;34m,\u001b[0m \u001b[0mcreate_graph\u001b[0m\u001b[0;34m,\u001b[0m \u001b[0minputs\u001b[0m\u001b[0;34m,\u001b[0m\u001b[0;34m\u001b[0m\u001b[0;34m\u001b[0m\u001b[0m\n\u001b[1;32m    202\u001b[0m         allow_unreachable=True, accumulate_grad=True)  # Calls into the C++ engine to run the backward pass\n",
            "\u001b[0;31mRuntimeError\u001b[0m: one of the variables needed for gradient computation has been modified by an inplace operation: [torch.cuda.FloatTensor [32, 4096]], which is output 0 of ReluBackward0, is at version 1; expected version 0 instead. Hint: enable anomaly detection to find the operation that failed to compute its gradient, with torch.autograd.set_detect_anomaly(True)."
          ]
        }
      ]
    },
    {
      "cell_type": "code",
      "source": [
        "# define the loss function\n",
        "loss_func = nn.CrossEntropyLoss(reduction='sum')\n",
        "\n",
        "\n",
        "# define the optimizer\n",
        "from torch import optim\n",
        "# opt = optim.SGD(model.parameters(), lr=0.001, momentum=0.9, weight_decay=0.0005)\n",
        "opt = optim.Adam(model.parameters(), lr=0.01)\n",
        "\n",
        "\n",
        "# read the current value of the learning rate using the following function\n",
        "def get_lr(opt):\n",
        "    for param_group in opt.param_groups:\n",
        "        return param_group['lr']\n",
        "\n",
        "\n",
        "# define lr_scheduler : 1/10 per 10 epochs\n",
        "from torch.optim.lr_scheduler import StepLR\n",
        "lr_scheduler = optim.lr_scheduler.StepLR(opt, step_size=30, gamma=0.1)\n",
        "\n",
        "\n",
        "# define a function to count the number of correct predictions per mini-batch\n",
        "def metrics_batch(output, target):\n",
        "    # get output class\n",
        "    pred = output.argmax(dim=1, keepdim=True)\n",
        "    # compare output class with target class\n",
        "    corrects = pred.eq(target.view_as(pred)).sum().item()\n",
        "    return corrects\n",
        "\n",
        "\n",
        "# define a function to compute the loss value per mini-batch\n",
        "def loss_batch(loss_func, output, target, opt=None):\n",
        "    loss = loss_func(output, target)\n",
        "\n",
        "    metric_b = metrics_batch(output, target)\n",
        "    if opt is not None:\n",
        "        opt.zero_grad()\n",
        "        loss.backward()\n",
        "        opt.step()\n",
        "    return loss.item(), metric_b\n",
        "\n",
        "\n",
        "# develop a function to compute the loss value and the performance metric for the epoch\n",
        "def loss_epoch(model, loss_func, dataset_dl, sanity_check=False, opt=None):\n",
        "    running_loss = 0\n",
        "    running_metric = 0\n",
        "    len_data = len(dataset_dl.dataset)\n",
        "\n",
        "    for xb, yb in dataset_dl:\n",
        "        # move batcch to device\n",
        "        xb = xb.to(device)\n",
        "        yb = yb.to(device)\n",
        "        # get model output\n",
        "        output = model(xb)\n",
        "\n",
        "        # get loss per batch\n",
        "        loss_b, metric_b = loss_batch(loss_func, output, yb, opt)\n",
        "\n",
        "        # update running loss\n",
        "        running_loss += loss_b\n",
        "        # update running metric\n",
        "        if metric_b is not None:\n",
        "            running_metric += metric_b\n",
        "\n",
        "        # break the loop in case of sanity check\n",
        "        if sanity_check is True:\n",
        "            break\n",
        "\n",
        "    # average loss value and metric value\n",
        "    loss = running_loss / float(len_data)\n",
        "    metric = running_metric / float(len_data)\n",
        "    return loss, metric\n",
        "\n",
        "\n",
        "import time\n",
        "import copy\n",
        "\n",
        "# develop train_val function\n",
        "def train_val(model, params):\n",
        "    # extract model parameters\n",
        "    num_epochs = params['num_epochs']\n",
        "    loss_func = params['loss_func']\n",
        "    opt = params['optimizer']\n",
        "    train_dl = params['train_dl']\n",
        "    val_dl = params['val_dl']\n",
        "    sanity_check = params['sanity_check']\n",
        "    lr_scheduler = params['lr_scheduler']\n",
        "    path2weights = params['path2weights']\n",
        "\n",
        "    # keep a history of the loss and the metric value\n",
        "    loss_history = {\n",
        "        'train': [],\n",
        "        'val': [],\n",
        "    }\n",
        "\n",
        "    metric_history = {\n",
        "        'train': [],\n",
        "        'val': [],\n",
        "    }\n",
        "\n",
        "    # save the best perfirming model\n",
        "    best_model_wts = copy.deepcopy(model.state_dict())\n",
        "\n",
        "    # initializer the best loss to an infinite value\n",
        "    best_loss = float('inf')\n",
        "\n",
        "    for epoch in range(num_epochs):\n",
        "        start_time = time.time()\n",
        "\n",
        "        # get current learning rate\n",
        "        current_lr = get_lr(opt)\n",
        "        print('Epoch {}/{}, current lr={}'.format(epoch, num_epochs-1, current_lr))\n",
        "\n",
        "        # train model on trainin dataset\n",
        "        model.train()\n",
        "        train_loss, train_metric = loss_epoch(model, loss_func, train_dl, sanity_check, opt)\n",
        "\n",
        "        # collect loss and metric for the training dataset\n",
        "        loss_history['train'].append(train_loss)\n",
        "        metric_history['train'].append(train_metric)\n",
        "\n",
        "        # evaluate model on validation dataset\n",
        "        model.eval()\n",
        "        with torch.no_grad():\n",
        "            val_loss, val_metric = loss_epoch(model, loss_func, val_dl, sanity_check)\n",
        "\n",
        "        # store the best model\n",
        "        if val_loss < best_loss:\n",
        "            best_loss = val_loss\n",
        "            best_model_wts = copy.deepcopy(model.state_dict())\n",
        "            # store weights into a local file\n",
        "            torch.save(model.state_dict(), path2weights)\n",
        "            print('Copied best model weights')\n",
        "\n",
        "        # collect loss and metric for validation dataset\n",
        "        loss_history[\"val\"].append(val_loss)\n",
        "        metric_history[\"val\"].append(val_metric)\n",
        "\n",
        "        # update the learning rate\n",
        "        lr_scheduler.step()\n",
        "        if current_lr != get_lr(opt):\n",
        "            print('Loading best model weights!')\n",
        "            model.load_state_dict(best_model_wts)\n",
        "\n",
        "        # print the loss and accuracy values and return the trained model\n",
        "        print('train loss: %.6f, dev loss: %.6f, accuracy: %.2f, time: %.4f s' %(train_loss, val_loss, 100*val_metric, time.time()-start_time))\n",
        "        print('-'*10)\n",
        "\n",
        "    # load best model weights\n",
        "    model.load_state_dict(best_model_wts)\n",
        "    return model, loss_history, metric_history\n",
        "\n",
        "\n",
        "# define the training parameters\n",
        "params_train = {\n",
        "    'num_epochs':3,\n",
        "    'optimizer':opt,\n",
        "    'loss_func':loss_func,\n",
        "    'train_dl':train_dl,\n",
        "    'val_dl':val_dl,\n",
        "    'sanity_check':False,\n",
        "    'lr_scheduler':lr_scheduler,\n",
        "    'path2weights':'./models/weights.pt',\n",
        "}\n",
        "\n",
        "# check the directory to save weights.pt\n",
        "def createFolder(directory):\n",
        "    try:\n",
        "        if not os.path.exists(directory):\n",
        "            os.makedirs(directory)\n",
        "    except OSerror:\n",
        "        print('Error')\n",
        "createFolder('./models')\n",
        ""
      ],
      "metadata": {
        "id": "1378KTx0Qq4l"
      },
      "execution_count": 65,
      "outputs": []
    },
    {
      "cell_type": "code",
      "source": [
        " #train model\n",
        "model, loss_hist, metric_hist = train_val(model, params_train)"
      ],
      "metadata": {
        "colab": {
          "base_uri": "https://localhost:8080/",
          "height": 444
        },
        "id": "FtgWIFaPRf4r",
        "outputId": "8a716240-f5fa-4111-8aeb-f2ae6380377f"
      },
      "execution_count": 68,
      "outputs": [
        {
          "output_type": "stream",
          "name": "stdout",
          "text": [
            "Epoch 0/2, current lr=0.01\n"
          ]
        },
        {
          "output_type": "error",
          "ename": "RuntimeError",
          "evalue": "ignored",
          "traceback": [
            "\u001b[0;31m---------------------------------------------------------------------------\u001b[0m",
            "\u001b[0;31mRuntimeError\u001b[0m                              Traceback (most recent call last)",
            "\u001b[0;32m<ipython-input-68-dd11394caaac>\u001b[0m in \u001b[0;36m<cell line: 2>\u001b[0;34m()\u001b[0m\n\u001b[1;32m      1\u001b[0m \u001b[0;31m#train model\u001b[0m\u001b[0;34m\u001b[0m\u001b[0;34m\u001b[0m\u001b[0m\n\u001b[0;32m----> 2\u001b[0;31m \u001b[0mmodel\u001b[0m\u001b[0;34m,\u001b[0m \u001b[0mloss_hist\u001b[0m\u001b[0;34m,\u001b[0m \u001b[0mmetric_hist\u001b[0m \u001b[0;34m=\u001b[0m \u001b[0mtrain_val\u001b[0m\u001b[0;34m(\u001b[0m\u001b[0mmodel\u001b[0m\u001b[0;34m,\u001b[0m \u001b[0mparams_train\u001b[0m\u001b[0;34m)\u001b[0m\u001b[0;34m\u001b[0m\u001b[0;34m\u001b[0m\u001b[0m\n\u001b[0m",
            "\u001b[0;32m<ipython-input-65-97f43b2666c0>\u001b[0m in \u001b[0;36mtrain_val\u001b[0;34m(model, params)\u001b[0m\n\u001b[1;32m    114\u001b[0m         \u001b[0;31m# train model on trainin dataset\u001b[0m\u001b[0;34m\u001b[0m\u001b[0;34m\u001b[0m\u001b[0m\n\u001b[1;32m    115\u001b[0m         \u001b[0mmodel\u001b[0m\u001b[0;34m.\u001b[0m\u001b[0mtrain\u001b[0m\u001b[0;34m(\u001b[0m\u001b[0;34m)\u001b[0m\u001b[0;34m\u001b[0m\u001b[0;34m\u001b[0m\u001b[0m\n\u001b[0;32m--> 116\u001b[0;31m         \u001b[0mtrain_loss\u001b[0m\u001b[0;34m,\u001b[0m \u001b[0mtrain_metric\u001b[0m \u001b[0;34m=\u001b[0m \u001b[0mloss_epoch\u001b[0m\u001b[0;34m(\u001b[0m\u001b[0mmodel\u001b[0m\u001b[0;34m,\u001b[0m \u001b[0mloss_func\u001b[0m\u001b[0;34m,\u001b[0m \u001b[0mtrain_dl\u001b[0m\u001b[0;34m,\u001b[0m \u001b[0msanity_check\u001b[0m\u001b[0;34m,\u001b[0m \u001b[0mopt\u001b[0m\u001b[0;34m)\u001b[0m\u001b[0;34m\u001b[0m\u001b[0;34m\u001b[0m\u001b[0m\n\u001b[0m\u001b[1;32m    117\u001b[0m \u001b[0;34m\u001b[0m\u001b[0m\n\u001b[1;32m    118\u001b[0m         \u001b[0;31m# collect loss and metric for the training dataset\u001b[0m\u001b[0;34m\u001b[0m\u001b[0;34m\u001b[0m\u001b[0m\n",
            "\u001b[0;32m<ipython-input-65-97f43b2666c0>\u001b[0m in \u001b[0;36mloss_epoch\u001b[0;34m(model, loss_func, dataset_dl, sanity_check, opt)\u001b[0m\n\u001b[1;32m     55\u001b[0m \u001b[0;34m\u001b[0m\u001b[0m\n\u001b[1;32m     56\u001b[0m         \u001b[0;31m# get loss per batch\u001b[0m\u001b[0;34m\u001b[0m\u001b[0;34m\u001b[0m\u001b[0m\n\u001b[0;32m---> 57\u001b[0;31m         \u001b[0mloss_b\u001b[0m\u001b[0;34m,\u001b[0m \u001b[0mmetric_b\u001b[0m \u001b[0;34m=\u001b[0m \u001b[0mloss_batch\u001b[0m\u001b[0;34m(\u001b[0m\u001b[0mloss_func\u001b[0m\u001b[0;34m,\u001b[0m \u001b[0moutput\u001b[0m\u001b[0;34m,\u001b[0m \u001b[0myb\u001b[0m\u001b[0;34m,\u001b[0m \u001b[0mopt\u001b[0m\u001b[0;34m)\u001b[0m\u001b[0;34m\u001b[0m\u001b[0;34m\u001b[0m\u001b[0m\n\u001b[0m\u001b[1;32m     58\u001b[0m \u001b[0;34m\u001b[0m\u001b[0m\n\u001b[1;32m     59\u001b[0m         \u001b[0;31m# update running loss\u001b[0m\u001b[0;34m\u001b[0m\u001b[0;34m\u001b[0m\u001b[0m\n",
            "\u001b[0;32m<ipython-input-65-97f43b2666c0>\u001b[0m in \u001b[0;36mloss_batch\u001b[0;34m(loss_func, output, target, opt)\u001b[0m\n\u001b[1;32m     36\u001b[0m     \u001b[0;32mif\u001b[0m \u001b[0mopt\u001b[0m \u001b[0;32mis\u001b[0m \u001b[0;32mnot\u001b[0m \u001b[0;32mNone\u001b[0m\u001b[0;34m:\u001b[0m\u001b[0;34m\u001b[0m\u001b[0;34m\u001b[0m\u001b[0m\n\u001b[1;32m     37\u001b[0m         \u001b[0mopt\u001b[0m\u001b[0;34m.\u001b[0m\u001b[0mzero_grad\u001b[0m\u001b[0;34m(\u001b[0m\u001b[0;34m)\u001b[0m\u001b[0;34m\u001b[0m\u001b[0;34m\u001b[0m\u001b[0m\n\u001b[0;32m---> 38\u001b[0;31m         \u001b[0mloss\u001b[0m\u001b[0;34m.\u001b[0m\u001b[0mbackward\u001b[0m\u001b[0;34m(\u001b[0m\u001b[0;34m)\u001b[0m\u001b[0;34m\u001b[0m\u001b[0;34m\u001b[0m\u001b[0m\n\u001b[0m\u001b[1;32m     39\u001b[0m         \u001b[0mopt\u001b[0m\u001b[0;34m.\u001b[0m\u001b[0mstep\u001b[0m\u001b[0;34m(\u001b[0m\u001b[0;34m)\u001b[0m\u001b[0;34m\u001b[0m\u001b[0;34m\u001b[0m\u001b[0m\n\u001b[1;32m     40\u001b[0m     \u001b[0;32mreturn\u001b[0m \u001b[0mloss\u001b[0m\u001b[0;34m.\u001b[0m\u001b[0mitem\u001b[0m\u001b[0;34m(\u001b[0m\u001b[0;34m)\u001b[0m\u001b[0;34m,\u001b[0m \u001b[0mmetric_b\u001b[0m\u001b[0;34m\u001b[0m\u001b[0;34m\u001b[0m\u001b[0m\n",
            "\u001b[0;32m/usr/local/lib/python3.10/dist-packages/torch/_tensor.py\u001b[0m in \u001b[0;36mbackward\u001b[0;34m(self, gradient, retain_graph, create_graph, inputs)\u001b[0m\n\u001b[1;32m    485\u001b[0m                 \u001b[0minputs\u001b[0m\u001b[0;34m=\u001b[0m\u001b[0minputs\u001b[0m\u001b[0;34m,\u001b[0m\u001b[0;34m\u001b[0m\u001b[0;34m\u001b[0m\u001b[0m\n\u001b[1;32m    486\u001b[0m             )\n\u001b[0;32m--> 487\u001b[0;31m         torch.autograd.backward(\n\u001b[0m\u001b[1;32m    488\u001b[0m             \u001b[0mself\u001b[0m\u001b[0;34m,\u001b[0m \u001b[0mgradient\u001b[0m\u001b[0;34m,\u001b[0m \u001b[0mretain_graph\u001b[0m\u001b[0;34m,\u001b[0m \u001b[0mcreate_graph\u001b[0m\u001b[0;34m,\u001b[0m \u001b[0minputs\u001b[0m\u001b[0;34m=\u001b[0m\u001b[0minputs\u001b[0m\u001b[0;34m\u001b[0m\u001b[0;34m\u001b[0m\u001b[0m\n\u001b[1;32m    489\u001b[0m         )\n",
            "\u001b[0;32m/usr/local/lib/python3.10/dist-packages/torch/autograd/__init__.py\u001b[0m in \u001b[0;36mbackward\u001b[0;34m(tensors, grad_tensors, retain_graph, create_graph, grad_variables, inputs)\u001b[0m\n\u001b[1;32m    198\u001b[0m     \u001b[0;31m# some Python versions print out the first line of a multi-line function\u001b[0m\u001b[0;34m\u001b[0m\u001b[0;34m\u001b[0m\u001b[0m\n\u001b[1;32m    199\u001b[0m     \u001b[0;31m# calls in the traceback and some print out the last line\u001b[0m\u001b[0;34m\u001b[0m\u001b[0;34m\u001b[0m\u001b[0m\n\u001b[0;32m--> 200\u001b[0;31m     Variable._execution_engine.run_backward(  # Calls into the C++ engine to run the backward pass\n\u001b[0m\u001b[1;32m    201\u001b[0m         \u001b[0mtensors\u001b[0m\u001b[0;34m,\u001b[0m \u001b[0mgrad_tensors_\u001b[0m\u001b[0;34m,\u001b[0m \u001b[0mretain_graph\u001b[0m\u001b[0;34m,\u001b[0m \u001b[0mcreate_graph\u001b[0m\u001b[0;34m,\u001b[0m \u001b[0minputs\u001b[0m\u001b[0;34m,\u001b[0m\u001b[0;34m\u001b[0m\u001b[0;34m\u001b[0m\u001b[0m\n\u001b[1;32m    202\u001b[0m         allow_unreachable=True, accumulate_grad=True)  # Calls into the C++ engine to run the backward pass\n",
            "\u001b[0;31mRuntimeError\u001b[0m: one of the variables needed for gradient computation has been modified by an inplace operation: [torch.cuda.FloatTensor [32, 4096]], which is output 0 of ReluBackward0, is at version 1; expected version 0 instead. Hint: enable anomaly detection to find the operation that failed to compute its gradient, with torch.autograd.set_detect_anomaly(True)."
          ]
        }
      ]
    },
    {
      "cell_type": "markdown",
      "source": [
        "왜 안되는지 모르곘넹..."
      ],
      "metadata": {
        "id": "yaNdF-mGR_oL"
      }
    },
    {
      "cell_type": "code",
      "source": [
        "\n",
        "import torch\n",
        "import torch.nn as nn\n",
        "import torch.optim as optim\n",
        "import torch.nn.functional as F\n",
        "from torch.utils import data\n",
        "import torchvision.datasets as datasets\n",
        "import torchvision.transforms as transforms"
      ],
      "metadata": {
        "id": "PSPCL2UfUhdO"
      },
      "execution_count": 81,
      "outputs": []
    },
    {
      "cell_type": "code",
      "source": [
        "device = torch.device('cuda' if torch.cuda.is_available() else 'cpu')\n",
        "device   # cuda 지정"
      ],
      "metadata": {
        "colab": {
          "base_uri": "https://localhost:8080/"
        },
        "id": "ldzDemdjU7Kl",
        "outputId": "674616aa-20e2-4254-dd0b-188b319bf5f6"
      },
      "execution_count": 71,
      "outputs": [
        {
          "output_type": "execute_result",
          "data": {
            "text/plain": [
              "device(type='cuda')"
            ]
          },
          "metadata": {},
          "execution_count": 71
        }
      ]
    },
    {
      "cell_type": "code",
      "source": [
        " #논문 5. Details of learning 참고 parameter\n",
        "batch_size = 128\n",
        "momentum = 0.9\n",
        "lr_decay = 0.0005\n",
        "lr_init = 0.01\n",
        "image_dim = 227    # pixels\n",
        "num_classes = 1000   # 1000개의 class 지정\n",
        "device_ids = [0, 1, 2, 3]"
      ],
      "metadata": {
        "id": "GMydORaVU8d7"
      },
      "execution_count": 72,
      "outputs": []
    },
    {
      "cell_type": "code",
      "source": [
        "class AlexNet(nn.Module):\n",
        "\n",
        "  def __init__(self, num_classes=1000):\n",
        "    super().__init__()\n",
        "\n",
        "    ##### CNN layers\n",
        "    self.net = nn.Sequential(\n",
        "        # conv1\n",
        "        nn.Conv2d(in_channels=3, out_channels=96, kernel_size=11, stride=4),\n",
        "        nn.ReLU(inplace=True),  # non-saturating function\n",
        "        nn.LocalResponseNorm(size=5, alpha=0.0001, beta=0.75, k=2),  # 논문의 LRN 파라미터 그대로 지정\n",
        "        nn.MaxPool2d(kernel_size=3, stride=2),\n",
        "        # conv2\n",
        "        nn.Conv2d(96, 256, kernel_size=5, padding=2),\n",
        "        nn.ReLU(),\n",
        "        nn.LocalResponseNorm(size=5, alpha=0.0001, beta=0.75, k=2),\n",
        "        nn.MaxPool2d(kernel_size=3, stride=2),\n",
        "        # conv3\n",
        "        nn.Conv2d(256, 384, 3, padding=1),\n",
        "        nn.ReLU(),\n",
        "        # conv4\n",
        "        nn.Conv2d(384, 384, 3, padding=1),\n",
        "        nn.ReLU(),\n",
        "        # conv5\n",
        "        nn.Conv2d(384, 256, 3, padding=1),\n",
        "        nn.ReLU(),\n",
        "        nn.MaxPool2d(kernel_size=3, stride=2),\n",
        "\n",
        "    )\n",
        "\n",
        "    ##### FC layers\n",
        "    self.classifier = nn.Sequential(\n",
        "        # fc1\n",
        "        nn.Dropout(p=0.5, inplace=True),\n",
        "        nn.Linear(in_features=(256 * 6 * 6), out_features=4096),\n",
        "        nn.ReLU(inplace=True).\n",
        "        # fc2\n",
        "        nn.Dropout(p=0.5, inplace=True),\n",
        "        nn.Linear(4096, 4096),\n",
        "        nn.ReLU(inplace=True),\n",
        "        nn.Linear(4096, num_classes),\n",
        "    )\n",
        "\n",
        "    # bias, weight 초기화\n",
        "    def init_bias_weights(self):\n",
        "      for layer in self.net:\n",
        "        if isinstance(layer, nn.Conv2d):\n",
        "          nn.init.normal_(layer.weight, mean=0, std=0.01)   # weight 초기화\n",
        "          nn.init.constant_(layer.bias, 0)   # bias 초기화\n",
        "\n",
        "      # conv 2, 4, 5는 bias 1로 초기화\n",
        "      nn.init.constant_(self.net[4].bias, 1)\n",
        "      nn.init.constant_(self.net[10].bias, 1)\n",
        "      nn.init.constant_(self.net[12].bias, 1)\n",
        "\n",
        "    # modeling\n",
        "    def forward(self, x):\n",
        "      x = self.net(x)   # conv\n",
        "      x = x.view(-1, 256*6*6)   # keras의 reshape (텐서 크기 2d 변경)\n",
        "      return self.classifier(x)   # fc"
      ],
      "metadata": {
        "id": "95VYXTP8U8_U"
      },
      "execution_count": 82,
      "outputs": []
    },
    {
      "cell_type": "code",
      "source": [
        "if __name__== '__main__':\n",
        "  seed = torch.initial_seed()  # seed value 설정\n",
        "  model = AlexNet(num_classes=num_classes).to(device)\n",
        "  model = torch.nn.parallel.DataParallel(model, divice_ids=device_ids)  # 모델 설정\n",
        "  print(model)\n",
        "\n",
        "  # dataset, data loader 설정\n",
        "  dataset = datasets.ImageFolder(TRAIN_IMG_DIR, transforms.Compose([\n",
        "      transforms.CenterCrop(IMAGE_DIM),\n",
        "      transforms.ToTensor(),\n",
        "      transforms.Normalize(mean=[0.485, 0.456, 0.406], std=[0.229, 0.224, 0.225]),\n",
        "  ]))\n",
        "\n",
        "  dataloader = data.DataLoader(\n",
        "      dataset,\n",
        "      shuffle=True,\n",
        "      pin_memory=True,\n",
        "      num_workers=8,\n",
        "      drop_last=True,\n",
        "      batch_size=batch_size)\n",
        "\n",
        "  # optimizer\n",
        "  optimizer = optim.SGD(\n",
        "      params = model.parameters(),\n",
        "      lr = lr_init,\n",
        "      momentum = momentum,\n",
        "      weight_decay = lr_decay  # lr 점점 감소\n",
        "  )\n",
        "\n",
        "  lr_scheduler = optim.lr_scheduler.StepLR(optimizer, step_size=30, gamma=0.1)   # lr 점점 감소\n",
        "\n",
        "  # training\n",
        "  total_steps=1\n",
        "  for epoch in range(num_epochs):\n",
        "    lr_scheduler.step()\n",
        "\n",
        "    for imgs, classes in dataloader:\n",
        "      imgs, classes = imgs.to(device), classes.to(device)\n",
        "\n",
        "      output = alexnet(imgs)\n",
        "      loss = F.cross_entropy(output, classes)  # loss 계산\n",
        "\n",
        "      optimizer.zero_grad()\n",
        "      loss.backward()  # backpropa\n",
        "      optimizer.step()  # parameter update"
      ],
      "metadata": {
        "colab": {
          "base_uri": "https://localhost:8080/",
          "height": 392
        },
        "id": "LiFfF5SGVDkK",
        "outputId": "64530b81-d144-4da9-e852-a2f32326db2c"
      },
      "execution_count": 83,
      "outputs": [
        {
          "output_type": "error",
          "ename": "AttributeError",
          "evalue": "ignored",
          "traceback": [
            "\u001b[0;31m---------------------------------------------------------------------------\u001b[0m",
            "\u001b[0;31mAttributeError\u001b[0m                            Traceback (most recent call last)",
            "\u001b[0;32m<ipython-input-83-543a69d9fd13>\u001b[0m in \u001b[0;36m<cell line: 1>\u001b[0;34m()\u001b[0m\n\u001b[1;32m      1\u001b[0m \u001b[0;32mif\u001b[0m \u001b[0m__name__\u001b[0m\u001b[0;34m==\u001b[0m \u001b[0;34m'__main__'\u001b[0m\u001b[0;34m:\u001b[0m\u001b[0;34m\u001b[0m\u001b[0;34m\u001b[0m\u001b[0m\n\u001b[1;32m      2\u001b[0m   \u001b[0mseed\u001b[0m \u001b[0;34m=\u001b[0m \u001b[0mtorch\u001b[0m\u001b[0;34m.\u001b[0m\u001b[0minitial_seed\u001b[0m\u001b[0;34m(\u001b[0m\u001b[0;34m)\u001b[0m  \u001b[0;31m# seed value 설정\u001b[0m\u001b[0;34m\u001b[0m\u001b[0;34m\u001b[0m\u001b[0m\n\u001b[0;32m----> 3\u001b[0;31m   \u001b[0mmodel\u001b[0m \u001b[0;34m=\u001b[0m \u001b[0mAlexNet\u001b[0m\u001b[0;34m(\u001b[0m\u001b[0mnum_classes\u001b[0m\u001b[0;34m=\u001b[0m\u001b[0mnum_classes\u001b[0m\u001b[0;34m)\u001b[0m\u001b[0;34m.\u001b[0m\u001b[0mto\u001b[0m\u001b[0;34m(\u001b[0m\u001b[0mdevice\u001b[0m\u001b[0;34m)\u001b[0m\u001b[0;34m\u001b[0m\u001b[0;34m\u001b[0m\u001b[0m\n\u001b[0m\u001b[1;32m      4\u001b[0m   \u001b[0mmodel\u001b[0m \u001b[0;34m=\u001b[0m \u001b[0mtorch\u001b[0m\u001b[0;34m.\u001b[0m\u001b[0mnn\u001b[0m\u001b[0;34m.\u001b[0m\u001b[0mparallel\u001b[0m\u001b[0;34m.\u001b[0m\u001b[0mDataParallel\u001b[0m\u001b[0;34m(\u001b[0m\u001b[0mmodel\u001b[0m\u001b[0;34m,\u001b[0m \u001b[0mdivice_ids\u001b[0m\u001b[0;34m=\u001b[0m\u001b[0mdevice_ids\u001b[0m\u001b[0;34m)\u001b[0m  \u001b[0;31m# 모델 설정\u001b[0m\u001b[0;34m\u001b[0m\u001b[0;34m\u001b[0m\u001b[0m\n\u001b[1;32m      5\u001b[0m   \u001b[0mprint\u001b[0m\u001b[0;34m(\u001b[0m\u001b[0mmodel\u001b[0m\u001b[0;34m)\u001b[0m\u001b[0;34m\u001b[0m\u001b[0;34m\u001b[0m\u001b[0m\n",
            "\u001b[0;32m<ipython-input-82-3f946743ac84>\u001b[0m in \u001b[0;36m__init__\u001b[0;34m(self, num_classes)\u001b[0m\n\u001b[1;32m     36\u001b[0m         \u001b[0mnn\u001b[0m\u001b[0;34m.\u001b[0m\u001b[0mReLU\u001b[0m\u001b[0;34m(\u001b[0m\u001b[0minplace\u001b[0m\u001b[0;34m=\u001b[0m\u001b[0;32mTrue\u001b[0m\u001b[0;34m)\u001b[0m\u001b[0;34m.\u001b[0m\u001b[0;34m\u001b[0m\u001b[0;34m\u001b[0m\u001b[0m\n\u001b[1;32m     37\u001b[0m         \u001b[0;31m# fc2\u001b[0m\u001b[0;34m\u001b[0m\u001b[0;34m\u001b[0m\u001b[0m\n\u001b[0;32m---> 38\u001b[0;31m         \u001b[0mnn\u001b[0m\u001b[0;34m.\u001b[0m\u001b[0mDropout\u001b[0m\u001b[0;34m(\u001b[0m\u001b[0mp\u001b[0m\u001b[0;34m=\u001b[0m\u001b[0;36m0.5\u001b[0m\u001b[0;34m,\u001b[0m \u001b[0minplace\u001b[0m\u001b[0;34m=\u001b[0m\u001b[0;32mTrue\u001b[0m\u001b[0;34m)\u001b[0m\u001b[0;34m,\u001b[0m\u001b[0;34m\u001b[0m\u001b[0;34m\u001b[0m\u001b[0m\n\u001b[0m\u001b[1;32m     39\u001b[0m         \u001b[0mnn\u001b[0m\u001b[0;34m.\u001b[0m\u001b[0mLinear\u001b[0m\u001b[0;34m(\u001b[0m\u001b[0;36m4096\u001b[0m\u001b[0;34m,\u001b[0m \u001b[0;36m4096\u001b[0m\u001b[0;34m)\u001b[0m\u001b[0;34m,\u001b[0m\u001b[0;34m\u001b[0m\u001b[0;34m\u001b[0m\u001b[0m\n\u001b[1;32m     40\u001b[0m         \u001b[0mnn\u001b[0m\u001b[0;34m.\u001b[0m\u001b[0mReLU\u001b[0m\u001b[0;34m(\u001b[0m\u001b[0minplace\u001b[0m\u001b[0;34m=\u001b[0m\u001b[0;32mTrue\u001b[0m\u001b[0;34m)\u001b[0m\u001b[0;34m,\u001b[0m\u001b[0;34m\u001b[0m\u001b[0;34m\u001b[0m\u001b[0m\n",
            "\u001b[0;32m/usr/local/lib/python3.10/dist-packages/torch/nn/modules/module.py\u001b[0m in \u001b[0;36m__getattr__\u001b[0;34m(self, name)\u001b[0m\n\u001b[1;32m   1612\u001b[0m             \u001b[0;32mif\u001b[0m \u001b[0mname\u001b[0m \u001b[0;32min\u001b[0m \u001b[0mmodules\u001b[0m\u001b[0;34m:\u001b[0m\u001b[0;34m\u001b[0m\u001b[0;34m\u001b[0m\u001b[0m\n\u001b[1;32m   1613\u001b[0m                 \u001b[0;32mreturn\u001b[0m \u001b[0mmodules\u001b[0m\u001b[0;34m[\u001b[0m\u001b[0mname\u001b[0m\u001b[0;34m]\u001b[0m\u001b[0;34m\u001b[0m\u001b[0;34m\u001b[0m\u001b[0m\n\u001b[0;32m-> 1614\u001b[0;31m         raise AttributeError(\"'{}' object has no attribute '{}'\".format(\n\u001b[0m\u001b[1;32m   1615\u001b[0m             type(self).__name__, name))\n\u001b[1;32m   1616\u001b[0m \u001b[0;34m\u001b[0m\u001b[0m\n",
            "\u001b[0;31mAttributeError\u001b[0m: 'ReLU' object has no attribute 'nn'"
          ]
        }
      ]
    },
    {
      "cell_type": "code",
      "source": [
        "pip install tensorboardcolab   # tensorboard 설치\n"
      ],
      "metadata": {
        "id": "sTaDXk-zVG7l"
      },
      "execution_count": null,
      "outputs": []
    },
    {
      "cell_type": "markdown",
      "source": [
        "재도전"
      ],
      "metadata": {
        "id": "5xyIOucXWL5o"
      }
    },
    {
      "cell_type": "code",
      "source": [
        "import torch\n",
        "import torch.nn as nn\n",
        "import torch.nn.functional as F\n",
        "from torchsummary import summary\n",
        "from torchvision import transforms\n",
        "\n",
        "\n",
        "class AlexNet(nn.Module):\n",
        "    def __init__(self):\n",
        "        super(AlexNet, self).__init__()\n",
        "        self.conv1 = nn.Conv2d(in_channels=1, out_channels=96, kernel_size=11, stride=4)\n",
        "        self.conv2 = nn.Conv2d(in_channels=96, out_channels=256, kernel_size=5, padding=2)\n",
        "        self.conv3 = nn.Conv2d(in_channels=256, out_channels=384, kernel_size=3, padding=1)\n",
        "        self.conv4 = nn.Conv2d(in_channels=384, out_channels=384, kernel_size=3, padding=1)\n",
        "        self.conv5 = nn.Conv2d(in_channels=384, out_channels=256, kernel_size=3, padding=1) # conv5와 fc1 사이에 view 들어간다.\n",
        "        self.fc1 = nn.Linear(in_features=256 * 6 * 6, out_features=4096) # fc layer\n",
        "        self.fc2 = nn.Linear(in_features=4096, out_features=4096)\n",
        "        self.fc3 = nn.Linear(in_features=4096, out_features=10)\n",
        "\n",
        "    def forward(self, x):\n",
        "        x = F.relu(self.conv1(x))\n",
        "        x = F.max_pool2d(x, kernel_size=3, stride=2)\n",
        "\n",
        "        x = F.relu(self.conv2(x))\n",
        "        x = F.max_pool2d(x, kernel_size=3, stride=2)\n",
        "\n",
        "        x = F.relu(self.conv3(x))\n",
        "        x = F.relu(self.conv4(x))\n",
        "        x = F.relu(self.conv5(x))\n",
        "        x = F.max_pool2d(x, kernel_size=3, stride=2)\n",
        "\n",
        "        x = x.view(x.size(0), -1) # 4차원을 1차원으로 펼쳐주는 층 (역할) -> flatten\n",
        "\n",
        "        x = F.relu(self.fc1(x))\n",
        "        x = F.dropout(x, p=0.5)\n",
        "\n",
        "        x = F.relu(self.fc2(x))\n",
        "        x = F.dropout(x, p=0.5)\n",
        "\n",
        "        x = F.log_softmax(self.fc3(x), dim=1)\n",
        "\n",
        "        return x\n",
        "\n",
        "    @staticmethod\n",
        "    def transform():\n",
        "        return transforms.Compose([transforms.Resize((227, 227)),\n",
        "                                   transforms.ToTensor(),\n",
        "                                   transforms.Normalize(mean=(0.1307,), std=(0.3081,))])\n",
        "if __name__ == \"__main__\":\n",
        "    # if gpu is to be used\n",
        "    use_cuda = torch.cuda.is_available()\n",
        "    print(\"use_cuda : \", use_cuda)\n",
        "\n",
        "    FloatTensor = torch.cuda.FloatTensor if use_cuda else torch.FloatTensor\n",
        "    device= torch.device(\"cuda:0\" if use_cuda else \"cpu\")\n",
        "\n",
        "    net = AlexNet().to(device)\n",
        "\n",
        "    X = torch.randn(size=(1, 1, 227, 227)).type(FloatTensor)\n",
        "    print(net(X))\n",
        "    print(summary(net, (1, 227, 227)))"
      ],
      "metadata": {
        "colab": {
          "base_uri": "https://localhost:8080/"
        },
        "id": "EGUgWLeLWtyS",
        "outputId": "6cf0e853-61a8-4111-bfb0-2440d91ce3b9"
      },
      "execution_count": 89,
      "outputs": [
        {
          "output_type": "stream",
          "name": "stdout",
          "text": [
            "use_cuda :  True\n",
            "tensor([[-2.2898, -2.2880, -2.3073, -2.2927, -2.3028, -2.3245, -2.3268, -2.2984,\n",
            "         -2.2979, -2.2983]], device='cuda:0', grad_fn=<LogSoftmaxBackward0>)\n",
            "----------------------------------------------------------------\n",
            "        Layer (type)               Output Shape         Param #\n",
            "================================================================\n",
            "            Conv2d-1           [-1, 96, 55, 55]          11,712\n",
            "            Conv2d-2          [-1, 256, 27, 27]         614,656\n",
            "            Conv2d-3          [-1, 384, 13, 13]         885,120\n",
            "            Conv2d-4          [-1, 384, 13, 13]       1,327,488\n",
            "            Conv2d-5          [-1, 256, 13, 13]         884,992\n",
            "            Linear-6                 [-1, 4096]      37,752,832\n",
            "            Linear-7                 [-1, 4096]      16,781,312\n",
            "            Linear-8                   [-1, 10]          40,970\n",
            "================================================================\n",
            "Total params: 58,299,082\n",
            "Trainable params: 58,299,082\n",
            "Non-trainable params: 0\n",
            "----------------------------------------------------------------\n",
            "Input size (MB): 0.20\n",
            "Forward/backward pass size (MB): 5.02\n",
            "Params size (MB): 222.39\n",
            "Estimated Total Size (MB): 227.61\n",
            "----------------------------------------------------------------\n",
            "None\n"
          ]
        }
      ]
    },
    {
      "cell_type": "code",
      "source": [
        "if __name__==\"__main__\":\n",
        "    # hyper parameter\n",
        "    batch_size = 512\n",
        "    num_epochs = 20\n",
        "    learning_rate = 0.0001\n",
        "\n",
        "    # data load\n",
        "    root = './MNIST_Fashion'\n",
        "    transform = AlexNet.transform()\n",
        "    train_set = datasets.FashionMNIST(root=root, train=True, transform=transform, download=True)\n",
        "    train_loader = torch.utils.data.DataLoader(train_set, batch_size=batch_size, shuffle=True)\n",
        "    test_set = datasets.FashionMNIST(root=root, train=False, transform=transform, download=True)\n",
        "    test_loader = torch.utils.data.DataLoader(test_set, batch_size=batch_size, shuffle=True)\n",
        "\n",
        "\n",
        "    # if gpu is to be used\n",
        "    use_cuda = torch.cuda.is_available()\n",
        "    print(\"use_cuda : \", use_cuda)\n",
        "    device = torch.device(\"cuda:0\" if use_cuda else \"cpu\")\n",
        "    model = AlexNet().to(device)\n",
        "    criterion = F.nll_loss\n",
        "    optimizer = optim.Adam(model.parameters(), lr=learning_rate)\n",
        "\n",
        "\n",
        "    def train(model, device, train_loader, optimizer, epoch):\n",
        "        model.train()\n",
        "        for batch_idx, (data, target) in enumerate(train_loader):\n",
        "            target = target.type(torch.LongTensor)\n",
        "            data, target = data.to(device), target.to(device)\n",
        "            optimizer.zero_grad()\n",
        "            output = model(data)\n",
        "            loss = criterion(output, target)\n",
        "            loss.backward()\n",
        "            optimizer.step()\n",
        "            if (batch_idx + 1) % 30 == 0:\n",
        "                print(\"Train Epoch:{} [{}/{} ({:.0f}%)]\\tLoss: {:.6f}\".format(\n",
        "                    epoch, batch_idx * len(data), len(train_loader.dataset),\n",
        "                    100. * batch_idx / len(train_loader), loss.item()))\n",
        "\n",
        "    def test(model, device, test_loader):\n",
        "        model.eval()\n",
        "        test_loss = 0\n",
        "        correct = 0\n",
        "        with torch.no_grad():\n",
        "            for data, target in test_loader:\n",
        "                data, target = data.to(device), target.to(device)\n",
        "                output = model(data)\n",
        "                test_loss += criterion(output, target, reduction='sum').item()\n",
        "                pred = output.max(1, keepdim=True)[1]\n",
        "                correct += pred.eq(target.view_as(pred)).sum().item()\n",
        "\n",
        "            test_loss /= len(test_loader.dataset)\n",
        "            print(\"\\nTest set: Average loss: {:.4f}, Accuracy: {}/{} ({:.0f}%)\\n\".format(\n",
        "                test_loss, correct, len(test_loader.dataset), 100. * correct / len(test_loader.dataset)))\n",
        "            print('='*50)"
      ],
      "metadata": {
        "colab": {
          "base_uri": "https://localhost:8080/"
        },
        "id": "6PRu1ah_WvAd",
        "outputId": "ee20faa3-1272-49ee-b92d-6628e4987b1c"
      },
      "execution_count": 90,
      "outputs": [
        {
          "output_type": "stream",
          "name": "stdout",
          "text": [
            "Downloading http://fashion-mnist.s3-website.eu-central-1.amazonaws.com/train-images-idx3-ubyte.gz\n",
            "Downloading http://fashion-mnist.s3-website.eu-central-1.amazonaws.com/train-images-idx3-ubyte.gz to ./MNIST_Fashion/FashionMNIST/raw/train-images-idx3-ubyte.gz\n"
          ]
        },
        {
          "output_type": "stream",
          "name": "stderr",
          "text": [
            "100%|██████████| 26421880/26421880 [00:01<00:00, 15853022.93it/s]\n"
          ]
        },
        {
          "output_type": "stream",
          "name": "stdout",
          "text": [
            "Extracting ./MNIST_Fashion/FashionMNIST/raw/train-images-idx3-ubyte.gz to ./MNIST_Fashion/FashionMNIST/raw\n",
            "\n",
            "Downloading http://fashion-mnist.s3-website.eu-central-1.amazonaws.com/train-labels-idx1-ubyte.gz\n",
            "Downloading http://fashion-mnist.s3-website.eu-central-1.amazonaws.com/train-labels-idx1-ubyte.gz to ./MNIST_Fashion/FashionMNIST/raw/train-labels-idx1-ubyte.gz\n"
          ]
        },
        {
          "output_type": "stream",
          "name": "stderr",
          "text": [
            "100%|██████████| 29515/29515 [00:00<00:00, 271073.40it/s]\n"
          ]
        },
        {
          "output_type": "stream",
          "name": "stdout",
          "text": [
            "Extracting ./MNIST_Fashion/FashionMNIST/raw/train-labels-idx1-ubyte.gz to ./MNIST_Fashion/FashionMNIST/raw\n",
            "\n",
            "Downloading http://fashion-mnist.s3-website.eu-central-1.amazonaws.com/t10k-images-idx3-ubyte.gz\n",
            "Downloading http://fashion-mnist.s3-website.eu-central-1.amazonaws.com/t10k-images-idx3-ubyte.gz to ./MNIST_Fashion/FashionMNIST/raw/t10k-images-idx3-ubyte.gz\n"
          ]
        },
        {
          "output_type": "stream",
          "name": "stderr",
          "text": [
            "100%|██████████| 4422102/4422102 [00:00<00:00, 5064142.62it/s]\n"
          ]
        },
        {
          "output_type": "stream",
          "name": "stdout",
          "text": [
            "Extracting ./MNIST_Fashion/FashionMNIST/raw/t10k-images-idx3-ubyte.gz to ./MNIST_Fashion/FashionMNIST/raw\n",
            "\n",
            "Downloading http://fashion-mnist.s3-website.eu-central-1.amazonaws.com/t10k-labels-idx1-ubyte.gz\n",
            "Downloading http://fashion-mnist.s3-website.eu-central-1.amazonaws.com/t10k-labels-idx1-ubyte.gz to ./MNIST_Fashion/FashionMNIST/raw/t10k-labels-idx1-ubyte.gz\n"
          ]
        },
        {
          "output_type": "stream",
          "name": "stderr",
          "text": [
            "100%|██████████| 5148/5148 [00:00<00:00, 20983748.29it/s]\n"
          ]
        },
        {
          "output_type": "stream",
          "name": "stdout",
          "text": [
            "Extracting ./MNIST_Fashion/FashionMNIST/raw/t10k-labels-idx1-ubyte.gz to ./MNIST_Fashion/FashionMNIST/raw\n",
            "\n",
            "use_cuda :  True\n"
          ]
        }
      ]
    },
    {
      "cell_type": "code",
      "source": [
        "for epoch in range(1, num_epochs + 1):\n",
        "    train(model, device, train_loader, optimizer, epoch)\n",
        "    test(model, device, test_loader)"
      ],
      "metadata": {
        "colab": {
          "base_uri": "https://localhost:8080/"
        },
        "id": "dnBF8q97Wz8s",
        "outputId": "3fc8f320-6fd8-4566-f8ce-70d15eaf95cd"
      },
      "execution_count": null,
      "outputs": [
        {
          "output_type": "stream",
          "name": "stdout",
          "text": [
            "Train Epoch:1 [14848/60000 (25%)]\tLoss: 0.820790\n"
          ]
        }
      ]
    }
  ]
}